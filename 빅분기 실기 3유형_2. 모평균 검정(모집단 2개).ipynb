{
 "cells": [
  {
   "cell_type": "markdown",
   "id": "12e56d52",
   "metadata": {},
   "source": [
    "# 검정방법"
   ]
  },
  {
   "cell_type": "markdown",
   "id": "6723e7bd",
   "metadata": {},
   "source": [
    "## 1. 대응표본(상체) : 동일한 객체의 전 vs 후 평균비교"
   ]
  },
  {
   "cell_type": "markdown",
   "id": "c43f9b27",
   "metadata": {},
   "source": [
    "### · (정규성O) 대응표본(쌍체) t검정(paired t-test) : 동일한 객체의 전 vs 후 평균비교\n",
    "### · (정규성X) 윌콕슨 부호순위 검정(wilcoxon)"
   ]
  },
  {
   "cell_type": "markdown",
   "id": "6529c110",
   "metadata": {},
   "source": [
    "## 2. 독립표본 : A집단의 평균 vs B집단의 평균"
   ]
  },
  {
   "cell_type": "markdown",
   "id": "8f04aad4",
   "metadata": {},
   "source": [
    "### ·(정규성O) 독립표본 t검정(2sample t-test)\n",
    "### ·(정규성 X) 윌콕슨위 순위합 검정(ranksums)"
   ]
  },
  {
   "cell_type": "markdown",
   "id": "a85e9173",
   "metadata": {},
   "source": [
    "# 가설검정 순서"
   ]
  },
  {
   "cell_type": "markdown",
   "id": "8a5de699",
   "metadata": {},
   "source": [
    "## 1. 대응표본(쌍체) t검정(paired t-test)"
   ]
  },
  {
   "cell_type": "markdown",
   "id": "baf03286",
   "metadata": {},
   "source": [
    "### 1. 가설설정\n",
    "### 2. 유의수준 확인\n",
    "### 3. 정규성 검정 (주의) 차이값에 대한 정규성\n",
    "### 4. 검정실시 (통계량, p-value 확인)\n",
    "### 5. 귀무가설 기각여부 결정(채택/기각)"
   ]
  },
  {
   "cell_type": "markdown",
   "id": "6f137f12",
   "metadata": {},
   "source": [
    "## 2. 독립표본 t검정(2sample t-test)"
   ]
  },
  {
   "cell_type": "markdown",
   "id": "398e3d26",
   "metadata": {},
   "source": [
    "### 1. 가설설정\n",
    "### 2. 유의수준 확인\n",
    "### 3. 정규성 검정(주의) 두 집단 모두 정규성을 따를 경우\n",
    "### 4. 등분산 검정\n",
    "### 5. 검정실시(통계량, p-value 확인) (주의) 등분산 여부 확인\n",
    "### 6. 귀무가설 기각여부(채택/기각)"
   ]
  },
  {
   "cell_type": "markdown",
   "id": "2f891412",
   "metadata": {},
   "source": [
    "# 예제문제"
   ]
  },
  {
   "cell_type": "markdown",
   "id": "e6b2661a",
   "metadata": {},
   "source": [
    "## Case 1) 대응표본(쌍체) t검정(paired t-test)"
   ]
  },
  {
   "cell_type": "markdown",
   "id": "be39c1e9",
   "metadata": {},
   "source": [
    "### 문제 1-1\n",
    "#### 다음은 혈압약을 먹은 전,후의 혈압 데이터이다.\n",
    "#### 혈압약을 먹기 전, 후의 차이가 있는지 쌍체 t 검정을 실시하시오.\n",
    "#### (유의수준5%)\n",
    "#### · before : 혈압약을 먹기 전 혈압, after : 혈압약을 먹은 후 혈압\n",
    "#### · H0(귀무가설) : after - before = 0\n",
    "#### · H1(대립가설) : after - before ≠ 0"
   ]
  },
  {
   "cell_type": "code",
   "execution_count": 1,
   "id": "5fc8cca4",
   "metadata": {},
   "outputs": [],
   "source": [
    "import pandas as pd\n",
    "import numpy as np\n",
    "import scipy.stats as stats\n",
    "from scipy.stats import shapiro"
   ]
  },
  {
   "cell_type": "code",
   "execution_count": 2,
   "id": "5dea1b7c",
   "metadata": {},
   "outputs": [
    {
     "name": "stdout",
     "output_type": "stream",
     "text": [
      "   before  after\n",
      "0     120    110\n",
      "1     135    132\n",
      "2     122    123\n"
     ]
    }
   ],
   "source": [
    "# 데이터 만들기\n",
    "df = pd.DataFrame({\n",
    "    'before': [120, 135, 122, 124, 135, 122, 145, 160, 155, 142, 144, 135, 167],\n",
    "    'after': [110, 132, 123, 119, 123, 115, 140, 162, 142, 138, 135, 142, 160]})\n",
    "print(df.head(3))"
   ]
  },
  {
   "cell_type": "code",
   "execution_count": 3,
   "id": "1a05aea2",
   "metadata": {},
   "outputs": [],
   "source": [
    "# 1. 가설설정\n",
    "# H0 : 약을 먹기 전과 먹은 후의 혈압평균은 같다.(효과가 없다.)\n",
    "# H1 : 약을 먹기 전과 먹은 후의 혈얍평균은 같지 않다.(효과가 있다.)"
   ]
  },
  {
   "cell_type": "code",
   "execution_count": 4,
   "id": "3aaec573",
   "metadata": {},
   "outputs": [],
   "source": [
    "# 2. 유의수준 확인 : 유의수준 5%로 확인"
   ]
  },
  {
   "cell_type": "code",
   "execution_count": 5,
   "id": "f67a3af6",
   "metadata": {},
   "outputs": [
    {
     "name": "stdout",
     "output_type": "stream",
     "text": [
      "0.9589 0.7363\n"
     ]
    }
   ],
   "source": [
    "# 3. 정규성 검정 (차이값에 대해 정규성 확인)\n",
    "statistic, pvalue = stats.shapiro(df['after']-df['before'])\n",
    "print(round(statistic,4), round(pvalue,4))"
   ]
  },
  {
   "cell_type": "code",
   "execution_count": 6,
   "id": "60b081f9",
   "metadata": {},
   "outputs": [],
   "source": [
    "# p-value 값이 유의수준(0.05)보다 크다.\n",
    "# 귀무가설(H0) 채택(정규성검정의 H0 : 정규분포를 따른다.)"
   ]
  },
  {
   "cell_type": "code",
   "execution_count": 7,
   "id": "1fce0b27",
   "metadata": {},
   "outputs": [
    {
     "name": "stdout",
     "output_type": "stream",
     "text": [
      "-3.1382 0.0086\n"
     ]
    }
   ],
   "source": [
    "# 4.1 (정규성O) 대응표본(쌍체) t검정(paired t-test)\n",
    "statistic, pvalue = stats.ttest_rel(df['after'],df['before'], alternative = 'two-sided')\n",
    "print(round(statistic,4), round(pvalue,4))"
   ]
  },
  {
   "cell_type": "code",
   "execution_count": 8,
   "id": "d4693dfc",
   "metadata": {},
   "outputs": [
    {
     "name": "stdout",
     "output_type": "stream",
     "text": [
      "11.0 0.0134\n"
     ]
    }
   ],
   "source": [
    "# 4.2 (정규성X) wilcoxon 부호순위 검정\n",
    "statistic, pvalue = stats.wilcoxon(df['after']-df['before'], alternative='two-sided')\n",
    "print(round(statistic,4), round(pvalue,4))"
   ]
  },
  {
   "cell_type": "code",
   "execution_count": 9,
   "id": "23fbca61",
   "metadata": {},
   "outputs": [],
   "source": [
    "# 5. 귀무가설 기각여부 결정(채택/기각)\n",
    "# p-value 값이 0.5보다 작기 때문에 귀무가설을 기각한다.\n",
    "# 즉, 약을 먹기 전과 먹은 후의 혈압 평균은 같지 않다.(효과가 있다.)\n",
    "\n",
    "# 답 : 기각"
   ]
  },
  {
   "cell_type": "markdown",
   "id": "7422c4da",
   "metadata": {},
   "source": [
    "### 문제 1-2\n",
    "#### 다음은 혈압약을 먹은 전,후의 혈압 데이터이다.\n",
    "#### 혈압약을 먹은 후 혈압이 감소했는지 확인하기 위해 쌍체 t 검정을 실시하시오.\n",
    "#### (유의수준5%)\n",
    "#### · before : 혈압약을 먹기 전 혈압, after : 혈압약을 먹은 후 혈압\n",
    "#### · H0(귀무가설) : after - before >= 0\n",
    "#### · H1(대립가설) : after - before < 0"
   ]
  },
  {
   "cell_type": "code",
   "execution_count": 10,
   "id": "3b3788ad",
   "metadata": {},
   "outputs": [
    {
     "name": "stdout",
     "output_type": "stream",
     "text": [
      "   before  after\n",
      "0     120    110\n",
      "1     135    132\n",
      "2     122    123\n"
     ]
    }
   ],
   "source": [
    "# 데이터 만들기\n",
    "df = pd.DataFrame({\n",
    "    'before': [120, 135, 122, 124, 135, 122, 145, 160, 155, 142, 144, 135, 167],\n",
    "    'after': [110, 132, 123, 119, 123, 115, 140, 162, 142, 138, 135, 142, 160]})\n",
    "print(df.head(3))"
   ]
  },
  {
   "cell_type": "code",
   "execution_count": 11,
   "id": "4764047f",
   "metadata": {},
   "outputs": [],
   "source": [
    "# 1. 가설설정\n",
    "# H0 : 약을 먹은 후 혈압이 같거나 증가했다. (after - before >= 0)\n",
    "# H1 : 약을 먹은 후 혈압이 감소했다. (after - before < 0)"
   ]
  },
  {
   "cell_type": "code",
   "execution_count": 12,
   "id": "4af27d0a",
   "metadata": {},
   "outputs": [],
   "source": [
    "# 2. 유의수준 확인 : 유의수준 5%로 확인"
   ]
  },
  {
   "cell_type": "code",
   "execution_count": 13,
   "id": "63cc4fd5",
   "metadata": {},
   "outputs": [
    {
     "name": "stdout",
     "output_type": "stream",
     "text": [
      "0.9589 0.7363\n"
     ]
    }
   ],
   "source": [
    "# 3. 정규성 검정 (차이값에 대해 정규성 확인)\n",
    "statistic, pvalue = stats.shapiro(df['after']-df['before'])\n",
    "print(round(statistic,4),round(pvalue,4))"
   ]
  },
  {
   "cell_type": "code",
   "execution_count": 15,
   "id": "7f931428",
   "metadata": {},
   "outputs": [
    {
     "name": "stdout",
     "output_type": "stream",
     "text": [
      "-3.1382 0.0043\n"
     ]
    }
   ],
   "source": [
    "# 4.1 (정규성O) 대응표본(쌍체) t검정(paired t-test)\n",
    "statistic, pvalue = stats.ttest_rel(df['after'],df['before'], alternative = 'less')\n",
    "print(round(statistic,4), round(pvalue,4))"
   ]
  },
  {
   "cell_type": "code",
   "execution_count": 16,
   "id": "d5b62428",
   "metadata": {},
   "outputs": [
    {
     "name": "stdout",
     "output_type": "stream",
     "text": [
      "11.0 0.0067\n"
     ]
    }
   ],
   "source": [
    "# 4,2 (정규성X) wilcoxon 부호순위 검정\n",
    "statistic, pvalue = stats.wilcoxon(df['after']-df['before'],alternative='less')\n",
    "print(round(statistic,4),round(pvalue,4))"
   ]
  },
  {
   "cell_type": "code",
   "execution_count": 17,
   "id": "ad2650df",
   "metadata": {},
   "outputs": [],
   "source": [
    "# 5. 귀무가설 기각여부 결정(채택/기각)\n",
    "# p-value 값이 0.05보다 작기 때문에 귀무가설을 기각한다.\n",
    "# 즉, 약을 먹은 후 혈압이 감소했다고 할 수 있다.\n",
    "\n",
    "# 답 : 기각"
   ]
  },
  {
   "cell_type": "markdown",
   "id": "5eb1d967",
   "metadata": {},
   "source": [
    "## Case 2) 독립표본 t검정(2sample t-test)"
   ]
  },
  {
   "cell_type": "markdown",
   "id": "50404c68",
   "metadata": {},
   "source": [
    "### 문제 2-1\n",
    "#### 다음은 A그룹과 B그룹 인원의 혈압 데이터이다.\n",
    "#### 두 그룹의 혈압평균이 다르다고 할 수 있는지 독립표본 t검정을 실시하시오.\n",
    "#### (유의수준5%)\n",
    "#### · A : A그룹 인원의 혈압, B : B그룹 인원의 혈압\n",
    "#### · H0(귀무가설) : A = B\n",
    "#### · H1(대립가설) : A ≠ B"
   ]
  },
  {
   "cell_type": "code",
   "execution_count": 18,
   "id": "6a66f98d",
   "metadata": {
    "scrolled": true
   },
   "outputs": [
    {
     "name": "stdout",
     "output_type": "stream",
     "text": [
      "     A    B\n",
      "0  120  110\n",
      "1  135  132\n",
      "2  122  123\n"
     ]
    }
   ],
   "source": [
    "# 데이터 만들기\n",
    "df = pd.DataFrame({\n",
    "    'A': [120, 135, 122, 124, 135, 122, 145, 160, 155, 142, 144, 135, 167],\n",
    "    'B': [110, 132, 123, 119, 123, 115, 140, 162, 142, 138, 135, 142, 160]})\n",
    "print(df.head(3))"
   ]
  },
  {
   "cell_type": "code",
   "execution_count": 19,
   "id": "a16c2b08",
   "metadata": {},
   "outputs": [],
   "source": [
    "# 1. 가설설정\n",
    "# H0 : A그룹과 B그룹의 혈압 평균은 같다. (A = B)\n",
    "# H1 : A그룹과 B그룹의 혈압 평균은 같지 않다. (A ≠ B)"
   ]
  },
  {
   "cell_type": "code",
   "execution_count": 20,
   "id": "d5e453d4",
   "metadata": {},
   "outputs": [],
   "source": [
    "# 2. 유의수준 확인 : 유의수준 5%로 확인"
   ]
  },
  {
   "cell_type": "code",
   "execution_count": 21,
   "id": "0d7857ca",
   "metadata": {},
   "outputs": [
    {
     "name": "stdout",
     "output_type": "stream",
     "text": [
      "0.9314 0.3559\n",
      "0.9498 0.5956\n"
     ]
    }
   ],
   "source": [
    "# 3. 정규성 검정\n",
    "# H0(귀무가설) : 정규분포를 따른다.\n",
    "# H1(대립가설) : 정규분포를 따르지 않는다.\n",
    "\n",
    "statisticA, pvalueA = stats.shapiro(df['A'])\n",
    "statisticB, pvalueB = stats.shapiro(df['B'])\n",
    "\n",
    "print(round(statisticA,4),round(pvalueA,4))\n",
    "print(round(statisticB,4),round(pvalueB,4))"
   ]
  },
  {
   "cell_type": "code",
   "execution_count": 22,
   "id": "28f49daa",
   "metadata": {},
   "outputs": [],
   "source": [
    "# p-value 값이 유의수준(0.05)보다 크다.\n",
    "# 귀무가설(H0) 채택\n",
    "# 만약 하나라도 정규분포를 따르지 않는다면 비모수 검정방법을 써야 함\n",
    "# (윌콘슨의 순위합 검정 ranksum)"
   ]
  },
  {
   "cell_type": "code",
   "execution_count": 23,
   "id": "14961fa2",
   "metadata": {},
   "outputs": [
    {
     "name": "stdout",
     "output_type": "stream",
     "text": [
      "0.0279 0.8673\n"
     ]
    }
   ],
   "source": [
    "# 4. 등분산성 검정\n",
    "# H0(귀무가설) : 등분산 한다.\n",
    "# H1(대립가설) : 등분산 하지 않는다.\n",
    "statistic, pvalue = stats.bartlett(df['A'], df['B'])\n",
    "print(round(statistic, 4), round(pvalue, 4))"
   ]
  },
  {
   "cell_type": "code",
   "execution_count": 24,
   "id": "3a4a0889",
   "metadata": {},
   "outputs": [],
   "source": [
    "# p-value 값이 유의수준(0.05)보다 크다.\n",
    "# 귀무가설(H0)채택 => 등분산성을 따른다고 할 수 있다."
   ]
  },
  {
   "cell_type": "code",
   "execution_count": 25,
   "id": "1d8960d4",
   "metadata": {},
   "outputs": [
    {
     "name": "stdout",
     "output_type": "stream",
     "text": [
      "0.8192 0.4207\n"
     ]
    }
   ],
   "source": [
    "# 5.1 (정규성0, 등분산성 O/X) t검정\n",
    "statistic, pvalue = stats.ttest_ind(df['A'], df['B'],\n",
    "                                   equal_var=True,          # 만약 등분산 하지 않으면 False로 설정\n",
    "                                   alternative = 'two-sided')\n",
    "print(round(statistic,4), round(pvalue,4))"
   ]
  },
  {
   "cell_type": "code",
   "execution_count": 27,
   "id": "169df2d1",
   "metadata": {},
   "outputs": [
    {
     "name": "stdout",
     "output_type": "stream",
     "text": [
      "0.8462 0.3975\n"
     ]
    }
   ],
   "source": [
    "# 5.2 (정규성X) 윌콕슨의 순위합 결정\n",
    "statistic, pvalue = stats.ranksums(df['A'], df['B'], alternative = 'two-sided')\n",
    "print(round(statistic,4),round(pvalue,4))"
   ]
  },
  {
   "cell_type": "code",
   "execution_count": 28,
   "id": "8773b8ef",
   "metadata": {},
   "outputs": [],
   "source": [
    "# 6. 귀무가설 기각여부 결정(채택/기각)\n",
    "# p-value 값이 0.05보다 크기 때문에 귀무가설을 채택한다.\n",
    "# 즉, A그룹과 B그룹의 혈압 평균은 같다고 할 수 있다.\n",
    "\n",
    "# 답 : 채택"
   ]
  },
  {
   "cell_type": "code",
   "execution_count": 29,
   "id": "d8b5f29a",
   "metadata": {},
   "outputs": [
    {
     "name": "stdout",
     "output_type": "stream",
     "text": [
      "138.9231\n",
      "133.9231\n"
     ]
    }
   ],
   "source": [
    "# (참고) 평균데이터 확인\n",
    "print(round(df['A'].mean(),4))\n",
    "print(round(df['B'].mean(),4))"
   ]
  },
  {
   "cell_type": "markdown",
   "id": "9c34b207",
   "metadata": {},
   "source": [
    "### 문제 2-2\n",
    "#### 다음은 A그룹과 B그룹 인원의 혈압 데이터이다.\n",
    "#### A그룹의 혈압평균이 B그룹보다 크다고 할 수 있는지 독립표본 t검정을 실시하시오.\n",
    "#### (유의수준5%)\n",
    "#### · A : A그룹 인원의 혈압, B : B그룹 인원의 혈압\n",
    "#### · H0(귀무가설) : A - B ≤ 0 (or A ≤ B)\n",
    "#### · H1(대립가설) : A - B > 0 (or A > B)"
   ]
  },
  {
   "cell_type": "code",
   "execution_count": 31,
   "id": "ab006eb6",
   "metadata": {},
   "outputs": [
    {
     "name": "stdout",
     "output_type": "stream",
     "text": [
      "     A    B\n",
      "0  120  110\n",
      "1  135  132\n",
      "2  122  123\n"
     ]
    }
   ],
   "source": [
    "# 데이터 만들기\n",
    "df = pd.DataFrame({\n",
    "    'A': [120, 135, 122, 124, 135, 122, 145, 160, 155, 142, 144, 135, 167],\n",
    "    'B': [110, 132, 123, 119, 123, 115, 140, 162, 142, 138, 135, 142, 160]})\n",
    "print(df.head(3))"
   ]
  },
  {
   "cell_type": "code",
   "execution_count": 32,
   "id": "94f61417",
   "metadata": {},
   "outputs": [],
   "source": [
    "# 1. 가설설정\n",
    "# H0 : A그룹의 혈압 평균이 B그룹보다 작거나 같다. (A <= B)\n",
    "# H1 : A그룹의 혈압 평균이 B그룹보다 크다. (A > B)"
   ]
  },
  {
   "cell_type": "code",
   "execution_count": 33,
   "id": "e848e1b6",
   "metadata": {},
   "outputs": [],
   "source": [
    "# 2. 유의수준 확인 : 유의수준 5%로 확인"
   ]
  },
  {
   "cell_type": "code",
   "execution_count": 35,
   "id": "cb4a2baf",
   "metadata": {},
   "outputs": [
    {
     "name": "stdout",
     "output_type": "stream",
     "text": [
      "0.9314 0.3559\n",
      "0.9498 0.5956\n"
     ]
    }
   ],
   "source": [
    "# 3. 정규성 검정 (차이값에 대해 정규성 확인)\n",
    "# H0(귀무가설) : 정규분포를 따른다.\n",
    "# H1(대립가설) : 정규분포를 따르지 않는다.\n",
    "\n",
    "statisticA, pvalueA = stats.shapiro(df['A'])\n",
    "statisticB, pvalueB = stats.shapiro(df['B'])\n",
    "\n",
    "print(round(statisticA,4),round(pvalueA,4))\n",
    "print(round(statisticB,4),round(pvalueB,4))"
   ]
  },
  {
   "cell_type": "code",
   "execution_count": 36,
   "id": "14030f6d",
   "metadata": {},
   "outputs": [
    {
     "name": "stdout",
     "output_type": "stream",
     "text": [
      "0.0279 0.8673\n"
     ]
    }
   ],
   "source": [
    "# 4. 등분산성 검정\n",
    "# H0(귀무가설) : 등분산 한다.\n",
    "# H1(대립가설) : 등분산 하지 않는다.\n",
    "statistic, pvalue = stats.bartlett(df['A'],df['B'])\n",
    "print(round(statistic,4),round(pvalue,4))"
   ]
  },
  {
   "cell_type": "code",
   "execution_count": 37,
   "id": "46eb297d",
   "metadata": {},
   "outputs": [
    {
     "name": "stdout",
     "output_type": "stream",
     "text": [
      "0.8192 0.2104\n"
     ]
    }
   ],
   "source": [
    "# 5.1 (정규성O, 등분산성 O/X)\n",
    "statistic, pvalue = stats.ttest_ind(df['A'], df['B'],\n",
    "                                   equal_var=True,\n",
    "                                   alternative='greater')\n",
    "print(round(statistic,4),round(pvalue,4))"
   ]
  },
  {
   "cell_type": "code",
   "execution_count": 38,
   "id": "b23a78f8",
   "metadata": {},
   "outputs": [
    {
     "name": "stdout",
     "output_type": "stream",
     "text": [
      "0.8462 0.1987\n"
     ]
    }
   ],
   "source": [
    "# 5.2 (정규성X) 윌콕슨의 순위합 검정\n",
    "statistic, pvalue = stats.ranksums(df['A'], df['B'], alternative='greater')\n",
    "print(round(statistic,4),round(pvalue,4))"
   ]
  },
  {
   "cell_type": "code",
   "execution_count": null,
   "id": "0ebd1fe7",
   "metadata": {},
   "outputs": [],
   "source": [
    "# 6. 귀무가설 기각여부 결정(채택/기각)\n",
    "# p-value 값이 0.05보다 크기 때문에 귀무가설을 채택한다.\n",
    "# 즉, A그룹의 혈압 평균이 B그룹보다 작거나 같다고 할 수 있다.\n",
    "# (A그룹의 혈압 평균이 B그룹보다 크다고 할 수 있다.)\n",
    "\n",
    "# 답 : 채택"
   ]
  }
 ],
 "metadata": {
  "kernelspec": {
   "display_name": "Python 3 (ipykernel)",
   "language": "python",
   "name": "python3"
  },
  "language_info": {
   "codemirror_mode": {
    "name": "ipython",
    "version": 3
   },
   "file_extension": ".py",
   "mimetype": "text/x-python",
   "name": "python",
   "nbconvert_exporter": "python",
   "pygments_lexer": "ipython3",
   "version": "3.11.5"
  }
 },
 "nbformat": 4,
 "nbformat_minor": 5
}
