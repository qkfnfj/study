{
 "cells": [
  {
   "cell_type": "markdown",
   "id": "d4814be7",
   "metadata": {},
   "source": [
    "# 분석 Case"
   ]
  },
  {
   "cell_type": "markdown",
   "id": "0cd4018b",
   "metadata": {},
   "source": [
    "## Case 1. 적합도 검정 - 각 범주에 속할 확률이 같은지?\n",
    "## Case 2. 독립성 검정 - 두 개의 범주형 변수가 서로 독립인지?"
   ]
  },
  {
   "cell_type": "markdown",
   "id": "9a6ffcde",
   "metadata": {},
   "source": [
    "# 가설검정 순서"
   ]
  },
  {
   "cell_type": "markdown",
   "id": "5ba39dec",
   "metadata": {},
   "source": [
    "### 1. 가설설정\n",
    "### 2. 유의수준 확인\n",
    "### 3. 검정실시(통계량, p-value 확인, 기대빈도 확인)\n",
    "### 4. 귀무가설 기각여부 결정(채택/기각)"
   ]
  },
  {
   "cell_type": "markdown",
   "id": "ae899c99",
   "metadata": {},
   "source": [
    "# 예제문제\n",
    "## Case 1. 적합도 검정 - 각 범주에 속할 확률이 같은지?"
   ]
  },
  {
   "cell_type": "markdown",
   "id": "8b64456f",
   "metadata": {},
   "source": [
    "### 문제 1-1\n",
    "### 랜덤 박스에 상품 A,B,C,D가 들어 있다.\n",
    "### 다음은 랜덤박스에서 100번 상품을 꺼냈을 때의 상품 데이터라고 할 때\n",
    "### 상품이 동일한 비율로 들어있다고 할 수 있는지 검정해보시오."
   ]
  },
  {
   "cell_type": "code",
   "execution_count": 1,
   "id": "ae00b22b",
   "metadata": {},
   "outputs": [],
   "source": [
    "import pandas as pd\n",
    "import numpy as np"
   ]
  },
  {
   "cell_type": "code",
   "execution_count": 2,
   "id": "820d0a03",
   "metadata": {},
   "outputs": [
    {
     "data": {
      "text/html": [
       "<div>\n",
       "<style scoped>\n",
       "    .dataframe tbody tr th:only-of-type {\n",
       "        vertical-align: middle;\n",
       "    }\n",
       "\n",
       "    .dataframe tbody tr th {\n",
       "        vertical-align: top;\n",
       "    }\n",
       "\n",
       "    .dataframe thead th {\n",
       "        text-align: right;\n",
       "    }\n",
       "</style>\n",
       "<table border=\"1\" class=\"dataframe\">\n",
       "  <thead>\n",
       "    <tr style=\"text-align: right;\">\n",
       "      <th></th>\n",
       "      <th>A</th>\n",
       "      <th>B</th>\n",
       "      <th>C</th>\n",
       "      <th>D</th>\n",
       "    </tr>\n",
       "  </thead>\n",
       "  <tbody>\n",
       "    <tr>\n",
       "      <th>0</th>\n",
       "      <td>30</td>\n",
       "      <td>20</td>\n",
       "      <td>15</td>\n",
       "      <td>35</td>\n",
       "    </tr>\n",
       "  </tbody>\n",
       "</table>\n",
       "</div>"
      ],
      "text/plain": [
       "    A   B   C   D\n",
       "0  30  20  15  35"
      ]
     },
     "execution_count": 2,
     "metadata": {},
     "output_type": "execute_result"
    }
   ],
   "source": [
    "# 데이터 생성\n",
    "row1 = [30, 20, 15, 35]\n",
    "df = pd.DataFrame([row1], columns=['A','B','C','D'])\n",
    "df"
   ]
  },
  {
   "cell_type": "code",
   "execution_count": 3,
   "id": "7c206cad",
   "metadata": {},
   "outputs": [],
   "source": [
    "# 1. 가설설정\n",
    "# H0 : 랜덤박스에 상품 A,B,C,D가 동일한 비율로 들어있다.\n",
    "# H1 : 랜덤박스에 상품 A,B,C,D가 동일한 비율로 들어있지 않다."
   ]
  },
  {
   "cell_type": "code",
   "execution_count": 4,
   "id": "41874a4a",
   "metadata": {},
   "outputs": [],
   "source": [
    "# 2. 유의수준 확인 : 유의수준 5%로 확인"
   ]
  },
  {
   "cell_type": "code",
   "execution_count": 5,
   "id": "e9e506b7",
   "metadata": {},
   "outputs": [
    {
     "name": "stdout",
     "output_type": "stream",
     "text": [
      "10.0\n",
      "0.01856613546304325\n"
     ]
    }
   ],
   "source": [
    "# 3. 검정실시(통계량,p-value)\n",
    "from scipy.stats import chisquare\n",
    "# chisquare(f_obs=f_obs, f_exp=f_exp) # 관측빈도, 기대빈도\n",
    "\n",
    "# 관측빈도와 기대빈도 구하기\n",
    "f_obs = [30,20,15,35]\n",
    "# f_obs = df.iloc[0]\n",
    "f_exp = [25,25,25,25]\n",
    "\n",
    "statistic, pvalue = chisquare(f_obs=f_obs, f_exp=f_exp)\n",
    "print(statistic)\n",
    "print(pvalue)"
   ]
  },
  {
   "cell_type": "code",
   "execution_count": 6,
   "id": "93d8af86",
   "metadata": {},
   "outputs": [],
   "source": [
    "# 4. 귀무가설 기각여부 결정(채택/기각)\n",
    "# p-value 값이 0.05보다 작기 때문에 귀무가설을 기각한다.\n",
    "# 즉, 랜덤박스에 상품 A,B,C,D가 동일한 비율로 들어있지 않다고 할 수 있다.\n",
    "\n",
    "# 답 : 기각"
   ]
  },
  {
   "cell_type": "markdown",
   "id": "47c9589d",
   "metadata": {},
   "source": [
    "### 문제 1-2"
   ]
  },
  {
   "cell_type": "markdown",
   "id": "c31f3849",
   "metadata": {},
   "source": [
    "### 랜덤 박스에 상품 A,B,C,D가 들어 있다.\n",
    "### 다음은 랜덤박스에서 150번 상품을 꺼냈을 때의 상품 데이터라고 할 때\n",
    "### 상품별로 A 30%, B 15%, C 55% 비율로 들어있다고 할 수 있는지 검정해보시오."
   ]
  },
  {
   "cell_type": "code",
   "execution_count": 7,
   "id": "e4fcb6b7",
   "metadata": {},
   "outputs": [
    {
     "data": {
      "text/html": [
       "<div>\n",
       "<style scoped>\n",
       "    .dataframe tbody tr th:only-of-type {\n",
       "        vertical-align: middle;\n",
       "    }\n",
       "\n",
       "    .dataframe tbody tr th {\n",
       "        vertical-align: top;\n",
       "    }\n",
       "\n",
       "    .dataframe thead th {\n",
       "        text-align: right;\n",
       "    }\n",
       "</style>\n",
       "<table border=\"1\" class=\"dataframe\">\n",
       "  <thead>\n",
       "    <tr style=\"text-align: right;\">\n",
       "      <th></th>\n",
       "      <th>A</th>\n",
       "      <th>B</th>\n",
       "      <th>C</th>\n",
       "    </tr>\n",
       "  </thead>\n",
       "  <tbody>\n",
       "    <tr>\n",
       "      <th>0</th>\n",
       "      <td>50</td>\n",
       "      <td>25</td>\n",
       "      <td>75</td>\n",
       "    </tr>\n",
       "  </tbody>\n",
       "</table>\n",
       "</div>"
      ],
      "text/plain": [
       "    A   B   C\n",
       "0  50  25  75"
      ]
     },
     "execution_count": 7,
     "metadata": {},
     "output_type": "execute_result"
    }
   ],
   "source": [
    "# 데이터 생성\n",
    "row1 = [50,25,75]\n",
    "df = pd.DataFrame([row1], columns=['A','B','C'])\n",
    "df"
   ]
  },
  {
   "cell_type": "code",
   "execution_count": 8,
   "id": "5cf65be5",
   "metadata": {},
   "outputs": [],
   "source": [
    "# 1. 가설설정\n",
    "# H0 : 랜덤박스에 상품 A,B,C가 30%, 15%, 55%의 비율로 들어있다.\n",
    "# H1 : 랜덤박스에 상품 A,B,C가 30%, 15%, 55%의 비율로 들어있지 않다."
   ]
  },
  {
   "cell_type": "code",
   "execution_count": 9,
   "id": "6a6ab43b",
   "metadata": {},
   "outputs": [],
   "source": [
    "# 2. 유의수준 확인 : 유의수준 5% 확인"
   ]
  },
  {
   "cell_type": "code",
   "execution_count": 11,
   "id": "a12a9b41",
   "metadata": {},
   "outputs": [
    {
     "name": "stdout",
     "output_type": "stream",
     "text": [
      "1.5151515151515151\n",
      "0.46880153914023537\n"
     ]
    }
   ],
   "source": [
    "# 3. 검정실시 (통계량, p-value)\n",
    "from scipy.stats import chisquare\n",
    "\n",
    "f_obs = [50, 25, 75]\n",
    "a = 150*0.3\n",
    "b = 150*0.15\n",
    "c = 150*0.55\n",
    "f_exp = [a,b,c]\n",
    "\n",
    "statistic, pvalue = chisquare(f_obs=f_obs, f_exp=f_exp)\n",
    "print(statistic)\n",
    "print(pvalue)"
   ]
  },
  {
   "cell_type": "code",
   "execution_count": 12,
   "id": "0dd03135",
   "metadata": {},
   "outputs": [],
   "source": [
    "# 4. 귀무가설 기각여부 결정(채택/기각)\n",
    "# p-value 값이 0.05보다 크기 때문에 귀무가설을 채택한다.\n",
    "# 즉, 랜덤박스에 상품 A,B,C가 30%, 15%, 55%의 비율로 들어있다고 할 수 있다.\n",
    "\n",
    "# 답 : 채택"
   ]
  },
  {
   "cell_type": "markdown",
   "id": "60c6b8c3",
   "metadata": {},
   "source": [
    "## Case 2. 독립성 검정 - 두 개의 범주형 변수가 서로 독립인지?"
   ]
  },
  {
   "cell_type": "markdown",
   "id": "ffb8085d",
   "metadata": {},
   "source": [
    "### 문제 2-1\n",
    "### 연령대에 따라 먹는 아이스크림의 차이가 있는지 독립성 검정을 실시하시오."
   ]
  },
  {
   "cell_type": "code",
   "execution_count": 13,
   "id": "c2a99677",
   "metadata": {},
   "outputs": [
    {
     "data": {
      "text/html": [
       "<div>\n",
       "<style scoped>\n",
       "    .dataframe tbody tr th:only-of-type {\n",
       "        vertical-align: middle;\n",
       "    }\n",
       "\n",
       "    .dataframe tbody tr th {\n",
       "        vertical-align: top;\n",
       "    }\n",
       "\n",
       "    .dataframe thead th {\n",
       "        text-align: right;\n",
       "    }\n",
       "</style>\n",
       "<table border=\"1\" class=\"dataframe\">\n",
       "  <thead>\n",
       "    <tr style=\"text-align: right;\">\n",
       "      <th></th>\n",
       "      <th>딸기</th>\n",
       "      <th>초코</th>\n",
       "      <th>바닐라</th>\n",
       "    </tr>\n",
       "  </thead>\n",
       "  <tbody>\n",
       "    <tr>\n",
       "      <th>10대</th>\n",
       "      <td>200</td>\n",
       "      <td>190</td>\n",
       "      <td>250</td>\n",
       "    </tr>\n",
       "    <tr>\n",
       "      <th>20대</th>\n",
       "      <td>220</td>\n",
       "      <td>250</td>\n",
       "      <td>300</td>\n",
       "    </tr>\n",
       "  </tbody>\n",
       "</table>\n",
       "</div>"
      ],
      "text/plain": [
       "      딸기   초코  바닐라\n",
       "10대  200  190  250\n",
       "20대  220  250  300"
      ]
     },
     "execution_count": 13,
     "metadata": {},
     "output_type": "execute_result"
    }
   ],
   "source": [
    "# 데이터 생성\n",
    "row1, row2 = [200,190,250], [220,250,300]\n",
    "df = pd.DataFrame([row1, row2], columns=['딸기','초코','바닐라'], index=['10대','20대'])\n",
    "df"
   ]
  },
  {
   "cell_type": "code",
   "execution_count": 14,
   "id": "06b280ab",
   "metadata": {},
   "outputs": [],
   "source": [
    "# 1. 가설설정\n",
    "# H0 : 연령대와 먹는 아이스크림의 종류는 서로 관련이 없다.(두 변수는 서로 독립이다.)\n",
    "# H1 : 연령대와 먹는 아이스크림의 종류는 서로 관련이 있다.(두 변수는 서로 독립이 아니다.)"
   ]
  },
  {
   "cell_type": "code",
   "execution_count": 15,
   "id": "7e062652",
   "metadata": {},
   "outputs": [],
   "source": [
    "# 2. 유의수준 확인 : 유의수준 5%로 확인"
   ]
  },
  {
   "cell_type": "code",
   "execution_count": 16,
   "id": "d8f53a99",
   "metadata": {},
   "outputs": [
    {
     "name": "stdout",
     "output_type": "stream",
     "text": [
      "1.708360126075226\n",
      "0.4256320394874311\n",
      "2\n",
      "[[190.64 199.72 249.65]\n",
      " [229.36 240.28 300.35]]\n"
     ]
    }
   ],
   "source": [
    "# 3. 검정실시(통계량, p-value, 기대빈도 확인)\n",
    "from scipy.stats import chi2_contingency\n",
    "statistic, pvalue, dof, expected = chi2_contingency(df)\n",
    "\n",
    "print(statistic)\n",
    "print(pvalue)\n",
    "print(dof) # 자유도 = (행-1)*(열-1)\n",
    "print(np.round(expected,2))"
   ]
  },
  {
   "cell_type": "code",
   "execution_count": 17,
   "id": "589c8cd9",
   "metadata": {},
   "outputs": [],
   "source": [
    "# 4. 귀무가설 기각여부 결정(채택/기각)\n",
    "# p-vlaue 값이 0.05보다 크기 때문에 귀무가설을 채택한다.\n",
    "# 즉, 연령대와 먹는 아이스크림의 종류는 서로 관련이 없다고 할 수 있다.\n",
    "\n",
    "# 답 : 채택"
   ]
  },
  {
   "cell_type": "markdown",
   "id": "484c1d90",
   "metadata": {},
   "source": [
    "### (추가) 만약 데이터 형태가 다를 경우"
   ]
  },
  {
   "cell_type": "code",
   "execution_count": 18,
   "id": "c9e6c38b",
   "metadata": {},
   "outputs": [
    {
     "data": {
      "text/html": [
       "<div>\n",
       "<style scoped>\n",
       "    .dataframe tbody tr th:only-of-type {\n",
       "        vertical-align: middle;\n",
       "    }\n",
       "\n",
       "    .dataframe tbody tr th {\n",
       "        vertical-align: top;\n",
       "    }\n",
       "\n",
       "    .dataframe thead th {\n",
       "        text-align: right;\n",
       "    }\n",
       "</style>\n",
       "<table border=\"1\" class=\"dataframe\">\n",
       "  <thead>\n",
       "    <tr style=\"text-align: right;\">\n",
       "      <th></th>\n",
       "      <th>아이스크림</th>\n",
       "      <th>연령</th>\n",
       "      <th>인원</th>\n",
       "    </tr>\n",
       "  </thead>\n",
       "  <tbody>\n",
       "    <tr>\n",
       "      <th>0</th>\n",
       "      <td>딸기</td>\n",
       "      <td>10대</td>\n",
       "      <td>200</td>\n",
       "    </tr>\n",
       "    <tr>\n",
       "      <th>1</th>\n",
       "      <td>초코</td>\n",
       "      <td>10대</td>\n",
       "      <td>190</td>\n",
       "    </tr>\n",
       "    <tr>\n",
       "      <th>2</th>\n",
       "      <td>바닐라</td>\n",
       "      <td>10대</td>\n",
       "      <td>250</td>\n",
       "    </tr>\n",
       "    <tr>\n",
       "      <th>3</th>\n",
       "      <td>딸기</td>\n",
       "      <td>20대</td>\n",
       "      <td>220</td>\n",
       "    </tr>\n",
       "    <tr>\n",
       "      <th>4</th>\n",
       "      <td>초코</td>\n",
       "      <td>20대</td>\n",
       "      <td>250</td>\n",
       "    </tr>\n",
       "    <tr>\n",
       "      <th>5</th>\n",
       "      <td>바닐라</td>\n",
       "      <td>20대</td>\n",
       "      <td>300</td>\n",
       "    </tr>\n",
       "  </tbody>\n",
       "</table>\n",
       "</div>"
      ],
      "text/plain": [
       "  아이스크림   연령   인원\n",
       "0    딸기  10대  200\n",
       "1    초코  10대  190\n",
       "2   바닐라  10대  250\n",
       "3    딸기  20대  220\n",
       "4    초코  20대  250\n",
       "5   바닐라  20대  300"
      ]
     },
     "execution_count": 18,
     "metadata": {},
     "output_type": "execute_result"
    }
   ],
   "source": [
    "# ★tip : pd.crosstab() 사용방법\n",
    "# (Case1) 만약 데이터가 아래와 같이 주어진다면?\n",
    "df = pd.DataFrame({\n",
    "    '아이스크림' : ['딸기','초코','바닐라','딸기','초코','바닐라'],\n",
    "    '연령' : ['10대','10대','10대','20대','20대','20대'],\n",
    "    '인원' : [200,190,250,220,250,300]\n",
    "})\n",
    "df"
   ]
  },
  {
   "cell_type": "code",
   "execution_count": 20,
   "id": "b6e7182d",
   "metadata": {},
   "outputs": [
    {
     "data": {
      "text/html": [
       "<div>\n",
       "<style scoped>\n",
       "    .dataframe tbody tr th:only-of-type {\n",
       "        vertical-align: middle;\n",
       "    }\n",
       "\n",
       "    .dataframe tbody tr th {\n",
       "        vertical-align: top;\n",
       "    }\n",
       "\n",
       "    .dataframe thead th {\n",
       "        text-align: right;\n",
       "    }\n",
       "</style>\n",
       "<table border=\"1\" class=\"dataframe\">\n",
       "  <thead>\n",
       "    <tr style=\"text-align: right;\">\n",
       "      <th>아이스크림</th>\n",
       "      <th>딸기</th>\n",
       "      <th>바닐라</th>\n",
       "      <th>초코</th>\n",
       "    </tr>\n",
       "    <tr>\n",
       "      <th>연령</th>\n",
       "      <th></th>\n",
       "      <th></th>\n",
       "      <th></th>\n",
       "    </tr>\n",
       "  </thead>\n",
       "  <tbody>\n",
       "    <tr>\n",
       "      <th>10대</th>\n",
       "      <td>200</td>\n",
       "      <td>250</td>\n",
       "      <td>190</td>\n",
       "    </tr>\n",
       "    <tr>\n",
       "      <th>20대</th>\n",
       "      <td>220</td>\n",
       "      <td>300</td>\n",
       "      <td>250</td>\n",
       "    </tr>\n",
       "  </tbody>\n",
       "</table>\n",
       "</div>"
      ],
      "text/plain": [
       "아이스크림   딸기  바닐라   초코\n",
       "연령                  \n",
       "10대    200  250  190\n",
       "20대    220  300  250"
      ]
     },
     "execution_count": 20,
     "metadata": {},
     "output_type": "execute_result"
    }
   ],
   "source": [
    "# pd.crosstab(index = , columns = , values = , aggfun=sum)\n",
    "table = pd.crosstab(index=df['연령'], columns=df['아이스크림'], values=df['인원'],aggfunc=sum)\n",
    "table"
   ]
  },
  {
   "cell_type": "code",
   "execution_count": 21,
   "id": "17fae61c",
   "metadata": {},
   "outputs": [
    {
     "name": "stdout",
     "output_type": "stream",
     "text": [
      "1.708360126075226\n",
      "0.4256320394874311\n",
      "2\n",
      "[[190.64 249.65 199.72]\n",
      " [229.36 300.35 240.28]]\n"
     ]
    }
   ],
   "source": [
    "# 3. 검정실시(통계량, p-value, 기대빈도 확인)\n",
    "from scipy.stats import chi2_contingency\n",
    "\n",
    "# 위와 같이 교차표 만들어서 입력\n",
    "statistic, pvalue, dof, expected = chi2_contingency(table)\n",
    "\n",
    "print(statistic)\n",
    "print(pvalue)\n",
    "print(dof) # 자유도 = (행-1)*(열-1)\n",
    "print(np.round(expected,2))"
   ]
  },
  {
   "cell_type": "code",
   "execution_count": 22,
   "id": "9fe291fb",
   "metadata": {},
   "outputs": [
    {
     "data": {
      "text/html": [
       "<div>\n",
       "<style scoped>\n",
       "    .dataframe tbody tr th:only-of-type {\n",
       "        vertical-align: middle;\n",
       "    }\n",
       "\n",
       "    .dataframe tbody tr th {\n",
       "        vertical-align: top;\n",
       "    }\n",
       "\n",
       "    .dataframe thead th {\n",
       "        text-align: right;\n",
       "    }\n",
       "</style>\n",
       "<table border=\"1\" class=\"dataframe\">\n",
       "  <thead>\n",
       "    <tr style=\"text-align: right;\">\n",
       "      <th></th>\n",
       "      <th>아이스크림</th>\n",
       "      <th>연령</th>\n",
       "    </tr>\n",
       "  </thead>\n",
       "  <tbody>\n",
       "    <tr>\n",
       "      <th>0</th>\n",
       "      <td>딸기</td>\n",
       "      <td>10대</td>\n",
       "    </tr>\n",
       "    <tr>\n",
       "      <th>1</th>\n",
       "      <td>초코</td>\n",
       "      <td>10대</td>\n",
       "    </tr>\n",
       "    <tr>\n",
       "      <th>2</th>\n",
       "      <td>바닐라</td>\n",
       "      <td>10대</td>\n",
       "    </tr>\n",
       "    <tr>\n",
       "      <th>3</th>\n",
       "      <td>딸기</td>\n",
       "      <td>20대</td>\n",
       "    </tr>\n",
       "    <tr>\n",
       "      <th>4</th>\n",
       "      <td>초코</td>\n",
       "      <td>20대</td>\n",
       "    </tr>\n",
       "    <tr>\n",
       "      <th>5</th>\n",
       "      <td>바닐라</td>\n",
       "      <td>20대</td>\n",
       "    </tr>\n",
       "  </tbody>\n",
       "</table>\n",
       "</div>"
      ],
      "text/plain": [
       "  아이스크림   연령\n",
       "0    딸기  10대\n",
       "1    초코  10대\n",
       "2   바닐라  10대\n",
       "3    딸기  20대\n",
       "4    초코  20대\n",
       "5   바닐라  20대"
      ]
     },
     "execution_count": 22,
     "metadata": {},
     "output_type": "execute_result"
    }
   ],
   "source": [
    "# (Case2) 만약 데이터가 아래와 같이 주어진다면?\n",
    "# 이해를 위한 참고용\n",
    "df = pd.DataFrame({\n",
    "    '아이스크림' : ['딸기','초코','바닐라','딸기','초코','바닐라'],\n",
    "    '연령' : ['10대','10대','10대','20대','20대','20대']})\n",
    "df"
   ]
  },
  {
   "cell_type": "code",
   "execution_count": 23,
   "id": "acbfc285",
   "metadata": {},
   "outputs": [
    {
     "data": {
      "text/html": [
       "<div>\n",
       "<style scoped>\n",
       "    .dataframe tbody tr th:only-of-type {\n",
       "        vertical-align: middle;\n",
       "    }\n",
       "\n",
       "    .dataframe tbody tr th {\n",
       "        vertical-align: top;\n",
       "    }\n",
       "\n",
       "    .dataframe thead th {\n",
       "        text-align: right;\n",
       "    }\n",
       "</style>\n",
       "<table border=\"1\" class=\"dataframe\">\n",
       "  <thead>\n",
       "    <tr style=\"text-align: right;\">\n",
       "      <th>아이스크림</th>\n",
       "      <th>딸기</th>\n",
       "      <th>바닐라</th>\n",
       "      <th>초코</th>\n",
       "    </tr>\n",
       "    <tr>\n",
       "      <th>연령</th>\n",
       "      <th></th>\n",
       "      <th></th>\n",
       "      <th></th>\n",
       "    </tr>\n",
       "  </thead>\n",
       "  <tbody>\n",
       "    <tr>\n",
       "      <th>10대</th>\n",
       "      <td>1</td>\n",
       "      <td>1</td>\n",
       "      <td>1</td>\n",
       "    </tr>\n",
       "    <tr>\n",
       "      <th>20대</th>\n",
       "      <td>1</td>\n",
       "      <td>1</td>\n",
       "      <td>1</td>\n",
       "    </tr>\n",
       "  </tbody>\n",
       "</table>\n",
       "</div>"
      ],
      "text/plain": [
       "아이스크림  딸기  바닐라  초코\n",
       "연령                \n",
       "10대     1    1   1\n",
       "20대     1    1   1"
      ]
     },
     "execution_count": 23,
     "metadata": {},
     "output_type": "execute_result"
    }
   ],
   "source": [
    "# pd.crosstab(index, columns)\n",
    "pd.crosstab(df['연령'], df['아이스크림'])"
   ]
  },
  {
   "cell_type": "markdown",
   "id": "a353a05c",
   "metadata": {},
   "source": [
    "### 문제 2-2\n",
    "### 타이타닉에 데이터에서 성별(sex)과 생존여부(survived) 변수간\n",
    "### 독립성 검정을 실시하시오."
   ]
  },
  {
   "cell_type": "code",
   "execution_count": 24,
   "id": "5e500854",
   "metadata": {},
   "outputs": [
    {
     "name": "stdout",
     "output_type": "stream",
     "text": [
      "<class 'pandas.core.frame.DataFrame'>\n",
      "RangeIndex: 891 entries, 0 to 890\n",
      "Data columns (total 15 columns):\n",
      " #   Column       Non-Null Count  Dtype   \n",
      "---  ------       --------------  -----   \n",
      " 0   survived     891 non-null    int64   \n",
      " 1   pclass       891 non-null    int64   \n",
      " 2   sex          891 non-null    object  \n",
      " 3   age          714 non-null    float64 \n",
      " 4   sibsp        891 non-null    int64   \n",
      " 5   parch        891 non-null    int64   \n",
      " 6   fare         891 non-null    float64 \n",
      " 7   embarked     889 non-null    object  \n",
      " 8   class        891 non-null    category\n",
      " 9   who          891 non-null    object  \n",
      " 10  adult_male   891 non-null    bool    \n",
      " 11  deck         203 non-null    category\n",
      " 12  embark_town  889 non-null    object  \n",
      " 13  alive        891 non-null    object  \n",
      " 14  alone        891 non-null    bool    \n",
      "dtypes: bool(2), category(2), float64(2), int64(4), object(5)\n",
      "memory usage: 80.7+ KB\n"
     ]
    }
   ],
   "source": [
    "import seaborn as sns\n",
    "df = sns.load_dataset('titanic')\n",
    "df.info()"
   ]
  },
  {
   "cell_type": "code",
   "execution_count": 25,
   "id": "69266525",
   "metadata": {},
   "outputs": [
    {
     "name": "stdout",
     "output_type": "stream",
     "text": [
      "   survived  pclass     sex   age  sibsp  parch     fare embarked  class  \\\n",
      "0         0       3    male  22.0      1      0   7.2500        S  Third   \n",
      "1         1       1  female  38.0      1      0  71.2833        C  First   \n",
      "2         1       3  female  26.0      0      0   7.9250        S  Third   \n",
      "3         1       1  female  35.0      1      0  53.1000        S  First   \n",
      "4         0       3    male  35.0      0      0   8.0500        S  Third   \n",
      "\n",
      "     who  adult_male deck  embark_town alive  alone  \n",
      "0    man        True  NaN  Southampton    no  False  \n",
      "1  woman       False    C    Cherbourg   yes  False  \n",
      "2  woman       False  NaN  Southampton   yes   True  \n",
      "3  woman       False    C  Southampton   yes  False  \n",
      "4    man        True  NaN  Southampton    no   True  \n"
     ]
    }
   ],
   "source": [
    "print(df.head())"
   ]
  },
  {
   "cell_type": "code",
   "execution_count": 26,
   "id": "04ccccb7",
   "metadata": {},
   "outputs": [
    {
     "name": "stdout",
     "output_type": "stream",
     "text": [
      "survived    0    1\n",
      "sex               \n",
      "female     81  233\n",
      "male      468  109\n"
     ]
    }
   ],
   "source": [
    "# pd.crosstab(index, columns)\n",
    "table = pd.crosstab(df['sex'],df['survived'])\n",
    "print(table)"
   ]
  },
  {
   "cell_type": "code",
   "execution_count": 27,
   "id": "4ecc4967",
   "metadata": {},
   "outputs": [],
   "source": [
    "# 1. 가설설정\n",
    "# H0 : 성별과 생존 여부는 서로 관련이 없다.(두 변수는 서로 독립이다.)\n",
    "# H1 : 성별과 생존 여부는 서로 관련이 있다.(두 변수는 서로 독립이 아니다.)"
   ]
  },
  {
   "cell_type": "code",
   "execution_count": 28,
   "id": "b5d333a0",
   "metadata": {},
   "outputs": [],
   "source": [
    "# 2. 유의수준 확인 : 유의수준 5%로 확인"
   ]
  },
  {
   "cell_type": "code",
   "execution_count": 36,
   "id": "1550b2f5",
   "metadata": {},
   "outputs": [
    {
     "name": "stdout",
     "output_type": "stream",
     "text": [
      "260.71702016732104\n",
      "1.197357062776e-58\n",
      "1\n",
      "[[193.47 120.53]\n",
      " [355.53 221.47]]\n"
     ]
    }
   ],
   "source": [
    "# 3. 검정실시(통계량, p-value, 기대빈도 확인)\n",
    "from scipy.stats import chi2_contingency\n",
    "\n",
    "# 위와 같이 교차표 만들어서 입력\n",
    "statistic, pvalue, dof, expected = chi2_contingency(table)\n",
    "\n",
    "print(statistic)\n",
    "print(round(pvalue,70))\n",
    "print(dof) # 자유도 = (행-1)*(열-1)\n",
    "print(np.round(expected,2))"
   ]
  },
  {
   "cell_type": "code",
   "execution_count": 37,
   "id": "82886594",
   "metadata": {},
   "outputs": [],
   "source": [
    "# 4. 귀무가설 기각여부 결정(채택/기각)\n",
    "# p-value 값이 0.05보다 작기 때문에 귀무가설을 기각한다.\n",
    "# 즉, 성별과 생존여부는 서로 관련이 있다고 할 수 있다.\n",
    "\n",
    "# 답 : 기각"
   ]
  },
  {
   "cell_type": "code",
   "execution_count": 38,
   "id": "cb8f5022",
   "metadata": {},
   "outputs": [],
   "source": [
    "# 데이터 변경하면서 이해"
   ]
  },
  {
   "cell_type": "code",
   "execution_count": 39,
   "id": "45326fa6",
   "metadata": {},
   "outputs": [
    {
     "name": "stdout",
     "output_type": "stream",
     "text": [
      "          0    1\n",
      "female  160  180\n",
      "male    250  120\n"
     ]
    }
   ],
   "source": [
    "# 임의 데이터 생성\n",
    "sex, survived = [160,180],[250,120]\n",
    "table = pd.DataFrame([sex,survived],columns=['0','1'],index=['female','male'])\n",
    "print(table)"
   ]
  },
  {
   "cell_type": "code",
   "execution_count": 40,
   "id": "0e29a273",
   "metadata": {},
   "outputs": [
    {
     "name": "stdout",
     "output_type": "stream",
     "text": [
      "29.708279870616664\n",
      "5.0219862934101434e-08\n",
      "1\n",
      "[[196.34 143.66]\n",
      " [213.66 156.34]]\n"
     ]
    }
   ],
   "source": [
    "# 3. 검정실시(통계량, p-value, 기대빈도 확인)\n",
    "from scipy.stats import chi2_contingency\n",
    "\n",
    "# 위와 같이 교차표 만들어서 입력\n",
    "statistic, pvalue, dof, expected = chi2_contingency(table)\n",
    "\n",
    "print(statistic)\n",
    "print(round(pvalue,70))\n",
    "print(dof) # 자유도 = (행-1)*(열-1)\n",
    "print(np.round(expected,2))"
   ]
  },
  {
   "cell_type": "code",
   "execution_count": 41,
   "id": "2c302097",
   "metadata": {},
   "outputs": [],
   "source": [
    "# 4. 귀무가설 기각여부 결정(채택/기각)\n",
    "# p-value 값이 0.05보다 크기 때문에 귀무가설을 채택한다.\n",
    "# 즉, 성별과 생존여부는 서로 관련이 없다고 할 수 있다.\n",
    "\n",
    "# 답 : 채택"
   ]
  }
 ],
 "metadata": {
  "kernelspec": {
   "display_name": "Python 3 (ipykernel)",
   "language": "python",
   "name": "python3"
  },
  "language_info": {
   "codemirror_mode": {
    "name": "ipython",
    "version": 3
   },
   "file_extension": ".py",
   "mimetype": "text/x-python",
   "name": "python",
   "nbconvert_exporter": "python",
   "pygments_lexer": "ipython3",
   "version": "3.11.5"
  }
 },
 "nbformat": 4,
 "nbformat_minor": 5
}
