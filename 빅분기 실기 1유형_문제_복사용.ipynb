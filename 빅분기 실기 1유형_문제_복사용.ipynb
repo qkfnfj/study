{
 "cells": [
  {
   "cell_type": "code",
   "execution_count": 1,
   "id": "56db4d02",
   "metadata": {},
   "outputs": [
    {
     "data": {
      "text/html": [
       "<div>\n",
       "<style scoped>\n",
       "    .dataframe tbody tr th:only-of-type {\n",
       "        vertical-align: middle;\n",
       "    }\n",
       "\n",
       "    .dataframe tbody tr th {\n",
       "        vertical-align: top;\n",
       "    }\n",
       "\n",
       "    .dataframe thead th {\n",
       "        text-align: right;\n",
       "    }\n",
       "</style>\n",
       "<table border=\"1\" class=\"dataframe\">\n",
       "  <thead>\n",
       "    <tr style=\"text-align: right;\">\n",
       "      <th></th>\n",
       "      <th>car</th>\n",
       "      <th>mpg</th>\n",
       "      <th>cyl</th>\n",
       "      <th>disp</th>\n",
       "      <th>hp</th>\n",
       "      <th>drat</th>\n",
       "      <th>wt</th>\n",
       "      <th>qsec</th>\n",
       "      <th>vs</th>\n",
       "      <th>am</th>\n",
       "      <th>gear</th>\n",
       "      <th>carb</th>\n",
       "    </tr>\n",
       "  </thead>\n",
       "  <tbody>\n",
       "    <tr>\n",
       "      <th>0</th>\n",
       "      <td>Mazda RX4</td>\n",
       "      <td>21.0</td>\n",
       "      <td>6</td>\n",
       "      <td>160.0</td>\n",
       "      <td>110</td>\n",
       "      <td>3.90</td>\n",
       "      <td>2.620</td>\n",
       "      <td>16.46</td>\n",
       "      <td>0</td>\n",
       "      <td>1</td>\n",
       "      <td>4</td>\n",
       "      <td>4</td>\n",
       "    </tr>\n",
       "    <tr>\n",
       "      <th>1</th>\n",
       "      <td>Mazda RX4 Wag</td>\n",
       "      <td>21.0</td>\n",
       "      <td>6</td>\n",
       "      <td>160.0</td>\n",
       "      <td>110</td>\n",
       "      <td>3.90</td>\n",
       "      <td>2.875</td>\n",
       "      <td>17.02</td>\n",
       "      <td>0</td>\n",
       "      <td>1</td>\n",
       "      <td>4</td>\n",
       "      <td>4</td>\n",
       "    </tr>\n",
       "    <tr>\n",
       "      <th>2</th>\n",
       "      <td>Datsun 710</td>\n",
       "      <td>22.8</td>\n",
       "      <td>4</td>\n",
       "      <td>108.0</td>\n",
       "      <td>93</td>\n",
       "      <td>3.85</td>\n",
       "      <td>2.320</td>\n",
       "      <td>18.61</td>\n",
       "      <td>1</td>\n",
       "      <td>1</td>\n",
       "      <td>4</td>\n",
       "      <td>1</td>\n",
       "    </tr>\n",
       "    <tr>\n",
       "      <th>3</th>\n",
       "      <td>Hornet 4 Drive</td>\n",
       "      <td>21.4</td>\n",
       "      <td>6</td>\n",
       "      <td>258.0</td>\n",
       "      <td>110</td>\n",
       "      <td>3.08</td>\n",
       "      <td>3.215</td>\n",
       "      <td>19.44</td>\n",
       "      <td>1</td>\n",
       "      <td>0</td>\n",
       "      <td>3</td>\n",
       "      <td>1</td>\n",
       "    </tr>\n",
       "    <tr>\n",
       "      <th>4</th>\n",
       "      <td>Hornet Sportabout</td>\n",
       "      <td>18.7</td>\n",
       "      <td>8</td>\n",
       "      <td>360.0</td>\n",
       "      <td>175</td>\n",
       "      <td>3.15</td>\n",
       "      <td>3.440</td>\n",
       "      <td>17.02</td>\n",
       "      <td>0</td>\n",
       "      <td>0</td>\n",
       "      <td>3</td>\n",
       "      <td>2</td>\n",
       "    </tr>\n",
       "  </tbody>\n",
       "</table>\n",
       "</div>"
      ],
      "text/plain": [
       "                 car   mpg  cyl   disp   hp  drat     wt   qsec  vs  am  gear  \\\n",
       "0          Mazda RX4  21.0    6  160.0  110  3.90  2.620  16.46   0   1     4   \n",
       "1      Mazda RX4 Wag  21.0    6  160.0  110  3.90  2.875  17.02   0   1     4   \n",
       "2         Datsun 710  22.8    4  108.0   93  3.85  2.320  18.61   1   1     4   \n",
       "3     Hornet 4 Drive  21.4    6  258.0  110  3.08  3.215  19.44   1   0     3   \n",
       "4  Hornet Sportabout  18.7    8  360.0  175  3.15  3.440  17.02   0   0     3   \n",
       "\n",
       "   carb  \n",
       "0     4  \n",
       "1     4  \n",
       "2     1  \n",
       "3     1  \n",
       "4     2  "
      ]
     },
     "execution_count": 1,
     "metadata": {},
     "output_type": "execute_result"
    }
   ],
   "source": [
    "import pandas as pd\n",
    "import numpy as np\n",
    "df = pd.read_csv(\"mtcars.csv\")\n",
    "df.head()"
   ]
  },
  {
   "cell_type": "code",
   "execution_count": 2,
   "id": "eebc6e72",
   "metadata": {},
   "outputs": [],
   "source": [
    "df = pd.read_csv(\"mtcars.csv\")"
   ]
  },
  {
   "cell_type": "code",
   "execution_count": 3,
   "id": "30d5756c",
   "metadata": {},
   "outputs": [],
   "source": [
    "# 문제1\n",
    "# mpg 변수의 제 1사분위수를 구하고 정수값으로 출력하시오.\n",
    "df = pd.read_csv(\"mtcars.csv\")"
   ]
  },
  {
   "cell_type": "code",
   "execution_count": 4,
   "id": "75f3769c",
   "metadata": {},
   "outputs": [],
   "source": [
    "# 문제2\n",
    "# mpg값이 19이상 21이하인 데이터의 수를 구하시오.\n",
    "df = pd.read_csv(\"mtcars.csv\")"
   ]
  },
  {
   "cell_type": "code",
   "execution_count": 5,
   "id": "4771b094",
   "metadata": {},
   "outputs": [],
   "source": [
    "# 문제3\n",
    "# hp변수의 IQR 값을 구하시오.\n",
    "df = pd.read_csv(\"mtcars.csv\")"
   ]
  },
  {
   "cell_type": "code",
   "execution_count": 6,
   "id": "b526afca",
   "metadata": {},
   "outputs": [],
   "source": [
    "# 문제4\n",
    "# wt 변수의 상위 10개 값의 총합을 구하여 소수점을 버리고 정수로 출력하시오.\n",
    "df = pd.read_csv(\"mtcars.csv\")"
   ]
  },
  {
   "cell_type": "code",
   "execution_count": 7,
   "id": "abf1a290",
   "metadata": {},
   "outputs": [],
   "source": [
    "# 문제5\n",
    "# 전체 자동차에서 cyl가 6인 비율이 얼마인지 소수점 첫째자리까지 출력하시오.\n",
    "df = pd.read_csv(\"mtcars.csv\")"
   ]
  },
  {
   "cell_type": "code",
   "execution_count": 8,
   "id": "1b135502",
   "metadata": {},
   "outputs": [],
   "source": [
    "# 문제6\n",
    "# 첫번째 행부터 순서대로 10개 뽑은 후 mpg 열의 평균값을 반올림하여 정수로 출력하시오\n",
    "df = pd.read_csv(\"mtcars.csv\")"
   ]
  },
  {
   "cell_type": "code",
   "execution_count": 9,
   "id": "59c5bbe0",
   "metadata": {},
   "outputs": [],
   "source": [
    "# 문제7\n",
    "# 첫번째 행부터 순서대로 50%까지 데이터를 뽑아 wt 변수의 중앙값을 구하시오.\n",
    "df = pd.read_csv(\"mtcars.csv\")"
   ]
  },
  {
   "cell_type": "code",
   "execution_count": 10,
   "id": "2f130a35",
   "metadata": {},
   "outputs": [],
   "source": [
    "# 문제8\n",
    "# 결측값이 있는 데이터의 수를 구하시오.\n",
    "df = pd.DataFrame({\n",
    "    '날짜':['20220103','20220105', None,'20230127','20220203', '20220205','20230210','20230223','20230312','20230422','20230505','20230511'],\n",
    "    '제품':['A','B', None, 'B', 'A', None,'A', 'B', 'A', 'B', 'A', 'A'],\n",
    "    '판매수':[3, None, 5, 10, 10, 10, 15, 15, 20, None, 30, 40],\n",
    "    '개당수익':[300, 400, 500, 600, 400, 500, 500, 600, 600, 700, 600, 600]\n",
    "})"
   ]
  },
  {
   "cell_type": "code",
   "execution_count": 11,
   "id": "b25377ed",
   "metadata": {},
   "outputs": [],
   "source": [
    "# 문제9\n",
    "# '판매수' 컬럼의 결측값을 판매수의 중앙값으로 대체하고\n",
    "# 판매수의 평균값을 반올림하여 정수로 출력하시오."
   ]
  },
  {
   "cell_type": "code",
   "execution_count": 12,
   "id": "d134726d",
   "metadata": {},
   "outputs": [],
   "source": [
    "# 문제10\n",
    "# 판매수 컬럼에 결측치가 있는 행을 제거하고,\n",
    "# 첫번째 행부터 순서대로 50%까지의 데이터를 추출하여\n",
    "# 판매수 변수의 Q1(제1사분위수)값을 반올림하여 정수로 출력하시오.\n",
    "\n",
    "df = pd.DataFrame({\n",
    "    '날짜':['20220103','20220105', None,'20230127','20220203', '20220205','20230210','20230223','20230312','20230422','20230505','20230511'],\n",
    "    '제품':['A','B', None, 'B', 'A', None,'A', 'B', 'A', 'B', 'A', 'A'],\n",
    "    '판매수':[3, None, 5, 10, 10, 10, 15, 15, 20, None, 30, 40],\n",
    "    '개당수익':[300, 400, 500, 600, 400, 500, 500, 600, 600, 700, 600, 600]\n",
    "})"
   ]
  },
  {
   "cell_type": "code",
   "execution_count": 13,
   "id": "34b60637",
   "metadata": {},
   "outputs": [],
   "source": [
    "# 문제11\n",
    "# cyl가 4인 자동차가 6인 자동차 그룹의 mpg 평균값 차이를 \n",
    "# 절대적으로 반올림하여 정수로 출력하시오\n",
    "df = pd.read_csv(\"mtcars.csv\")"
   ]
  },
  {
   "cell_type": "code",
   "execution_count": 14,
   "id": "df42ba21",
   "metadata": {},
   "outputs": [],
   "source": [
    "# 문제12\n",
    "# hp 변수에 대해 데이터표준화(Z-score)를 진행하고 이상치의 수를 구하시오.\n",
    "# (단, 이상치는 Z값이 1.5를 초과하거나 -1.5 미만인 값이다.)\n",
    "df = pd.read_csv(\"mtcars.csv\")"
   ]
  },
  {
   "cell_type": "code",
   "execution_count": 15,
   "id": "67131a19",
   "metadata": {},
   "outputs": [],
   "source": [
    "# 문제13\n",
    "# mpg 컬럼을 최소최대 Scaling을 진행한 후 0.7보다 큰 값을 가지는 레코드 수를 구하라.\n",
    "df = pd.read_csv(\"mtcars.csv\")"
   ]
  },
  {
   "cell_type": "code",
   "execution_count": 16,
   "id": "adbd292f",
   "metadata": {},
   "outputs": [],
   "source": [
    "# 문제14\n",
    "# wt 컬럼에 대해 상자그림 기준으로 이상치의 개수를 구하시오.\n",
    "df = pd.read_csv(\"mtcars.csv\")"
   ]
  },
  {
   "cell_type": "code",
   "execution_count": 17,
   "id": "3f9d60fd",
   "metadata": {},
   "outputs": [],
   "source": [
    "# 문제15\n",
    "# 판매수 컬럼의 결측치를 최소값으로 대체하고\n",
    "# 결측치가 있을 때와 최소값으로 대체했을 때 평균값의 차이를 절대적으로 반올림하여 정수로 출력하시오\n",
    "\n",
    "df = pd.DataFrame({\n",
    "    '날짜':['20220103','20220105', None,'20230127','20220203', '20220205','20230210','20230223','20230312','20230422','20230505','20230511'],\n",
    "    '제품':['A','B', None, 'B', 'A', None,'A', 'B', 'A', 'B', 'A', 'A'],\n",
    "    '판매수':[3, None, 5, 10, 10, 10, 15, 15, 20, None, 30, 40],\n",
    "    '개당수익':[300, 400, 500, 600, 400, 500, 500, 600, 600, 700, 600, 600]\n",
    "})"
   ]
  },
  {
   "cell_type": "code",
   "execution_count": 18,
   "id": "5307b953",
   "metadata": {},
   "outputs": [],
   "source": [
    "# 문제16\n",
    "# vs변수가 0이 아닌 차량 중에 mpg값이 가장 큰 차량의 hp값을 출력하시오.\n",
    "df = pd.read_csv(\"mtcars.csv\")"
   ]
  },
  {
   "cell_type": "code",
   "execution_count": 19,
   "id": "22fe4474",
   "metadata": {},
   "outputs": [],
   "source": [
    "# 문제17\n",
    "# gear 변수값이 3, 4인 두 그룹의 hp 표준편차값의 차이를 절대값으로 반올림하여 소수점 첫째자리까지 출력하시오\n",
    "df = pd.read_csv(\"mtcars.csv\")"
   ]
  },
  {
   "cell_type": "code",
   "execution_count": 20,
   "id": "bb782e91",
   "metadata": {},
   "outputs": [],
   "source": [
    "# 문제18\n",
    "# gear변수의 값별로 그룹화하여 mpg평균값을 산출하고 평균값이 높은 그룹의 mpg 제3사분위수 값을 구하시오\n",
    "df = pd.read_csv(\"mtcars.csv\")"
   ]
  },
  {
   "cell_type": "code",
   "execution_count": 21,
   "id": "9e275b62",
   "metadata": {},
   "outputs": [],
   "source": [
    "# 문제19\n",
    "# hp 항목의 상위 7번째 값으로 상위 7개 값을 변환한 후, \n",
    "# hp가 150 이상인 데이터를 추출하여 hp의 평균값을 반올림하여 정수로 출력하시오\n",
    "df = pd.read_csv(\"mtcars.csv\")"
   ]
  },
  {
   "cell_type": "code",
   "execution_count": 22,
   "id": "aee99ade",
   "metadata": {},
   "outputs": [],
   "source": [
    "# 문제20\n",
    "# car변수에 Merc 문구가 포함된 자동차의 mpg 평균값을 반올림하여 정수로 출력하시오.\n",
    "df = pd.read_csv(\"mtcars.csv\")"
   ]
  },
  {
   "cell_type": "code",
   "execution_count": 23,
   "id": "d97d5461",
   "metadata": {},
   "outputs": [],
   "source": [
    "# 문제21\n",
    "# 22년 1분기 매출액을 구하시오.\n",
    "# (매출액 = 판매수*개당수익)\n",
    "df = pd.DataFrame({\n",
    "    '날짜': ['20220103','20220105','20230105','20230127','20220203','20220205','20230223','20230223','20230312','20230422','20220505','20230511'],\n",
    "    '물품': ['A', 'B', 'A', 'B', 'A', 'B', 'A', 'B', 'A', 'B', 'A', 'A'],\n",
    "    '판매수': [3, 5, 5, 10, 10, 10, 15, 15, 20, 25, 30, 40],\n",
    "    '개당수익': [300, 400, 500, 600, 400, 500, 500, 600, 600, 700, 600, 600]})"
   ]
  },
  {
   "cell_type": "code",
   "execution_count": 24,
   "id": "20b93110",
   "metadata": {},
   "outputs": [],
   "source": [
    "# 문제21 (두번째 방법)\n",
    "df = pd.DataFrame({\n",
    "    '날짜': ['20220103','20220105','20230105','20230127','20220203','20220205','20230223','20230223','20230312','20230422','20220505','20230511'],\n",
    "    '물품': ['A', 'B', 'A', 'B', 'A', 'B', 'A', 'B', 'A', 'B', 'A', 'A'],\n",
    "    '판매수': [3, 5, 5, 10, 10, 10, 15, 15, 20, 25, 30, 40],\n",
    "    '개당수익': [300, 400, 500, 600, 400, 500, 500, 600, 600, 700, 600, 600]})"
   ]
  },
  {
   "cell_type": "code",
   "execution_count": 25,
   "id": "52a36368",
   "metadata": {},
   "outputs": [],
   "source": [
    "# 문제21 (세번째 방법)\n",
    "df = pd.DataFrame({\n",
    "    '날짜': ['20220103','20220105','20230105','20230127','20220203','20220205','20230223','20230223','20230312','20230422','20220505','20230511'],\n",
    "    '물품': ['A', 'B', 'A', 'B', 'A', 'B', 'A', 'B', 'A', 'B', 'A', 'A'],\n",
    "    '판매수': [3, 5, 5, 10, 10, 10, 15, 15, 20, 25, 30, 40],\n",
    "    '개당수익': [300, 400, 500, 600, 400, 500, 500, 600, 600, 700, 600, 600]})"
   ]
  },
  {
   "cell_type": "code",
   "execution_count": 26,
   "id": "c85e7695",
   "metadata": {},
   "outputs": [],
   "source": [
    "# 문제22\n",
    "# 22년과 23년의 총 매출액 차이를 절대값으로 구하시오.\n",
    "df = pd.DataFrame({\n",
    "    '날짜': ['20220103','20220105','20230105','20230127','20220203','20220205','20230223','20230223','20230312','20230422','20220505','20230511'],\n",
    "    '물품': ['A', 'B', 'A', 'B', 'A', 'B', 'A', 'B', 'A', 'B', 'A', 'A'],\n",
    "    '판매수': [3, 5, 5, 10, 10, 10, 15, 15, 20, 25, 30, 40],\n",
    "    '개당수익': [300, 400, 500, 600, 400, 500, 500, 600, 600, 700, 600, 600]})"
   ]
  },
  {
   "cell_type": "code",
   "execution_count": 27,
   "id": "8ef15713",
   "metadata": {},
   "outputs": [],
   "source": [
    "# 문제23\n",
    "# 23년 총 매출액이 큰 제품의 23년 판매수를 구하시오.\n",
    "df = pd.DataFrame({\n",
    "    '날짜': ['20220103','20220105','20230105','20230127','20220203','20220205','20230223','20230223','20230312','20230422','20220505','20230511'],\n",
    "    '제품': ['A', 'B', 'A', 'B', 'A', 'B', 'A', 'B', 'A', 'B', 'A', 'A'],\n",
    "    '판매수': [3, 5, 5, 10, 10, 10, 15, 15, 20, 25, 30, 40],\n",
    "    '개당수익': [300, 400, 500, 600, 400, 500, 500, 600, 600, 700, 600, 600]})"
   ]
  },
  {
   "cell_type": "code",
   "execution_count": 28,
   "id": "c12fd394",
   "metadata": {},
   "outputs": [],
   "source": [
    "# 문제24\n",
    "# 매출액이 4천원 초과, 1만원 미만인 데이터 수를 출력하시오.\n",
    "df = pd.DataFrame({\n",
    "    '날짜': ['20220103','20220105','20230105','20230127','20220203','20220205','20230223','20230223','20230312','20230422','20220505','20230511'],\n",
    "    '제품': ['A', 'B', 'A', 'B', 'A', 'B', 'A', 'B', 'A', 'B', 'A', 'A'],\n",
    "    '판매수': [3, 5, 5, 10, 10, 10, 15, 15, 20, 25, 30, 40],\n",
    "    '개당수익': [300, 400, 500, 600, 400, 500, 500, 600, 600, 700, 600, 600]})"
   ]
  },
  {
   "cell_type": "code",
   "execution_count": 29,
   "id": "2263c010",
   "metadata": {},
   "outputs": [],
   "source": [
    "# 문제25\n",
    "# 23년 9월 24일 16:00~22:00 사이에 전체 제품의 판매수를 구하시오.\n",
    "df = pd.DataFrame({\n",
    "    '물품': ['A', 'B', 'A', 'B', 'A', 'B', 'A'],\n",
    "    '판매수': [5, 10, 15, 15, 20, 25, 40],\n",
    "    '개당수익': [500, 600, 500, 600, 600, 700, 600]})\n",
    "time = pd.date_range('2023-09-24 12:25:00','2023-09-25 14:45:30', periods=7)\n",
    "df['time']=time\n",
    "df=df[['time','물품','판매수','개당수익']]"
   ]
  },
  {
   "cell_type": "code",
   "execution_count": 30,
   "id": "542450fc",
   "metadata": {},
   "outputs": [],
   "source": [
    "# 문제26\n",
    "# 9월 25일 00:00~12:00까지의 B물품의 매출액 총합을 구하시오.\n",
    "df = pd.DataFrame({\n",
    "    '물품': ['A', 'B', 'A', 'B', 'A', 'B', 'A'],\n",
    "    '판매수': [5, 10, 15, 15, 20, 25, 40],\n",
    "    '개당수익': [500, 600, 500, 600, 600, 700, 600]})\n",
    "time = pd.date_range('2023-09-24 12:25:00','2023-09-25 14:45:30', periods=7)\n",
    "df['time']=time\n",
    "df=df[['time','물품','판매수','개당수익']]"
   ]
  },
  {
   "cell_type": "code",
   "execution_count": 31,
   "id": "5447fe1f",
   "metadata": {},
   "outputs": [],
   "source": [
    "# 문제27\n",
    "# 9월 24일 12:00~24:00 까지의 A물품의 매출액 총합을 구하시오.\n",
    "df = pd.DataFrame({\n",
    "    '물품': ['A', 'B', 'A', 'B', 'A', 'B', 'A'],\n",
    "    '판매수': [5, 10, 15, 15, 20, 25, 40],\n",
    "    '개당수익': [500, 600, 500, 600, 600, 700, 600]})\n",
    "time = pd.date_range('2023-09-24 12:25:00','2023-09-25 14:45:30', periods=7)\n",
    "df['time']=time\n",
    "df=df[['time','물품','판매수','개당수익']]"
   ]
  }
 ],
 "metadata": {
  "kernelspec": {
   "display_name": "Python 3 (ipykernel)",
   "language": "python",
   "name": "python3"
  },
  "language_info": {
   "codemirror_mode": {
    "name": "ipython",
    "version": 3
   },
   "file_extension": ".py",
   "mimetype": "text/x-python",
   "name": "python",
   "nbconvert_exporter": "python",
   "pygments_lexer": "ipython3",
   "version": "3.11.5"
  }
 },
 "nbformat": 4,
 "nbformat_minor": 5
}
