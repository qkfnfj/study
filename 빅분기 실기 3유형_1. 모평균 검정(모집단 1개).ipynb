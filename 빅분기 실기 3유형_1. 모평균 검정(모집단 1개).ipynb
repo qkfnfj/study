{
 "cells": [
  {
   "cell_type": "markdown",
   "id": "fe7d7b79",
   "metadata": {},
   "source": [
    "# 검정방법"
   ]
  },
  {
   "cell_type": "markdown",
   "id": "85dbb283",
   "metadata": {},
   "source": [
    " ### 1) (정규성 O) 단일표본 t검정(1sample-test)\n",
    " ### 2) (정규성 X) 윌콕슨 부호순위 검정"
   ]
  },
  {
   "cell_type": "markdown",
   "id": "59f3b489",
   "metadata": {},
   "source": [
    "# 가설검정 순서"
   ]
  },
  {
   "cell_type": "markdown",
   "id": "afe80e2d",
   "metadata": {},
   "source": [
    "### 1. 가설설정 (문제에서 주어질 확률 높음)\n",
    "### 2. 유의수준 확인 (문제에서 주어짐)\n",
    "### 3. 정규성 검정 (정규성을 따를 확률 높음)\n",
    "### 4. 검정실시 (통계량, pvalue 확인)\n",
    "### 5. 귀무가설 기각여부 결정 (채택/기각)"
   ]
  },
  {
   "cell_type": "markdown",
   "id": "84b87dce",
   "metadata": {},
   "source": [
    "## 1. mtcars 데이터셋의 평균이 20과 같다고 할 수 있는지 검정하시오 (유의수준 5%)"
   ]
  },
  {
   "cell_type": "code",
   "execution_count": 30,
   "id": "3b78b238",
   "metadata": {},
   "outputs": [],
   "source": [
    "import pandas as pd\n",
    "import numpy as np"
   ]
  },
  {
   "cell_type": "code",
   "execution_count": 16,
   "id": "864809cc",
   "metadata": {},
   "outputs": [
    {
     "data": {
      "text/html": [
       "<div>\n",
       "<style scoped>\n",
       "    .dataframe tbody tr th:only-of-type {\n",
       "        vertical-align: middle;\n",
       "    }\n",
       "\n",
       "    .dataframe tbody tr th {\n",
       "        vertical-align: top;\n",
       "    }\n",
       "\n",
       "    .dataframe thead th {\n",
       "        text-align: right;\n",
       "    }\n",
       "</style>\n",
       "<table border=\"1\" class=\"dataframe\">\n",
       "  <thead>\n",
       "    <tr style=\"text-align: right;\">\n",
       "      <th></th>\n",
       "      <th>car</th>\n",
       "      <th>mpg</th>\n",
       "      <th>cyl</th>\n",
       "      <th>disp</th>\n",
       "      <th>hp</th>\n",
       "      <th>drat</th>\n",
       "      <th>wt</th>\n",
       "      <th>qsec</th>\n",
       "      <th>vs</th>\n",
       "      <th>am</th>\n",
       "      <th>gear</th>\n",
       "      <th>carb</th>\n",
       "    </tr>\n",
       "  </thead>\n",
       "  <tbody>\n",
       "    <tr>\n",
       "      <th>0</th>\n",
       "      <td>Mazda RX4</td>\n",
       "      <td>21.0</td>\n",
       "      <td>6</td>\n",
       "      <td>160.0</td>\n",
       "      <td>110</td>\n",
       "      <td>3.90</td>\n",
       "      <td>2.620</td>\n",
       "      <td>16.46</td>\n",
       "      <td>0</td>\n",
       "      <td>1</td>\n",
       "      <td>4</td>\n",
       "      <td>4</td>\n",
       "    </tr>\n",
       "    <tr>\n",
       "      <th>1</th>\n",
       "      <td>Mazda RX4 Wag</td>\n",
       "      <td>21.0</td>\n",
       "      <td>6</td>\n",
       "      <td>160.0</td>\n",
       "      <td>110</td>\n",
       "      <td>3.90</td>\n",
       "      <td>2.875</td>\n",
       "      <td>17.02</td>\n",
       "      <td>0</td>\n",
       "      <td>1</td>\n",
       "      <td>4</td>\n",
       "      <td>4</td>\n",
       "    </tr>\n",
       "    <tr>\n",
       "      <th>2</th>\n",
       "      <td>Datsun 710</td>\n",
       "      <td>22.8</td>\n",
       "      <td>4</td>\n",
       "      <td>108.0</td>\n",
       "      <td>93</td>\n",
       "      <td>3.85</td>\n",
       "      <td>2.320</td>\n",
       "      <td>18.61</td>\n",
       "      <td>1</td>\n",
       "      <td>1</td>\n",
       "      <td>4</td>\n",
       "      <td>1</td>\n",
       "    </tr>\n",
       "  </tbody>\n",
       "</table>\n",
       "</div>"
      ],
      "text/plain": [
       "             car   mpg  cyl   disp   hp  drat     wt   qsec  vs  am  gear  \\\n",
       "0      Mazda RX4  21.0    6  160.0  110  3.90  2.620  16.46   0   1     4   \n",
       "1  Mazda RX4 Wag  21.0    6  160.0  110  3.90  2.875  17.02   0   1     4   \n",
       "2     Datsun 710  22.8    4  108.0   93  3.85  2.320  18.61   1   1     4   \n",
       "\n",
       "   carb  \n",
       "0     4  \n",
       "1     4  \n",
       "2     1  "
      ]
     },
     "execution_count": 16,
     "metadata": {},
     "output_type": "execute_result"
    }
   ],
   "source": [
    "df = pd.read_csv(\"mtcars.csv\")\n",
    "df.head(3)"
   ]
  },
  {
   "cell_type": "code",
   "execution_count": 17,
   "id": "cd381525",
   "metadata": {},
   "outputs": [],
   "source": [
    "# 1. mtcars 데이터셋의 mpg열의 데이터의 평균이 \n",
    "# 20과 같다고 할 수 있는지 검정하시오.(유의수준 5%)"
   ]
  },
  {
   "cell_type": "code",
   "execution_count": 18,
   "id": "8ddfb7fb",
   "metadata": {},
   "outputs": [],
   "source": [
    "import scipy.stats as stats\n",
    "from scipy.stats import shapiro"
   ]
  },
  {
   "cell_type": "code",
   "execution_count": 19,
   "id": "b0468afb",
   "metadata": {},
   "outputs": [],
   "source": [
    "# 1. 가설검정\n",
    "# H0 : mpg 열의 평균이 20과 같다.\n",
    "# H1 : mpg 열의 평균이 20과 같지 않다."
   ]
  },
  {
   "cell_type": "code",
   "execution_count": 20,
   "id": "13c49e31",
   "metadata": {},
   "outputs": [],
   "source": [
    "# 2. 유의수준 확인 : 유의수준 5%로 확인"
   ]
  },
  {
   "cell_type": "code",
   "execution_count": 21,
   "id": "8f344ddf",
   "metadata": {},
   "outputs": [
    {
     "name": "stdout",
     "output_type": "stream",
     "text": [
      "0.9476 0.1229\n",
      "ShapiroResult(statistic=0.9475648403167725, pvalue=0.1228824257850647)\n"
     ]
    }
   ],
   "source": [
    "# 3, 정규성 검정\n",
    "# H0(귀무가설) : 정규분포를 따른다.\n",
    "# H1(대립가설) : 정규분포를 따르지 않는다.\n",
    "\n",
    "statistic, pvalue = stats.shapiro(df['mpg'])\n",
    "print(round(statistic,4), round(pvalue,4))\n",
    "\n",
    "result = stats.shapiro(df['mpg'])\n",
    "print(result)"
   ]
  },
  {
   "cell_type": "code",
   "execution_count": 22,
   "id": "4a6ccb7a",
   "metadata": {},
   "outputs": [],
   "source": [
    "# p-value 값이 유의수준(0.05)보다 크다. 귀무가설 채택(H0)\n",
    "# (만약 정규분포를 따르지 않는다면 비모수 검정방법을 써야 함)(윌콕슨의 부호순위 검정))"
   ]
  },
  {
   "cell_type": "code",
   "execution_count": 25,
   "id": "1125872b",
   "metadata": {},
   "outputs": [
    {
     "name": "stdout",
     "output_type": "stream",
     "text": [
      "0.0851 0.9328\n"
     ]
    }
   ],
   "source": [
    "# 4.1 (정규성만족0) t-검정 실시\n",
    "statistic, pvalue = stats.ttest_1samp(df['mpg'], popmean = 20, alternative = 'two-sided') # popmean : 비교할 값(20)\n",
    "                                                                                          # alternative : 대립가설관련, 디폴트 'two-sided'\n",
    "                                                                                          # H1 : 왼쪽값이 오른쪽값과 같지 않다.\n",
    "print(round(statistic,4), round(pvalue,4))\n",
    "# alternative (대립가설 H1) 옵션 : 'two-sided', 'greator', 'less'"
   ]
  },
  {
   "cell_type": "code",
   "execution_count": 26,
   "id": "e66c1be7",
   "metadata": {},
   "outputs": [],
   "source": [
    "# p-value가 0.05보다 크므로 귀무가설 채택(H0)"
   ]
  },
  {
   "cell_type": "code",
   "execution_count": 27,
   "id": "41abd8a5",
   "metadata": {},
   "outputs": [
    {
     "name": "stdout",
     "output_type": "stream",
     "text": [
      "249.0 0.7891\n"
     ]
    }
   ],
   "source": [
    "# 4.2 (정규성만족 X) wilcoxon 부호순위 검정\n",
    "statistic, pvalue = stats.wilcoxon(df['mpg']-20, alternative = 'two-sided')\n",
    "print(round(statistic,4), round(pvalue,4))"
   ]
  },
  {
   "cell_type": "code",
   "execution_count": 28,
   "id": "3532ed9d",
   "metadata": {},
   "outputs": [],
   "source": [
    "# 5. 귀무가설 기각여부 결정(채택/기각)\n",
    "# p-value 값이 0.05보다 크기 때문에(0.9328) 귀무가설을 채택한다.\n",
    "# 즉, mpg열의 평균이 20과 같다고 할 수 있다.\n",
    "\n",
    "# 답 : 채택"
   ]
  },
  {
   "cell_type": "code",
   "execution_count": 29,
   "id": "190287a7",
   "metadata": {},
   "outputs": [
    {
     "data": {
      "text/plain": [
       "20.090625000000003"
      ]
     },
     "execution_count": 29,
     "metadata": {},
     "output_type": "execute_result"
    }
   ],
   "source": [
    "# 실제로 평균을 구해보면\n",
    "df['mpg'].mean()"
   ]
  },
  {
   "cell_type": "markdown",
   "id": "4c8e7d58",
   "metadata": {},
   "source": [
    "## 2. mtcars 데이터셋의 mpg열의 평균이 17보다 크다고 할 수 있는지 검정하시오.(유의수준 5%)"
   ]
  },
  {
   "cell_type": "code",
   "execution_count": 32,
   "id": "2a467836",
   "metadata": {},
   "outputs": [],
   "source": [
    "# 1.가설검정\n",
    "# H0 : mpg 열의 평균이 17보다 작거나 같다.(mpg mean <= 17)\n",
    "# H1 : mpg 열의 평균이 17보다 크다.(mpg mean > 17)"
   ]
  },
  {
   "cell_type": "code",
   "execution_count": 33,
   "id": "592f6aaa",
   "metadata": {},
   "outputs": [],
   "source": [
    "# 2. 유의수준 확인 : 유의수준 5% 확인"
   ]
  },
  {
   "cell_type": "code",
   "execution_count": 34,
   "id": "eeb977a5",
   "metadata": {},
   "outputs": [
    {
     "name": "stdout",
     "output_type": "stream",
     "text": [
      "0.9476 0.1229\n"
     ]
    }
   ],
   "source": [
    "# 3. 정규성 검정\n",
    "statistic, pvalue = stats.shapiro(df['mpg'])\n",
    "print(round(statistic,4), round(pvalue,4))"
   ]
  },
  {
   "cell_type": "code",
   "execution_count": 36,
   "id": "9c9e5b72",
   "metadata": {},
   "outputs": [
    {
     "name": "stdout",
     "output_type": "stream",
     "text": [
      "2.9008 0.0034\n"
     ]
    }
   ],
   "source": [
    "# 4.1 (정규성만족 O) t-검정 실시\n",
    "statistic, pvalue = stats.ttest_1samp(df['mpg'], popmean = 17, alternative='greater')\n",
    "print(round(statistic,4), round(pvalue,4))"
   ]
  },
  {
   "cell_type": "code",
   "execution_count": 40,
   "id": "03a3bebd",
   "metadata": {},
   "outputs": [
    {
     "name": "stdout",
     "output_type": "stream",
     "text": [
      "395.5 0.0066\n"
     ]
    }
   ],
   "source": [
    "# 4.2 (정규성만족 X) wilcoxon 부호순위 검정\n",
    "statistic, pvalue = stats.wilcoxon(df['mpg']-17, alternative = 'greater')\n",
    "print(round(statistic,4), round(pvalue,4))"
   ]
  },
  {
   "cell_type": "code",
   "execution_count": 41,
   "id": "bc5917e1",
   "metadata": {},
   "outputs": [],
   "source": [
    "# 5. 귀무가설 기각여부(채택/기각)\n",
    "# p-value 값이 0.05보다 작기 때문에 귀무가설을 기각한다(대립가설 채택)\n",
    "# 즉, mpg 열의 평균이 17보다 크다고 할 수 있다.\n",
    "\n",
    "# 답 : 기각"
   ]
  },
  {
   "cell_type": "markdown",
   "id": "d1900135",
   "metadata": {},
   "source": [
    "### 3. mtcars 데이터셋의 mpg열 데이터의 평균이 17보다 작다고 할 수 있는지 검정하시오.(유의수준 5%)"
   ]
  },
  {
   "cell_type": "code",
   "execution_count": 42,
   "id": "c5fd5f5f",
   "metadata": {},
   "outputs": [],
   "source": [
    "# 1. 가설설정\n",
    "# H0 : mpg 열의 평균이 17보다 크거나 같다.(mpg mean >= 17)\n",
    "# H1 : mpg 열의 평균이 17보다 작다."
   ]
  },
  {
   "cell_type": "code",
   "execution_count": 43,
   "id": "d84a4155",
   "metadata": {},
   "outputs": [],
   "source": [
    "# 2. 유의수준 확인 : 유의수준 5%로 확인"
   ]
  },
  {
   "cell_type": "code",
   "execution_count": 44,
   "id": "17bcdb8b",
   "metadata": {},
   "outputs": [
    {
     "name": "stdout",
     "output_type": "stream",
     "text": [
      "0.9476 0.1229\n"
     ]
    }
   ],
   "source": [
    "# 3. 정규성 검정\n",
    "statistic, pvalue = stats.shapiro(df['mpg'])\n",
    "print(round(statistic,4), round(pvalue, 4))"
   ]
  },
  {
   "cell_type": "code",
   "execution_count": 45,
   "id": "ef25ab81",
   "metadata": {},
   "outputs": [
    {
     "name": "stdout",
     "output_type": "stream",
     "text": [
      "2.9008 0.9966\n"
     ]
    }
   ],
   "source": [
    "# 4.1 (정규성만족 O) t-검정 실시\n",
    "statistic, pvalue = stats.ttest_1samp(df['mpg'], popmean = 17, alternative='less')\n",
    "print(round(statistic,4), round(pvalue,4))"
   ]
  },
  {
   "cell_type": "code",
   "execution_count": 46,
   "id": "922ee6cb",
   "metadata": {},
   "outputs": [
    {
     "name": "stdout",
     "output_type": "stream",
     "text": [
      "395.5 0.9938\n"
     ]
    }
   ],
   "source": [
    "# 4.2 (정규성만족 X) willcoxon 부호순위 검정\n",
    "statistic, pvalue = stats.wilcoxon(df['mpg']-17, alternative = 'less')\n",
    "print(round(statistic,4), round(pvalue,4))"
   ]
  },
  {
   "cell_type": "code",
   "execution_count": null,
   "id": "fbbc2331",
   "metadata": {},
   "outputs": [],
   "source": [
    "# 5. 귀무가설 기각여부 결정(채택/기각)\n",
    "# p-value 값이 0.05보다 크기 때문에 귀무가설을 채택한다.\n",
    "# 즉, mpg 열의 평균이 17보다 작다고 할 수 없다.\n",
    "\n",
    "# 답 : 채택"
   ]
  }
 ],
 "metadata": {
  "kernelspec": {
   "display_name": "Python 3 (ipykernel)",
   "language": "python",
   "name": "python3"
  },
  "language_info": {
   "codemirror_mode": {
    "name": "ipython",
    "version": 3
   },
   "file_extension": ".py",
   "mimetype": "text/x-python",
   "name": "python",
   "nbconvert_exporter": "python",
   "pygments_lexer": "ipython3",
   "version": "3.11.5"
  }
 },
 "nbformat": 4,
 "nbformat_minor": 5
}
