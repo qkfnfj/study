{
 "cells": [
  {
   "cell_type": "code",
   "execution_count": 2,
   "id": "9a51bbe7",
   "metadata": {},
   "outputs": [],
   "source": [
    "import pandas as pd\n",
    "import numpy as np"
   ]
  },
  {
   "cell_type": "markdown",
   "id": "43dba1fe",
   "metadata": {},
   "source": [
    "# 모평균 검정(모집단 1개)"
   ]
  },
  {
   "cell_type": "code",
   "execution_count": 14,
   "id": "f77c2dbc",
   "metadata": {},
   "outputs": [],
   "source": [
    "# 데이터셋 mpg평균이 20과 같다고 할 수 있는지?\n",
    "df = pd.read_csv(\"mtcars.csv\")"
   ]
  },
  {
   "cell_type": "code",
   "execution_count": 16,
   "id": "fcff7f14",
   "metadata": {},
   "outputs": [
    {
     "name": "stdout",
     "output_type": "stream",
     "text": [
      "0.9475648403167725 0.1228824257850647\n"
     ]
    }
   ],
   "source": [
    "import scipy.stats as stats\n",
    "from scipy.stats import shapiro\n",
    "\n",
    "# 정규성\n",
    "stat,pvalue = stats.shapiro(df['mpg'])\n",
    "print(stat, pvalue)"
   ]
  },
  {
   "cell_type": "code",
   "execution_count": 18,
   "id": "0815c6bb",
   "metadata": {},
   "outputs": [
    {
     "name": "stdout",
     "output_type": "stream",
     "text": [
      "0.08506003568133688 0.9327606409093872\n"
     ]
    }
   ],
   "source": [
    "# 만족\n",
    "stat, pvalue = stats.ttest_1samp(df['mpg'],popmean=20,alternative='two-sided')\n",
    "print(stat, pvalue)"
   ]
  },
  {
   "cell_type": "code",
   "execution_count": 20,
   "id": "a214b5a7",
   "metadata": {},
   "outputs": [
    {
     "name": "stdout",
     "output_type": "stream",
     "text": [
      "249.0 0.78912592260167\n"
     ]
    }
   ],
   "source": [
    "# 불만족\n",
    "stat, pvalue = stats.wilcoxon(df['mpg']-20,alternative='two-sided')\n",
    "print(stat,pvalue)"
   ]
  },
  {
   "cell_type": "markdown",
   "id": "1efe69f8",
   "metadata": {},
   "source": [
    "# 모평균 검정(모집단 2개-쌍체)"
   ]
  },
  {
   "cell_type": "code",
   "execution_count": 21,
   "id": "abd4a0e1",
   "metadata": {},
   "outputs": [],
   "source": [
    "# 혈압약 먹기 전,후의 차이\n",
    "df = pd.DataFrame({\n",
    "    'before': [120, 135, 122, 124, 135, 122, 145, 160, 155, 142, 144, 135, 167],\n",
    "    'after': [110, 132, 123, 119, 123, 115, 140, 162, 142, 138, 135, 142, 160]})"
   ]
  },
  {
   "cell_type": "code",
   "execution_count": 22,
   "id": "7124d719",
   "metadata": {},
   "outputs": [
    {
     "name": "stdout",
     "output_type": "stream",
     "text": [
      "0.9588785171508789 0.7362699508666992\n"
     ]
    }
   ],
   "source": [
    "import scipy.stats as stats\n",
    "from scipy.stats import shapiro\n",
    "\n",
    "# 정규성\n",
    "stat,pvalue = stats.shapiro(df['after']-df['before'])\n",
    "print(stat,pvalue)"
   ]
  },
  {
   "cell_type": "code",
   "execution_count": 23,
   "id": "87dd7d99",
   "metadata": {},
   "outputs": [
    {
     "name": "stdout",
     "output_type": "stream",
     "text": [
      "-3.13822957230424 0.008560014166295203\n"
     ]
    }
   ],
   "source": [
    "# 만족\n",
    "stat,pvalue = stats.ttest_rel(df['after'],df['before'],alternative = 'two-sided')\n",
    "print(stat,pvalue)"
   ]
  },
  {
   "cell_type": "code",
   "execution_count": 24,
   "id": "23a6164c",
   "metadata": {},
   "outputs": [
    {
     "name": "stdout",
     "output_type": "stream",
     "text": [
      "11.0 0.013427734375\n"
     ]
    }
   ],
   "source": [
    "# 불만족\n",
    "stat, pvalue = stats.wilcoxon(df['after']-df['before'])\n",
    "print(stat,pvalue)"
   ]
  },
  {
   "cell_type": "markdown",
   "id": "c7957ff4",
   "metadata": {},
   "source": [
    "# 모평균 검정(모집단 2개-2sample)"
   ]
  },
  {
   "cell_type": "code",
   "execution_count": 25,
   "id": "db09222e",
   "metadata": {},
   "outputs": [],
   "source": [
    "# 두 그룹의 혈압평균이 다르다고 할 수 있는지?\n",
    "df = pd.DataFrame({\n",
    "    'A': [120, 135, 122, 124, 135, 122, 145, 160, 155, 142, 144, 135, 167],\n",
    "    'B': [110, 132, 123, 119, 123, 115, 140, 162, 142, 138, 135, 142, 160]})"
   ]
  },
  {
   "cell_type": "code",
   "execution_count": 26,
   "id": "067d74eb",
   "metadata": {},
   "outputs": [
    {
     "name": "stdout",
     "output_type": "stream",
     "text": [
      "0.9314376711845398 0.35585272312164307\n",
      "0.9498201012611389 0.5955665707588196\n"
     ]
    }
   ],
   "source": [
    "import scipy.stats as stats\n",
    "from scipy.stats import shapiro\n",
    "\n",
    "# 정규성\n",
    "statA, pvalueA = stats.shapiro(df['A'])\n",
    "statB, pvalueB = stats.shapiro(df['B'])\n",
    "\n",
    "print(statA,pvalueA)\n",
    "print(statB,pvalueB)"
   ]
  },
  {
   "cell_type": "code",
   "execution_count": 27,
   "id": "12f07a2a",
   "metadata": {},
   "outputs": [
    {
     "name": "stdout",
     "output_type": "stream",
     "text": [
      "0.027930756790756274 0.867271716287991\n"
     ]
    }
   ],
   "source": [
    "# 등분산성\n",
    "stat, pvalue = stats.bartlett(df['A'],df['B'])\n",
    "print(stat,pvalue)"
   ]
  },
  {
   "cell_type": "code",
   "execution_count": 28,
   "id": "e80c88f1",
   "metadata": {},
   "outputs": [
    {
     "name": "stdout",
     "output_type": "stream",
     "text": [
      "0.8191722818556323 0.4207486213941666\n"
     ]
    }
   ],
   "source": [
    "# 만족, 등분산성\n",
    "stat, pvalue = stats.ttest_ind(df['A'],df['B'],\n",
    "                              equal_var = True,\n",
    "                              alternative = 'two-sided')\n",
    "print(stat, pvalue)"
   ]
  },
  {
   "cell_type": "code",
   "execution_count": 29,
   "id": "345b3661",
   "metadata": {},
   "outputs": [
    {
     "name": "stdout",
     "output_type": "stream",
     "text": [
      "0.8461538461538461 0.39746692542259277\n"
     ]
    }
   ],
   "source": [
    "# 불만족\n",
    "stat, pvalue = stats.ranksums(df['A'],df['B'],alternative = 'two-sided')\n",
    "print(stat,pvalue)"
   ]
  },
  {
   "cell_type": "markdown",
   "id": "3ccf56b4",
   "metadata": {},
   "source": [
    "# 모평균 검정(모집단 3개)"
   ]
  },
  {
   "cell_type": "code",
   "execution_count": 31,
   "id": "81829fa7",
   "metadata": {},
   "outputs": [],
   "source": [
    "# 세 그룹의 성적 평균이 같다고 할 수 있는지?\n",
    "df = pd.DataFrame({\n",
    "    'A': [120, 135, 122, 124, 135, 122, 145, 160, 155, 142, 144, 135, 167],\n",
    "    'B': [110, 132, 123, 119, 123, 115, 140, 162, 142, 138, 135, 142, 160],\n",
    "    'C': [130, 120, 115, 122, 133, 144, 122, 120, 110, 134, 125, 122, 122]})"
   ]
  },
  {
   "cell_type": "code",
   "execution_count": 34,
   "id": "33655c39",
   "metadata": {},
   "outputs": [
    {
     "name": "stdout",
     "output_type": "stream",
     "text": [
      "ShapiroResult(statistic=0.9314376711845398, pvalue=0.35585272312164307)\n",
      "ShapiroResult(statistic=0.9498201012611389, pvalue=0.5955665707588196)\n",
      "ShapiroResult(statistic=0.9396706223487854, pvalue=0.45265132188796997)\n"
     ]
    }
   ],
   "source": [
    "import scipy.stats as stats\n",
    "from scipy.stats import shapiro\n",
    "\n",
    "# 정규성\n",
    "print(stats.shapiro(df['A']))\n",
    "print(stats.shapiro(df['B']))\n",
    "print(stats.shapiro(df['C']))"
   ]
  },
  {
   "cell_type": "code",
   "execution_count": 35,
   "id": "034eb8cb",
   "metadata": {},
   "outputs": [
    {
     "name": "stdout",
     "output_type": "stream",
     "text": [
      "4.222248448848066 0.12110174433684852\n"
     ]
    }
   ],
   "source": [
    "# 등분산성\n",
    "stat,pvalue = stats.bartlett(df['A'],df['B'],df['C'])\n",
    "print(stat,pvalue)"
   ]
  },
  {
   "cell_type": "code",
   "execution_count": 36,
   "id": "d26270af",
   "metadata": {},
   "outputs": [
    {
     "name": "stdout",
     "output_type": "stream",
     "text": [
      "3.6970511827172867 0.0346491232068625\n"
     ]
    }
   ],
   "source": [
    "# 만족, 등분산성\n",
    "stat, pvalue = stats.f_oneway(df['A'],df['B'],df['C'])\n",
    "print(stat,pvalue)"
   ]
  },
  {
   "cell_type": "code",
   "execution_count": 37,
   "id": "b1691627",
   "metadata": {},
   "outputs": [
    {
     "name": "stdout",
     "output_type": "stream",
     "text": [
      "6.896997321554428 0.03179333314266727\n"
     ]
    }
   ],
   "source": [
    "# 불만족\n",
    "stat, pvalue = stats.kruskal(df['A'],df['B'],df['C'])\n",
    "print(stat,pvalue)"
   ]
  },
  {
   "cell_type": "markdown",
   "id": "a00345a6",
   "metadata": {},
   "source": [
    "# 카이제곱 검정"
   ]
  },
  {
   "cell_type": "code",
   "execution_count": 38,
   "id": "b870feb3",
   "metadata": {},
   "outputs": [],
   "source": [
    "# 동일한 비욜로 들어있다고 할 수 있는지?(각 범주에 속할 확률이 같은지?)\n",
    "row1 = [30, 20, 15, 35]\n",
    "df = pd.DataFrame([row1], columns=['A','B','C','D'])"
   ]
  },
  {
   "cell_type": "code",
   "execution_count": 39,
   "id": "54bbccd6",
   "metadata": {},
   "outputs": [
    {
     "name": "stdout",
     "output_type": "stream",
     "text": [
      "10.0 0.01856613546304325\n"
     ]
    }
   ],
   "source": [
    "from scipy.stats import chisquare\n",
    "\n",
    "f_obs = [30,20,15,35]\n",
    "f_exp = [25,25,25,25]\n",
    "\n",
    "stat, pvalue = stats.chisquare(f_obs=f_obs,f_exp=f_exp)\n",
    "print(stat,pvalue)"
   ]
  },
  {
   "cell_type": "code",
   "execution_count": 41,
   "id": "cd8e0ccc",
   "metadata": {},
   "outputs": [],
   "source": [
    "# 차이가 있는지?(두 개의 범주형 변수가 서로 독립인지?)\n",
    "row1, row2 = [200,190,250], [220,250,300]\n",
    "df = pd.DataFrame([row1, row2], columns=['딸기','초코','바닐라'], index=['10대','20대'])"
   ]
  },
  {
   "cell_type": "code",
   "execution_count": 42,
   "id": "ab164e72",
   "metadata": {},
   "outputs": [
    {
     "name": "stdout",
     "output_type": "stream",
     "text": [
      "1.708360126075226\n",
      "0.4256320394874311\n",
      "2\n",
      "[[190.63829787 199.71631206 249.64539007]\n",
      " [229.36170213 240.28368794 300.35460993]]\n"
     ]
    }
   ],
   "source": [
    "from scipy.stats import chi2_contingency\n",
    "stat,pvalue,dof,expected = chi2_contingency(df)\n",
    "print(stat)\n",
    "print(pvalue)\n",
    "print(dof)\n",
    "print(expected)"
   ]
  },
  {
   "cell_type": "code",
   "execution_count": 49,
   "id": "d83d083c",
   "metadata": {},
   "outputs": [
    {
     "data": {
      "text/html": [
       "<div>\n",
       "<style scoped>\n",
       "    .dataframe tbody tr th:only-of-type {\n",
       "        vertical-align: middle;\n",
       "    }\n",
       "\n",
       "    .dataframe tbody tr th {\n",
       "        vertical-align: top;\n",
       "    }\n",
       "\n",
       "    .dataframe thead th {\n",
       "        text-align: right;\n",
       "    }\n",
       "</style>\n",
       "<table border=\"1\" class=\"dataframe\">\n",
       "  <thead>\n",
       "    <tr style=\"text-align: right;\">\n",
       "      <th></th>\n",
       "      <th>아이스크림</th>\n",
       "      <th>연령</th>\n",
       "      <th>인원</th>\n",
       "    </tr>\n",
       "  </thead>\n",
       "  <tbody>\n",
       "    <tr>\n",
       "      <th>0</th>\n",
       "      <td>딸기</td>\n",
       "      <td>10대</td>\n",
       "      <td>200</td>\n",
       "    </tr>\n",
       "    <tr>\n",
       "      <th>1</th>\n",
       "      <td>초코</td>\n",
       "      <td>10대</td>\n",
       "      <td>190</td>\n",
       "    </tr>\n",
       "    <tr>\n",
       "      <th>2</th>\n",
       "      <td>바닐라</td>\n",
       "      <td>10대</td>\n",
       "      <td>250</td>\n",
       "    </tr>\n",
       "    <tr>\n",
       "      <th>3</th>\n",
       "      <td>딸기</td>\n",
       "      <td>20대</td>\n",
       "      <td>220</td>\n",
       "    </tr>\n",
       "    <tr>\n",
       "      <th>4</th>\n",
       "      <td>초코</td>\n",
       "      <td>20대</td>\n",
       "      <td>250</td>\n",
       "    </tr>\n",
       "    <tr>\n",
       "      <th>5</th>\n",
       "      <td>바닐라</td>\n",
       "      <td>20대</td>\n",
       "      <td>300</td>\n",
       "    </tr>\n",
       "  </tbody>\n",
       "</table>\n",
       "</div>"
      ],
      "text/plain": [
       "  아이스크림   연령   인원\n",
       "0    딸기  10대  200\n",
       "1    초코  10대  190\n",
       "2   바닐라  10대  250\n",
       "3    딸기  20대  220\n",
       "4    초코  20대  250\n",
       "5   바닐라  20대  300"
      ]
     },
     "execution_count": 49,
     "metadata": {},
     "output_type": "execute_result"
    }
   ],
   "source": [
    "# 교차표 형태가 아닐 경우\n",
    "df = pd.DataFrame({\n",
    "    '아이스크림' : ['딸기','초코','바닐라','딸기','초코','바닐라'],\n",
    "    '연령' : ['10대','10대','10대','20대','20대','20대'],\n",
    "    '인원' : [200,190,250,220,250,300]\n",
    "})\n",
    "df"
   ]
  },
  {
   "cell_type": "code",
   "execution_count": 50,
   "id": "9c45d214",
   "metadata": {},
   "outputs": [
    {
     "data": {
      "text/html": [
       "<div>\n",
       "<style scoped>\n",
       "    .dataframe tbody tr th:only-of-type {\n",
       "        vertical-align: middle;\n",
       "    }\n",
       "\n",
       "    .dataframe tbody tr th {\n",
       "        vertical-align: top;\n",
       "    }\n",
       "\n",
       "    .dataframe thead th {\n",
       "        text-align: right;\n",
       "    }\n",
       "</style>\n",
       "<table border=\"1\" class=\"dataframe\">\n",
       "  <thead>\n",
       "    <tr style=\"text-align: right;\">\n",
       "      <th>아이스크림</th>\n",
       "      <th>딸기</th>\n",
       "      <th>바닐라</th>\n",
       "      <th>초코</th>\n",
       "    </tr>\n",
       "    <tr>\n",
       "      <th>연령</th>\n",
       "      <th></th>\n",
       "      <th></th>\n",
       "      <th></th>\n",
       "    </tr>\n",
       "  </thead>\n",
       "  <tbody>\n",
       "    <tr>\n",
       "      <th>10대</th>\n",
       "      <td>200</td>\n",
       "      <td>250</td>\n",
       "      <td>190</td>\n",
       "    </tr>\n",
       "    <tr>\n",
       "      <th>20대</th>\n",
       "      <td>220</td>\n",
       "      <td>300</td>\n",
       "      <td>250</td>\n",
       "    </tr>\n",
       "  </tbody>\n",
       "</table>\n",
       "</div>"
      ],
      "text/plain": [
       "아이스크림   딸기  바닐라   초코\n",
       "연령                  \n",
       "10대    200  250  190\n",
       "20대    220  300  250"
      ]
     },
     "execution_count": 50,
     "metadata": {},
     "output_type": "execute_result"
    }
   ],
   "source": [
    "df = pd.crosstab(index = df['연령'],columns=df['아이스크림'],values=df['인원'],\n",
    "                aggfunc=sum)\n",
    "df"
   ]
  },
  {
   "cell_type": "markdown",
   "id": "ad881ca3",
   "metadata": {},
   "source": [
    "# 다중회귀분석"
   ]
  },
  {
   "cell_type": "code",
   "execution_count": 51,
   "id": "afc08aff",
   "metadata": {},
   "outputs": [],
   "source": [
    "from sklearn.datasets import load_diabetes\n",
    "\n",
    "diabetes = load_diabetes()\n",
    "x = pd.DataFrame(diabetes.data, columns = diabetes.feature_names)\n",
    "y = pd.DataFrame(diabetes.target)\n",
    "y.columns = ['target']\n",
    "\n",
    "x = x[['age','sex','bmi']]\n",
    "y = y['target']"
   ]
  },
  {
   "cell_type": "code",
   "execution_count": 52,
   "id": "94754876",
   "metadata": {},
   "outputs": [
    {
     "name": "stdout",
     "output_type": "stream",
     "text": [
      "                            OLS Regression Results                            \n",
      "==============================================================================\n",
      "Dep. Variable:                 target   R-squared:                       0.351\n",
      "Model:                            OLS   Adj. R-squared:                  0.346\n",
      "Method:                 Least Squares   F-statistic:                     78.94\n",
      "Date:                Wed, 29 Nov 2023   Prob (F-statistic):           7.77e-41\n",
      "Time:                        19:55:17   Log-Likelihood:                -2451.6\n",
      "No. Observations:                 442   AIC:                             4911.\n",
      "Df Residuals:                     438   BIC:                             4928.\n",
      "Df Model:                           3                                         \n",
      "Covariance Type:            nonrobust                                         \n",
      "==============================================================================\n",
      "                 coef    std err          t      P>|t|      [0.025      0.975]\n",
      "------------------------------------------------------------------------------\n",
      "const        152.1335      2.964     51.321      0.000     146.307     157.960\n",
      "age          138.9039     64.254      2.162      0.031      12.618     265.189\n",
      "sex          -36.1353     63.391     -0.570      0.569    -160.724      88.453\n",
      "bmi          926.9120     63.525     14.591      0.000     802.061    1051.763\n",
      "==============================================================================\n",
      "Omnibus:                       14.687   Durbin-Watson:                   1.851\n",
      "Prob(Omnibus):                  0.001   Jarque-Bera (JB):                8.290\n",
      "Skew:                           0.150   Prob(JB):                       0.0158\n",
      "Kurtosis:                       2.400   Cond. No.                         23.7\n",
      "==============================================================================\n",
      "\n",
      "Notes:\n",
      "[1] Standard Errors assume that the covariance matrix of the errors is correctly specified.\n"
     ]
    }
   ],
   "source": [
    "import statsmodels.api as sm\n",
    "\n",
    "x = sm.add_constant(x)\n",
    "model = sm.OLS(y,x).fit()\n",
    "summary = model.summary()\n",
    "print(summary)"
   ]
  },
  {
   "cell_type": "markdown",
   "id": "9ad3c7fb",
   "metadata": {},
   "source": [
    "# 상관분석"
   ]
  },
  {
   "cell_type": "code",
   "execution_count": 54,
   "id": "ec9b31c9",
   "metadata": {},
   "outputs": [],
   "source": [
    "from sklearn.datasets import load_diabetes\n",
    "\n",
    "diabetes = load_diabetes()\n",
    "x = pd.DataFrame(diabetes.data, columns = diabetes.feature_names)\n",
    "y = pd.DataFrame(diabetes.target)\n",
    "y.columns = ['target']\n",
    "\n",
    "x = x['bmi']\n",
    "y = y['target']"
   ]
  },
  {
   "cell_type": "code",
   "execution_count": 55,
   "id": "3672fd98",
   "metadata": {},
   "outputs": [
    {
     "name": "stdout",
     "output_type": "stream",
     "text": [
      "0.5864501344746883 3.4660064451677685e-42\n"
     ]
    }
   ],
   "source": [
    "from scipy.stats import pearsonr\n",
    "\n",
    "r,pvalue = pearsonr(x,y)\n",
    "print(r, pvalue)"
   ]
  },
  {
   "cell_type": "code",
   "execution_count": 56,
   "id": "344f398b",
   "metadata": {},
   "outputs": [
    {
     "name": "stdout",
     "output_type": "stream",
     "text": [
      "15.187289570365293\n"
     ]
    }
   ],
   "source": [
    "n = len(x)\n",
    "stat = r*(n-2)**0.5 / (1-r**2)**0.5\n",
    "print(stat)"
   ]
  },
  {
   "cell_type": "markdown",
   "id": "634ea2ab",
   "metadata": {},
   "source": [
    "# 로지스틱 회귀분석"
   ]
  },
  {
   "cell_type": "code",
   "execution_count": 62,
   "id": "ae8afbbb",
   "metadata": {},
   "outputs": [],
   "source": [
    "import seaborn as sns\n",
    "df = sns.load_dataset('titanic')\n",
    "\n",
    "df = df[['survived','sex','sibsp','fare']]"
   ]
  },
  {
   "cell_type": "code",
   "execution_count": 63,
   "id": "30cf0f6b",
   "metadata": {},
   "outputs": [
    {
     "name": "stdout",
     "output_type": "stream",
     "text": [
      "Optimization terminated successfully.\n",
      "         Current function value: 0.483846\n",
      "         Iterations 6\n",
      "                           Logit Regression Results                           \n",
      "==============================================================================\n",
      "Dep. Variable:               survived   No. Observations:                  891\n",
      "Model:                          Logit   Df Residuals:                      887\n",
      "Method:                           MLE   Df Model:                            3\n",
      "Date:                Wed, 29 Nov 2023   Pseudo R-squ.:                  0.2734\n",
      "Time:                        20:01:45   Log-Likelihood:                -431.11\n",
      "converged:                       True   LL-Null:                       -593.33\n",
      "Covariance Type:            nonrobust   LLR p-value:                 5.094e-70\n",
      "==============================================================================\n",
      "                 coef    std err          z      P>|z|      [0.025      0.975]\n",
      "------------------------------------------------------------------------------\n",
      "const          0.8703      0.163      5.352      0.000       0.552       1.189\n",
      "sex           -2.5668      0.179    -14.321      0.000      -2.918      -2.216\n",
      "sibsp         -0.4017      0.095     -4.222      0.000      -0.588      -0.215\n",
      "fare           0.0138      0.003      5.367      0.000       0.009       0.019\n",
      "==============================================================================\n"
     ]
    }
   ],
   "source": [
    "df['sex']=df['sex'].map({'male':1,\n",
    "                        'female':0})\n",
    "x = df.drop(['survived'],axis=1)\n",
    "y = df['survived']\n",
    "\n",
    "import statsmodels.api as sm\n",
    "\n",
    "x = sm.add_constant(x)\n",
    "model = sm.Logit(y,x).fit()\n",
    "summary = model.summary()\n",
    "print(summary)"
   ]
  }
 ],
 "metadata": {
  "kernelspec": {
   "display_name": "Python 3 (ipykernel)",
   "language": "python",
   "name": "python3"
  },
  "language_info": {
   "codemirror_mode": {
    "name": "ipython",
    "version": 3
   },
   "file_extension": ".py",
   "mimetype": "text/x-python",
   "name": "python",
   "nbconvert_exporter": "python",
   "pygments_lexer": "ipython3",
   "version": "3.11.5"
  }
 },
 "nbformat": 4,
 "nbformat_minor": 5
}
