{
  "cells": [
    {
      "cell_type": "markdown",
      "metadata": {
        "id": "view-in-github",
        "colab_type": "text"
      },
      "source": [
        "<a href=\"https://colab.research.google.com/github/qkfnfj/study/blob/main/%EB%A8%B8%EC%8B%A0%EB%9F%AC%EB%8B%9D_%EC%BA%98%EB%A6%AC%ED%8F%AC%EB%8B%88%EC%95%84_%EC%A3%BC%ED%83%9D%EA%B0%80%EA%B2%A9_%EC%98%88%EC%B8%A1_%EB%AA%A8%EB%8D%B8.ipynb\" target=\"_parent\"><img src=\"https://colab.research.google.com/assets/colab-badge.svg\" alt=\"Open In Colab\"/></a>"
      ]
    },
    {
      "cell_type": "markdown",
      "metadata": {
        "id": "LKshXp4sMLDN"
      },
      "source": [
        "**2장 – 머신러닝 프로젝트 처음부터 끝까지**\n",
        "\n",
        "*머신러닝 부동산 회사에 오신 것을 환영합니다! 여러분이 할 작업은 캘리포니아 지역 주택의 여러 특성을 사용해 중간 가격을 예측하는 것입니다.*\n",
        "\n",
        "*이 노트북은 2장의 모든 샘플 코드와 연습 문제 정답을 담고 있습니다.*"
      ]
    },
    {
      "cell_type": "markdown",
      "metadata": {
        "id": "J8nDiNzqMLDS"
      },
      "source": [
        "<table align=\"left\">\n",
        "  <td>\n",
        "    <a target=\"_blank\" href=\"https://colab.research.google.com/github/rickiepark/handson-ml2/blob/master/02_end_to_end_machine_learning_project.ipynb\"><img src=\"https://www.tensorflow.org/images/colab_logo_32px.png\" />구글 코랩에서 실행하기</a>\n",
        "  </td>\n",
        "</table>"
      ]
    },
    {
      "cell_type": "markdown",
      "metadata": {
        "id": "3cIl_QU_MLDT"
      },
      "source": [
        "# 설정"
      ]
    },
    {
      "cell_type": "markdown",
      "metadata": {
        "id": "W8thDMaCMLDT"
      },
      "source": [
        "먼저 몇 개의 모듈을 임포트합니다. 맷플롯립 그래프를 인라인으로 출력하도록 만들고 그림을 저장하는 함수를 준비합니다. 또한 파이썬 버전이 3.5 이상인지 확인합니다(파이썬 2.x에서도 동작하지만 곧 지원이 중단되므로 파이썬 3을 사용하는 것이 좋습니다). 사이킷런 버전이 0.20 이상인지도 확인합니다."
      ]
    },
    {
      "cell_type": "code",
      "execution_count": null,
      "metadata": {
        "colab": {
          "background_save": true
        },
        "id": "1adKFymfMLDU"
      },
      "outputs": [],
      "source": [
        "# 파이썬 ≥3.5 필수\n",
        "import sys\n",
        "assert sys.version_info >= (3, 5)\n",
        "\n",
        "# 사이킷런 ≥0.20 필수\n",
        "import sklearn\n",
        "assert sklearn.__version__ >= \"0.20\"\n",
        "\n",
        "# 공통 모듈 임포트\n",
        "import numpy as np\n",
        "import os\n",
        "\n",
        "# 깔금한 그래프 출력을 위해\n",
        "%matplotlib inline\n",
        "import matplotlib as mpl\n",
        "import matplotlib.pyplot as plt\n",
        "mpl.rc('axes', labelsize=14)\n",
        "mpl.rc('xtick', labelsize=12)\n",
        "mpl.rc('ytick', labelsize=12)\n",
        "\n",
        "# 그림을 저장할 위치\n",
        "PROJECT_ROOT_DIR = \".\"\n",
        "CHAPTER_ID = \"end_to_end_project\"\n",
        "IMAGES_PATH = os.path.join(PROJECT_ROOT_DIR, \"images\", CHAPTER_ID)\n",
        "os.makedirs(IMAGES_PATH, exist_ok=True)\n",
        "\n",
        "def save_fig(fig_id, tight_layout=True, fig_extension=\"png\", resolution=300):\n",
        "    path = os.path.join(IMAGES_PATH, fig_id + \".\" + fig_extension)\n",
        "    print(\"그림 저장:\", fig_id)\n",
        "    if tight_layout:\n",
        "        plt.tight_layout()\n",
        "    plt.savefig(path, format=fig_extension, dpi=resolution)"
      ]
    },
    {
      "cell_type": "markdown",
      "metadata": {
        "id": "zOm5_ct_MLDW"
      },
      "source": [
        "# 데이터 가져오기"
      ]
    },
    {
      "cell_type": "code",
      "execution_count": null,
      "metadata": {
        "colab": {
          "background_save": true
        },
        "id": "DtBH9E9tMLDW"
      },
      "outputs": [],
      "source": [
        "import os\n",
        "import tarfile\n",
        "import urllib.request\n",
        "\n",
        "DOWNLOAD_ROOT = \"https://raw.githubusercontent.com/rickiepark/handson-ml2/master/\"\n",
        "HOUSING_PATH = os.path.join(\"datasets\", \"housing\")\n",
        "HOUSING_URL = DOWNLOAD_ROOT + \"datasets/housing/housing.tgz\"\n",
        "\n",
        "def fetch_housing_data(housing_url=HOUSING_URL, housing_path=HOUSING_PATH):\n",
        "    if not os.path.isdir(housing_path):\n",
        "        os.makedirs(housing_path)\n",
        "    tgz_path = os.path.join(housing_path, \"housing.tgz\")\n",
        "    urllib.request.urlretrieve(housing_url, tgz_path)\n",
        "    housing_tgz = tarfile.open(tgz_path)\n",
        "    housing_tgz.extractall(path=housing_path)\n",
        "    housing_tgz.close()"
      ]
    },
    {
      "cell_type": "code",
      "execution_count": null,
      "metadata": {
        "colab": {
          "background_save": true
        },
        "id": "XlecUlWUMLDY"
      },
      "outputs": [],
      "source": [
        "fetch_housing_data()"
      ]
    },
    {
      "cell_type": "code",
      "execution_count": null,
      "metadata": {
        "colab": {
          "background_save": true
        },
        "id": "2sie3J0tMLDY"
      },
      "outputs": [],
      "source": [
        "import pandas as pd\n",
        "\n",
        "def load_housing_data(housing_path=HOUSING_PATH):\n",
        "    csv_path = os.path.join(housing_path, \"housing.csv\")\n",
        "    return pd.read_csv(csv_path)"
      ]
    },
    {
      "cell_type": "code",
      "execution_count": null,
      "metadata": {
        "colab": {
          "background_save": true
        },
        "id": "zSbC4vQgMLDZ",
        "outputId": "1a4b772b-c2f1-4113-bacc-7edc257976f3"
      },
      "outputs": [
        {
          "data": {
            "text/html": [
              "\n",
              "  <div id=\"df-68a1e0f2-7827-4531-9b96-a5da9aca88af\">\n",
              "    <div class=\"colab-df-container\">\n",
              "      <div>\n",
              "<style scoped>\n",
              "    .dataframe tbody tr th:only-of-type {\n",
              "        vertical-align: middle;\n",
              "    }\n",
              "\n",
              "    .dataframe tbody tr th {\n",
              "        vertical-align: top;\n",
              "    }\n",
              "\n",
              "    .dataframe thead th {\n",
              "        text-align: right;\n",
              "    }\n",
              "</style>\n",
              "<table border=\"1\" class=\"dataframe\">\n",
              "  <thead>\n",
              "    <tr style=\"text-align: right;\">\n",
              "      <th></th>\n",
              "      <th>longitude</th>\n",
              "      <th>latitude</th>\n",
              "      <th>housing_median_age</th>\n",
              "      <th>total_rooms</th>\n",
              "      <th>total_bedrooms</th>\n",
              "      <th>population</th>\n",
              "      <th>households</th>\n",
              "      <th>median_income</th>\n",
              "      <th>median_house_value</th>\n",
              "      <th>ocean_proximity</th>\n",
              "    </tr>\n",
              "  </thead>\n",
              "  <tbody>\n",
              "    <tr>\n",
              "      <th>0</th>\n",
              "      <td>-122.23</td>\n",
              "      <td>37.88</td>\n",
              "      <td>41.0</td>\n",
              "      <td>880.0</td>\n",
              "      <td>129.0</td>\n",
              "      <td>322.0</td>\n",
              "      <td>126.0</td>\n",
              "      <td>8.3252</td>\n",
              "      <td>452600.0</td>\n",
              "      <td>NEAR BAY</td>\n",
              "    </tr>\n",
              "    <tr>\n",
              "      <th>1</th>\n",
              "      <td>-122.22</td>\n",
              "      <td>37.86</td>\n",
              "      <td>21.0</td>\n",
              "      <td>7099.0</td>\n",
              "      <td>1106.0</td>\n",
              "      <td>2401.0</td>\n",
              "      <td>1138.0</td>\n",
              "      <td>8.3014</td>\n",
              "      <td>358500.0</td>\n",
              "      <td>NEAR BAY</td>\n",
              "    </tr>\n",
              "    <tr>\n",
              "      <th>2</th>\n",
              "      <td>-122.24</td>\n",
              "      <td>37.85</td>\n",
              "      <td>52.0</td>\n",
              "      <td>1467.0</td>\n",
              "      <td>190.0</td>\n",
              "      <td>496.0</td>\n",
              "      <td>177.0</td>\n",
              "      <td>7.2574</td>\n",
              "      <td>352100.0</td>\n",
              "      <td>NEAR BAY</td>\n",
              "    </tr>\n",
              "    <tr>\n",
              "      <th>3</th>\n",
              "      <td>-122.25</td>\n",
              "      <td>37.85</td>\n",
              "      <td>52.0</td>\n",
              "      <td>1274.0</td>\n",
              "      <td>235.0</td>\n",
              "      <td>558.0</td>\n",
              "      <td>219.0</td>\n",
              "      <td>5.6431</td>\n",
              "      <td>341300.0</td>\n",
              "      <td>NEAR BAY</td>\n",
              "    </tr>\n",
              "    <tr>\n",
              "      <th>4</th>\n",
              "      <td>-122.25</td>\n",
              "      <td>37.85</td>\n",
              "      <td>52.0</td>\n",
              "      <td>1627.0</td>\n",
              "      <td>280.0</td>\n",
              "      <td>565.0</td>\n",
              "      <td>259.0</td>\n",
              "      <td>3.8462</td>\n",
              "      <td>342200.0</td>\n",
              "      <td>NEAR BAY</td>\n",
              "    </tr>\n",
              "  </tbody>\n",
              "</table>\n",
              "</div>\n",
              "      <button class=\"colab-df-convert\" onclick=\"convertToInteractive('df-68a1e0f2-7827-4531-9b96-a5da9aca88af')\"\n",
              "              title=\"Convert this dataframe to an interactive table.\"\n",
              "              style=\"display:none;\">\n",
              "        \n",
              "  <svg xmlns=\"http://www.w3.org/2000/svg\" height=\"24px\"viewBox=\"0 0 24 24\"\n",
              "       width=\"24px\">\n",
              "    <path d=\"M0 0h24v24H0V0z\" fill=\"none\"/>\n",
              "    <path d=\"M18.56 5.44l.94 2.06.94-2.06 2.06-.94-2.06-.94-.94-2.06-.94 2.06-2.06.94zm-11 1L8.5 8.5l.94-2.06 2.06-.94-2.06-.94L8.5 2.5l-.94 2.06-2.06.94zm10 10l.94 2.06.94-2.06 2.06-.94-2.06-.94-.94-2.06-.94 2.06-2.06.94z\"/><path d=\"M17.41 7.96l-1.37-1.37c-.4-.4-.92-.59-1.43-.59-.52 0-1.04.2-1.43.59L10.3 9.45l-7.72 7.72c-.78.78-.78 2.05 0 2.83L4 21.41c.39.39.9.59 1.41.59.51 0 1.02-.2 1.41-.59l7.78-7.78 2.81-2.81c.8-.78.8-2.07 0-2.86zM5.41 20L4 18.59l7.72-7.72 1.47 1.35L5.41 20z\"/>\n",
              "  </svg>\n",
              "      </button>\n",
              "      \n",
              "  <style>\n",
              "    .colab-df-container {\n",
              "      display:flex;\n",
              "      flex-wrap:wrap;\n",
              "      gap: 12px;\n",
              "    }\n",
              "\n",
              "    .colab-df-convert {\n",
              "      background-color: #E8F0FE;\n",
              "      border: none;\n",
              "      border-radius: 50%;\n",
              "      cursor: pointer;\n",
              "      display: none;\n",
              "      fill: #1967D2;\n",
              "      height: 32px;\n",
              "      padding: 0 0 0 0;\n",
              "      width: 32px;\n",
              "    }\n",
              "\n",
              "    .colab-df-convert:hover {\n",
              "      background-color: #E2EBFA;\n",
              "      box-shadow: 0px 1px 2px rgba(60, 64, 67, 0.3), 0px 1px 3px 1px rgba(60, 64, 67, 0.15);\n",
              "      fill: #174EA6;\n",
              "    }\n",
              "\n",
              "    [theme=dark] .colab-df-convert {\n",
              "      background-color: #3B4455;\n",
              "      fill: #D2E3FC;\n",
              "    }\n",
              "\n",
              "    [theme=dark] .colab-df-convert:hover {\n",
              "      background-color: #434B5C;\n",
              "      box-shadow: 0px 1px 3px 1px rgba(0, 0, 0, 0.15);\n",
              "      filter: drop-shadow(0px 1px 2px rgba(0, 0, 0, 0.3));\n",
              "      fill: #FFFFFF;\n",
              "    }\n",
              "  </style>\n",
              "\n",
              "      <script>\n",
              "        const buttonEl =\n",
              "          document.querySelector('#df-68a1e0f2-7827-4531-9b96-a5da9aca88af button.colab-df-convert');\n",
              "        buttonEl.style.display =\n",
              "          google.colab.kernel.accessAllowed ? 'block' : 'none';\n",
              "\n",
              "        async function convertToInteractive(key) {\n",
              "          const element = document.querySelector('#df-68a1e0f2-7827-4531-9b96-a5da9aca88af');\n",
              "          const dataTable =\n",
              "            await google.colab.kernel.invokeFunction('convertToInteractive',\n",
              "                                                     [key], {});\n",
              "          if (!dataTable) return;\n",
              "\n",
              "          const docLinkHtml = 'Like what you see? Visit the ' +\n",
              "            '<a target=\"_blank\" href=https://colab.research.google.com/notebooks/data_table.ipynb>data table notebook</a>'\n",
              "            + ' to learn more about interactive tables.';\n",
              "          element.innerHTML = '';\n",
              "          dataTable['output_type'] = 'display_data';\n",
              "          await google.colab.output.renderOutput(dataTable, element);\n",
              "          const docLink = document.createElement('div');\n",
              "          docLink.innerHTML = docLinkHtml;\n",
              "          element.appendChild(docLink);\n",
              "        }\n",
              "      </script>\n",
              "    </div>\n",
              "  </div>\n",
              "  "
            ],
            "text/plain": [
              "   longitude  latitude  housing_median_age  total_rooms  total_bedrooms  \\\n",
              "0    -122.23     37.88                41.0        880.0           129.0   \n",
              "1    -122.22     37.86                21.0       7099.0          1106.0   \n",
              "2    -122.24     37.85                52.0       1467.0           190.0   \n",
              "3    -122.25     37.85                52.0       1274.0           235.0   \n",
              "4    -122.25     37.85                52.0       1627.0           280.0   \n",
              "\n",
              "   population  households  median_income  median_house_value ocean_proximity  \n",
              "0       322.0       126.0         8.3252            452600.0        NEAR BAY  \n",
              "1      2401.0      1138.0         8.3014            358500.0        NEAR BAY  \n",
              "2       496.0       177.0         7.2574            352100.0        NEAR BAY  \n",
              "3       558.0       219.0         5.6431            341300.0        NEAR BAY  \n",
              "4       565.0       259.0         3.8462            342200.0        NEAR BAY  "
            ]
          },
          "execution_count": null,
          "metadata": {},
          "output_type": "execute_result"
        }
      ],
      "source": [
        "housing = load_housing_data()\n",
        "housing.head()"
      ]
    },
    {
      "cell_type": "code",
      "execution_count": null,
      "metadata": {
        "colab": {
          "background_save": true
        },
        "id": "LcfwL1bRMLDa",
        "outputId": "9c8f542c-06cf-4a94-9f49-e6a5f2f50730"
      },
      "outputs": [
        {
          "name": "stdout",
          "output_type": "stream",
          "text": [
            "<class 'pandas.core.frame.DataFrame'>\n",
            "RangeIndex: 20640 entries, 0 to 20639\n",
            "Data columns (total 10 columns):\n",
            " #   Column              Non-Null Count  Dtype  \n",
            "---  ------              --------------  -----  \n",
            " 0   longitude           20640 non-null  float64\n",
            " 1   latitude            20640 non-null  float64\n",
            " 2   housing_median_age  20640 non-null  float64\n",
            " 3   total_rooms         20640 non-null  float64\n",
            " 4   total_bedrooms      20433 non-null  float64\n",
            " 5   population          20640 non-null  float64\n",
            " 6   households          20640 non-null  float64\n",
            " 7   median_income       20640 non-null  float64\n",
            " 8   median_house_value  20640 non-null  float64\n",
            " 9   ocean_proximity     20640 non-null  object \n",
            "dtypes: float64(9), object(1)\n",
            "memory usage: 1.6+ MB\n"
          ]
        }
      ],
      "source": [
        "housing.info()"
      ]
    },
    {
      "cell_type": "code",
      "execution_count": null,
      "metadata": {
        "colab": {
          "background_save": true
        },
        "id": "0xlT3vohMLDb",
        "outputId": "84e2e3b3-b78a-45b3-9cab-16534a03083f"
      },
      "outputs": [
        {
          "data": {
            "text/plain": [
              "<1H OCEAN     9136\n",
              "INLAND        6551\n",
              "NEAR OCEAN    2658\n",
              "NEAR BAY      2290\n",
              "ISLAND           5\n",
              "Name: ocean_proximity, dtype: int64"
            ]
          },
          "execution_count": null,
          "metadata": {},
          "output_type": "execute_result"
        }
      ],
      "source": [
        "housing[\"ocean_proximity\"].value_counts()"
      ]
    },
    {
      "cell_type": "code",
      "execution_count": null,
      "metadata": {
        "colab": {
          "background_save": true
        },
        "id": "ZCZfzMJfMLDb",
        "outputId": "21e4044d-8baf-4913-c96f-63018526f318"
      },
      "outputs": [
        {
          "data": {
            "text/html": [
              "\n",
              "  <div id=\"df-51e0a186-5913-489a-b3a1-ad007517c0ee\">\n",
              "    <div class=\"colab-df-container\">\n",
              "      <div>\n",
              "<style scoped>\n",
              "    .dataframe tbody tr th:only-of-type {\n",
              "        vertical-align: middle;\n",
              "    }\n",
              "\n",
              "    .dataframe tbody tr th {\n",
              "        vertical-align: top;\n",
              "    }\n",
              "\n",
              "    .dataframe thead th {\n",
              "        text-align: right;\n",
              "    }\n",
              "</style>\n",
              "<table border=\"1\" class=\"dataframe\">\n",
              "  <thead>\n",
              "    <tr style=\"text-align: right;\">\n",
              "      <th></th>\n",
              "      <th>longitude</th>\n",
              "      <th>latitude</th>\n",
              "      <th>housing_median_age</th>\n",
              "      <th>total_rooms</th>\n",
              "      <th>total_bedrooms</th>\n",
              "      <th>population</th>\n",
              "      <th>households</th>\n",
              "      <th>median_income</th>\n",
              "      <th>median_house_value</th>\n",
              "    </tr>\n",
              "  </thead>\n",
              "  <tbody>\n",
              "    <tr>\n",
              "      <th>count</th>\n",
              "      <td>20640.000000</td>\n",
              "      <td>20640.000000</td>\n",
              "      <td>20640.000000</td>\n",
              "      <td>20640.000000</td>\n",
              "      <td>20433.000000</td>\n",
              "      <td>20640.000000</td>\n",
              "      <td>20640.000000</td>\n",
              "      <td>20640.000000</td>\n",
              "      <td>20640.000000</td>\n",
              "    </tr>\n",
              "    <tr>\n",
              "      <th>mean</th>\n",
              "      <td>-119.569704</td>\n",
              "      <td>35.631861</td>\n",
              "      <td>28.639486</td>\n",
              "      <td>2635.763081</td>\n",
              "      <td>537.870553</td>\n",
              "      <td>1425.476744</td>\n",
              "      <td>499.539680</td>\n",
              "      <td>3.870671</td>\n",
              "      <td>206855.816909</td>\n",
              "    </tr>\n",
              "    <tr>\n",
              "      <th>std</th>\n",
              "      <td>2.003532</td>\n",
              "      <td>2.135952</td>\n",
              "      <td>12.585558</td>\n",
              "      <td>2181.615252</td>\n",
              "      <td>421.385070</td>\n",
              "      <td>1132.462122</td>\n",
              "      <td>382.329753</td>\n",
              "      <td>1.899822</td>\n",
              "      <td>115395.615874</td>\n",
              "    </tr>\n",
              "    <tr>\n",
              "      <th>min</th>\n",
              "      <td>-124.350000</td>\n",
              "      <td>32.540000</td>\n",
              "      <td>1.000000</td>\n",
              "      <td>2.000000</td>\n",
              "      <td>1.000000</td>\n",
              "      <td>3.000000</td>\n",
              "      <td>1.000000</td>\n",
              "      <td>0.499900</td>\n",
              "      <td>14999.000000</td>\n",
              "    </tr>\n",
              "    <tr>\n",
              "      <th>25%</th>\n",
              "      <td>-121.800000</td>\n",
              "      <td>33.930000</td>\n",
              "      <td>18.000000</td>\n",
              "      <td>1447.750000</td>\n",
              "      <td>296.000000</td>\n",
              "      <td>787.000000</td>\n",
              "      <td>280.000000</td>\n",
              "      <td>2.563400</td>\n",
              "      <td>119600.000000</td>\n",
              "    </tr>\n",
              "    <tr>\n",
              "      <th>50%</th>\n",
              "      <td>-118.490000</td>\n",
              "      <td>34.260000</td>\n",
              "      <td>29.000000</td>\n",
              "      <td>2127.000000</td>\n",
              "      <td>435.000000</td>\n",
              "      <td>1166.000000</td>\n",
              "      <td>409.000000</td>\n",
              "      <td>3.534800</td>\n",
              "      <td>179700.000000</td>\n",
              "    </tr>\n",
              "    <tr>\n",
              "      <th>75%</th>\n",
              "      <td>-118.010000</td>\n",
              "      <td>37.710000</td>\n",
              "      <td>37.000000</td>\n",
              "      <td>3148.000000</td>\n",
              "      <td>647.000000</td>\n",
              "      <td>1725.000000</td>\n",
              "      <td>605.000000</td>\n",
              "      <td>4.743250</td>\n",
              "      <td>264725.000000</td>\n",
              "    </tr>\n",
              "    <tr>\n",
              "      <th>max</th>\n",
              "      <td>-114.310000</td>\n",
              "      <td>41.950000</td>\n",
              "      <td>52.000000</td>\n",
              "      <td>39320.000000</td>\n",
              "      <td>6445.000000</td>\n",
              "      <td>35682.000000</td>\n",
              "      <td>6082.000000</td>\n",
              "      <td>15.000100</td>\n",
              "      <td>500001.000000</td>\n",
              "    </tr>\n",
              "  </tbody>\n",
              "</table>\n",
              "</div>\n",
              "      <button class=\"colab-df-convert\" onclick=\"convertToInteractive('df-51e0a186-5913-489a-b3a1-ad007517c0ee')\"\n",
              "              title=\"Convert this dataframe to an interactive table.\"\n",
              "              style=\"display:none;\">\n",
              "        \n",
              "  <svg xmlns=\"http://www.w3.org/2000/svg\" height=\"24px\"viewBox=\"0 0 24 24\"\n",
              "       width=\"24px\">\n",
              "    <path d=\"M0 0h24v24H0V0z\" fill=\"none\"/>\n",
              "    <path d=\"M18.56 5.44l.94 2.06.94-2.06 2.06-.94-2.06-.94-.94-2.06-.94 2.06-2.06.94zm-11 1L8.5 8.5l.94-2.06 2.06-.94-2.06-.94L8.5 2.5l-.94 2.06-2.06.94zm10 10l.94 2.06.94-2.06 2.06-.94-2.06-.94-.94-2.06-.94 2.06-2.06.94z\"/><path d=\"M17.41 7.96l-1.37-1.37c-.4-.4-.92-.59-1.43-.59-.52 0-1.04.2-1.43.59L10.3 9.45l-7.72 7.72c-.78.78-.78 2.05 0 2.83L4 21.41c.39.39.9.59 1.41.59.51 0 1.02-.2 1.41-.59l7.78-7.78 2.81-2.81c.8-.78.8-2.07 0-2.86zM5.41 20L4 18.59l7.72-7.72 1.47 1.35L5.41 20z\"/>\n",
              "  </svg>\n",
              "      </button>\n",
              "      \n",
              "  <style>\n",
              "    .colab-df-container {\n",
              "      display:flex;\n",
              "      flex-wrap:wrap;\n",
              "      gap: 12px;\n",
              "    }\n",
              "\n",
              "    .colab-df-convert {\n",
              "      background-color: #E8F0FE;\n",
              "      border: none;\n",
              "      border-radius: 50%;\n",
              "      cursor: pointer;\n",
              "      display: none;\n",
              "      fill: #1967D2;\n",
              "      height: 32px;\n",
              "      padding: 0 0 0 0;\n",
              "      width: 32px;\n",
              "    }\n",
              "\n",
              "    .colab-df-convert:hover {\n",
              "      background-color: #E2EBFA;\n",
              "      box-shadow: 0px 1px 2px rgba(60, 64, 67, 0.3), 0px 1px 3px 1px rgba(60, 64, 67, 0.15);\n",
              "      fill: #174EA6;\n",
              "    }\n",
              "\n",
              "    [theme=dark] .colab-df-convert {\n",
              "      background-color: #3B4455;\n",
              "      fill: #D2E3FC;\n",
              "    }\n",
              "\n",
              "    [theme=dark] .colab-df-convert:hover {\n",
              "      background-color: #434B5C;\n",
              "      box-shadow: 0px 1px 3px 1px rgba(0, 0, 0, 0.15);\n",
              "      filter: drop-shadow(0px 1px 2px rgba(0, 0, 0, 0.3));\n",
              "      fill: #FFFFFF;\n",
              "    }\n",
              "  </style>\n",
              "\n",
              "      <script>\n",
              "        const buttonEl =\n",
              "          document.querySelector('#df-51e0a186-5913-489a-b3a1-ad007517c0ee button.colab-df-convert');\n",
              "        buttonEl.style.display =\n",
              "          google.colab.kernel.accessAllowed ? 'block' : 'none';\n",
              "\n",
              "        async function convertToInteractive(key) {\n",
              "          const element = document.querySelector('#df-51e0a186-5913-489a-b3a1-ad007517c0ee');\n",
              "          const dataTable =\n",
              "            await google.colab.kernel.invokeFunction('convertToInteractive',\n",
              "                                                     [key], {});\n",
              "          if (!dataTable) return;\n",
              "\n",
              "          const docLinkHtml = 'Like what you see? Visit the ' +\n",
              "            '<a target=\"_blank\" href=https://colab.research.google.com/notebooks/data_table.ipynb>data table notebook</a>'\n",
              "            + ' to learn more about interactive tables.';\n",
              "          element.innerHTML = '';\n",
              "          dataTable['output_type'] = 'display_data';\n",
              "          await google.colab.output.renderOutput(dataTable, element);\n",
              "          const docLink = document.createElement('div');\n",
              "          docLink.innerHTML = docLinkHtml;\n",
              "          element.appendChild(docLink);\n",
              "        }\n",
              "      </script>\n",
              "    </div>\n",
              "  </div>\n",
              "  "
            ],
            "text/plain": [
              "          longitude      latitude  housing_median_age   total_rooms  \\\n",
              "count  20640.000000  20640.000000        20640.000000  20640.000000   \n",
              "mean    -119.569704     35.631861           28.639486   2635.763081   \n",
              "std        2.003532      2.135952           12.585558   2181.615252   \n",
              "min     -124.350000     32.540000            1.000000      2.000000   \n",
              "25%     -121.800000     33.930000           18.000000   1447.750000   \n",
              "50%     -118.490000     34.260000           29.000000   2127.000000   \n",
              "75%     -118.010000     37.710000           37.000000   3148.000000   \n",
              "max     -114.310000     41.950000           52.000000  39320.000000   \n",
              "\n",
              "       total_bedrooms    population    households  median_income  \\\n",
              "count    20433.000000  20640.000000  20640.000000   20640.000000   \n",
              "mean       537.870553   1425.476744    499.539680       3.870671   \n",
              "std        421.385070   1132.462122    382.329753       1.899822   \n",
              "min          1.000000      3.000000      1.000000       0.499900   \n",
              "25%        296.000000    787.000000    280.000000       2.563400   \n",
              "50%        435.000000   1166.000000    409.000000       3.534800   \n",
              "75%        647.000000   1725.000000    605.000000       4.743250   \n",
              "max       6445.000000  35682.000000   6082.000000      15.000100   \n",
              "\n",
              "       median_house_value  \n",
              "count        20640.000000  \n",
              "mean        206855.816909  \n",
              "std         115395.615874  \n",
              "min          14999.000000  \n",
              "25%         119600.000000  \n",
              "50%         179700.000000  \n",
              "75%         264725.000000  \n",
              "max         500001.000000  "
            ]
          },
          "execution_count": null,
          "metadata": {},
          "output_type": "execute_result"
        }
      ],
      "source": [
        "housing.describe()"
      ]
    },
    {
      "cell_type": "code",
      "execution_count": null,
      "metadata": {
        "colab": {
          "background_save": true
        },
        "id": "dR90Q39kMLDb",
        "outputId": "903ac1cf-4258-4ecc-bdda-ac23f4da341c"
      },
      "outputs": [
        {
          "name": "stdout",
          "output_type": "stream",
          "text": [
            "그림 저장: attribute_histogram_plots\n"
          ]
        },
        {
          "data": {
            "image/png": "[encoded data removed]",
            "text/plain": [
              "<Figure size 1440x1080 with 9 Axes>"
            ]
          },
          "metadata": {},
          "output_type": "display_data"
        }
      ],
      "source": [
        "%matplotlib inline\n",
        "import matplotlib.pyplot as plt\n",
        "housing.hist(bins=50, figsize=(20,15))\n",
        "save_fig(\"attribute_histogram_plots\")\n",
        "plt.show()"
      ]
    },
    {
      "cell_type": "code",
      "execution_count": null,
      "metadata": {
        "colab": {
          "background_save": true
        },
        "id": "1cpN4b7PMLDc"
      },
      "outputs": [],
      "source": [
        "# 노트북의 실행 결과가 동일하도록\n",
        "np.random.seed(42)"
      ]
    },
    {
      "cell_type": "code",
      "execution_count": null,
      "metadata": {
        "colab": {
          "background_save": true
        },
        "id": "dWTqZmvRMLDc"
      },
      "outputs": [],
      "source": [
        "import numpy as np\n",
        "\n",
        "# 예시로 만든 것입니다. 실전에서는 사이킷런의 train_test_split()를 사용하세요.\n",
        "def split_train_test(data, test_ratio):\n",
        "    shuffled_indices = np.random.permutation(len(data))\n",
        "    test_set_size = int(len(data) * test_ratio)\n",
        "    test_indices = shuffled_indices[:test_set_size]\n",
        "    train_indices = shuffled_indices[test_set_size:]\n",
        "    return data.iloc[train_indices], data.iloc[test_indices]"
      ]
    },
    {
      "cell_type": "code",
      "execution_count": null,
      "metadata": {
        "colab": {
          "background_save": true
        },
        "id": "5A1A5QUkMLDc",
        "outputId": "2434af5b-573f-48a3-cee0-d65daec6b7b2"
      },
      "outputs": [
        {
          "data": {
            "text/plain": [
              "16512"
            ]
          },
          "execution_count": null,
          "metadata": {},
          "output_type": "execute_result"
        }
      ],
      "source": [
        "train_set, test_set = split_train_test(housing, 0.2)\n",
        "len(train_set)"
      ]
    },
    {
      "cell_type": "code",
      "execution_count": null,
      "metadata": {
        "colab": {
          "background_save": true
        },
        "id": "2jHOXTmzMLDd",
        "outputId": "5775f2a1-8dd5-4d8b-a1e4-9f5fa03cd0fc"
      },
      "outputs": [
        {
          "data": {
            "text/plain": [
              "4128"
            ]
          },
          "execution_count": null,
          "metadata": {},
          "output_type": "execute_result"
        }
      ],
      "source": [
        "len(test_set)"
      ]
    },
    {
      "cell_type": "code",
      "execution_count": null,
      "metadata": {
        "colab": {
          "background_save": true
        },
        "id": "XlWayTfIMLDd"
      },
      "outputs": [],
      "source": [
        "from zlib import crc32\n",
        "\n",
        "def test_set_check(identifier, test_ratio):\n",
        "    return crc32(np.int64(identifier)) & 0xffffffff < test_ratio * 2**32\n",
        "\n",
        "def split_train_test_by_id(data, test_ratio, id_column):\n",
        "    ids = data[id_column]\n",
        "    in_test_set = ids.apply(lambda id_: test_set_check(id_, test_ratio))\n",
        "    return data.loc[~in_test_set], data.loc[in_test_set]"
      ]
    },
    {
      "cell_type": "markdown",
      "metadata": {
        "id": "_A3Rm5XwMLDd"
      },
      "source": [
        "위의 `test_set_check()` 함수가 파이썬 2와 파이썬 3에서 모두 잘 동작합니다. 초판에서는 모든 해시 함수를 지원하는 다음 방식을 제안했지만 느리고 파이썬 2를 지원하지 않습니다."
      ]
    },
    {
      "cell_type": "code",
      "execution_count": null,
      "metadata": {
        "colab": {
          "background_save": true
        },
        "id": "hQpzOLW2MLDe"
      },
      "outputs": [],
      "source": [
        "import hashlib\n",
        "\n",
        "def test_set_check(identifier, test_ratio, hash=hashlib.md5):\n",
        "    return hash(np.int64(identifier)).digest()[-1] < 256 * test_ratio"
      ]
    },
    {
      "cell_type": "markdown",
      "metadata": {
        "id": "bRY3-kpBMLDe"
      },
      "source": [
        "모든 해시 함수를 지원하고 파이썬 2와 파이썬 3에서 사용할 수 있는 함수를 원한다면 다음을 사용하세요."
      ]
    },
    {
      "cell_type": "code",
      "execution_count": null,
      "metadata": {
        "colab": {
          "background_save": true
        },
        "id": "gEA-xKkMMLDe"
      },
      "outputs": [],
      "source": [
        "def test_set_check(identifier, test_ratio, hash=hashlib.md5):\n",
        "    return bytearray(hash(np.int64(identifier)).digest())[-1] < 256 * test_ratio"
      ]
    },
    {
      "cell_type": "code",
      "execution_count": null,
      "metadata": {
        "colab": {
          "background_save": true
        },
        "id": "v0Y0LBEpMLDf"
      },
      "outputs": [],
      "source": [
        "housing_with_id = housing.reset_index()   # `index` 열이 추가된 데이터프레임을 반환합니다\n",
        "train_set, test_set = split_train_test_by_id(housing_with_id, 0.2, \"index\")"
      ]
    },
    {
      "cell_type": "code",
      "execution_count": null,
      "metadata": {
        "colab": {
          "background_save": true
        },
        "id": "4o4b7Ko4MLDf"
      },
      "outputs": [],
      "source": [
        "housing_with_id[\"id\"] = housing[\"longitude\"] * 1000 + housing[\"latitude\"]\n",
        "train_set, test_set = split_train_test_by_id(housing_with_id, 0.2, \"id\")"
      ]
    },
    {
      "cell_type": "code",
      "execution_count": null,
      "metadata": {
        "colab": {
          "background_save": true
        },
        "id": "XkO-7nCAMLDf"
      },
      "outputs": [],
      "source": [
        "test_set.head()"
      ]
    },
    {
      "cell_type": "code",
      "execution_count": null,
      "metadata": {
        "colab": {
          "background_save": true
        },
        "id": "xXuD1BV6MLDf"
      },
      "outputs": [],
      "source": [
        "from sklearn.model_selection import train_test_split\n",
        "\n",
        "train_set, test_set = train_test_split(housing, test_size=0.2, random_state=42)"
      ]
    },
    {
      "cell_type": "code",
      "execution_count": null,
      "metadata": {
        "colab": {
          "background_save": true
        },
        "id": "FnsLXkK7MLDg"
      },
      "outputs": [],
      "source": [
        "test_set.head()"
      ]
    },
    {
      "cell_type": "code",
      "execution_count": null,
      "metadata": {
        "colab": {
          "background_save": true
        },
        "id": "5P9Ug5CAMLDg"
      },
      "outputs": [],
      "source": [
        "housing[\"median_income\"].hist()"
      ]
    },
    {
      "cell_type": "code",
      "execution_count": null,
      "metadata": {
        "colab": {
          "background_save": true
        },
        "id": "EpK4qyi0MLDg"
      },
      "outputs": [],
      "source": [
        "housing[\"income_cat\"] = pd.cut(housing[\"median_income\"],\n",
        "                               bins=[0., 1.5, 3.0, 4.5, 6., np.inf],\n",
        "                               labels=[1, 2, 3, 4, 5])"
      ]
    },
    {
      "cell_type": "code",
      "execution_count": null,
      "metadata": {
        "colab": {
          "background_save": true
        },
        "id": "8VZZHJD9MLDg"
      },
      "outputs": [],
      "source": [
        "housing[\"income_cat\"].value_counts()"
      ]
    },
    {
      "cell_type": "code",
      "execution_count": null,
      "metadata": {
        "colab": {
          "background_save": true
        },
        "id": "s1osoo0RMLDg"
      },
      "outputs": [],
      "source": [
        "housing[\"income_cat\"].hist()"
      ]
    },
    {
      "cell_type": "code",
      "execution_count": null,
      "metadata": {
        "colab": {
          "background_save": true
        },
        "id": "SfgxviwlMLDh"
      },
      "outputs": [],
      "source": [
        "from sklearn.model_selection import StratifiedShuffleSplit\n",
        "\n",
        "split = StratifiedShuffleSplit(n_splits=1, test_size=0.2, random_state=42)\n",
        "for train_index, test_index in split.split(housing, housing[\"income_cat\"]):\n",
        "    strat_train_set = housing.loc[train_index]\n",
        "    strat_test_set = housing.loc[test_index]"
      ]
    },
    {
      "cell_type": "code",
      "execution_count": null,
      "metadata": {
        "colab": {
          "background_save": true
        },
        "id": "XfnDbAlQMLDh"
      },
      "outputs": [],
      "source": [
        "strat_test_set[\"income_cat\"].value_counts() / len(strat_test_set)"
      ]
    },
    {
      "cell_type": "code",
      "execution_count": null,
      "metadata": {
        "colab": {
          "background_save": true
        },
        "id": "1Bu40p0gMLDh",
        "scrolled": true
      },
      "outputs": [],
      "source": [
        "housing[\"income_cat\"].value_counts() / len(housing)"
      ]
    },
    {
      "cell_type": "code",
      "execution_count": null,
      "metadata": {
        "colab": {
          "background_save": true
        },
        "id": "dWzNKWMAMLDh"
      },
      "outputs": [],
      "source": [
        "def income_cat_proportions(data):\n",
        "    return data[\"income_cat\"].value_counts() / len(data)\n",
        "\n",
        "train_set, test_set = train_test_split(housing, test_size=0.2, random_state=42)\n",
        "\n",
        "compare_props = pd.DataFrame({\n",
        "    \"Overall\": income_cat_proportions(housing),\n",
        "    \"Stratified\": income_cat_proportions(strat_test_set),\n",
        "    \"Random\": income_cat_proportions(test_set),\n",
        "}).sort_index()\n",
        "compare_props[\"Rand. %error\"] = 100 * compare_props[\"Random\"] / compare_props[\"Overall\"] - 100\n",
        "compare_props[\"Strat. %error\"] = 100 * compare_props[\"Stratified\"] / compare_props[\"Overall\"] - 100"
      ]
    },
    {
      "cell_type": "code",
      "execution_count": null,
      "metadata": {
        "colab": {
          "background_save": true
        },
        "id": "t3nfHSCIMLDi"
      },
      "outputs": [],
      "source": [
        "compare_props"
      ]
    },
    {
      "cell_type": "code",
      "execution_count": null,
      "metadata": {
        "colab": {
          "background_save": true
        },
        "id": "NTMYl-20MLDi"
      },
      "outputs": [],
      "source": [
        "for set_ in (strat_train_set, strat_test_set):\n",
        "    set_.drop(\"income_cat\", axis=1, inplace=True)"
      ]
    },
    {
      "cell_type": "markdown",
      "metadata": {
        "id": "Wn04eQvvMLDi"
      },
      "source": [
        "# 데이터 이해를 위한 탐색과 시각화"
      ]
    },
    {
      "cell_type": "code",
      "execution_count": null,
      "metadata": {
        "colab": {
          "background_save": true
        },
        "id": "PSELpcQOMLDi"
      },
      "outputs": [],
      "source": [
        "housing = strat_train_set.copy()"
      ]
    },
    {
      "cell_type": "code",
      "execution_count": null,
      "metadata": {
        "colab": {
          "background_save": true
        },
        "id": "cfwyYkFcMLDi"
      },
      "outputs": [],
      "source": [
        "housing.plot(kind=\"scatter\", x=\"longitude\", y=\"latitude\")\n",
        "save_fig(\"bad_visualization_plot\")"
      ]
    },
    {
      "cell_type": "code",
      "execution_count": null,
      "metadata": {
        "colab": {
          "background_save": true
        },
        "id": "1WHPSYR2MLDi"
      },
      "outputs": [],
      "source": [
        "housing.plot(kind=\"scatter\", x=\"longitude\", y=\"latitude\", alpha=0.1)\n",
        "save_fig(\"better_visualization_plot\")"
      ]
    },
    {
      "cell_type": "markdown",
      "metadata": {
        "id": "Vx9HVfCVMLDj"
      },
      "source": [
        "`sharex=False` 매개변수는 x-축의 값과 범례를 표시하지 못하는 버그를 수정합니다. 이는 임시 방편입니다(https://github.com/pandas-dev/pandas/issues/10611 참조). 수정 사항을 알려준 Wilmer Arellano에게 감사합니다."
      ]
    },
    {
      "cell_type": "code",
      "execution_count": null,
      "metadata": {
        "id": "u-JGAhAgMLDj"
      },
      "outputs": [],
      "source": [
        "housing.plot(kind=\"scatter\", x=\"longitude\", y=\"latitude\", alpha=0.4,\n",
        "             s=housing[\"population\"]/100, label=\"population\", figsize=(10,7),\n",
        "             c=\"median_house_value\", cmap=plt.get_cmap(\"jet\"), colorbar=True,\n",
        "             sharex=False)\n",
        "plt.legend()\n",
        "save_fig(\"housing_prices_scatterplot\")"
      ]
    },
    {
      "cell_type": "code",
      "execution_count": null,
      "metadata": {
        "colab": {
          "background_save": true
        },
        "id": "WfNgnyzHMLDj"
      },
      "outputs": [],
      "source": [
        "# Download the California image\n",
        "images_path = os.path.join(PROJECT_ROOT_DIR, \"images\", \"end_to_end_project\")\n",
        "os.makedirs(images_path, exist_ok=True)\n",
        "DOWNLOAD_ROOT = \"https://raw.githubusercontent.com/ageron/handson-ml2/master/\"\n",
        "filename = \"california.png\"\n",
        "print(\"Downloading\", filename)\n",
        "url = DOWNLOAD_ROOT + \"images/end_to_end_project/\" + filename\n",
        "urllib.request.urlretrieve(url, os.path.join(images_path, filename))"
      ]
    },
    {
      "cell_type": "code",
      "execution_count": null,
      "metadata": {
        "colab": {
          "background_save": true
        },
        "id": "TZ5yUg0rMLDj"
      },
      "outputs": [],
      "source": [
        "import matplotlib.image as mpimg\n",
        "california_img=mpimg.imread(os.path.join(images_path, filename))\n",
        "ax = housing.plot(kind=\"scatter\", x=\"longitude\", y=\"latitude\", figsize=(10,7),\n",
        "                  s=housing['population']/100, label=\"Population\",\n",
        "                  c=\"median_house_value\", cmap=plt.get_cmap(\"jet\"),\n",
        "                  colorbar=False, alpha=0.4)\n",
        "plt.imshow(california_img, extent=[-124.55, -113.80, 32.45, 42.05], alpha=0.5,\n",
        "           cmap=plt.get_cmap(\"jet\"))\n",
        "plt.ylabel(\"Latitude\", fontsize=14)\n",
        "plt.xlabel(\"Longitude\", fontsize=14)\n",
        "\n",
        "prices = housing[\"median_house_value\"]\n",
        "tick_values = np.linspace(prices.min(), prices.max(), 11)\n",
        "cbar = plt.colorbar(ticks=tick_values/prices.max())\n",
        "cbar.ax.set_yticklabels([\"$%dk\"%(round(v/1000)) for v in tick_values], fontsize=14)\n",
        "cbar.set_label('Median House Value', fontsize=16)\n",
        "\n",
        "plt.legend(fontsize=16)\n",
        "save_fig(\"california_housing_prices_plot\")\n",
        "plt.show()"
      ]
    },
    {
      "cell_type": "code",
      "execution_count": null,
      "metadata": {
        "colab": {
          "background_save": true
        },
        "id": "wqLJBPQQMLDj"
      },
      "outputs": [],
      "source": [
        "corr_matrix = housing.corr()"
      ]
    },
    {
      "cell_type": "code",
      "execution_count": null,
      "metadata": {
        "colab": {
          "background_save": true
        },
        "id": "s_i8_K4TMLDk",
        "scrolled": true
      },
      "outputs": [],
      "source": [
        "corr_matrix[\"median_house_value\"].sort_values(ascending=False)"
      ]
    },
    {
      "cell_type": "markdown",
      "metadata": {
        "id": "v7cCBFdeMLDk"
      },
      "source": [
        "피어슨의 상관 계수(위키백과):\n",
        "![Pearson correlation coefficient](https://upload.wikimedia.org/wikipedia/commons/d/d4/Correlation_examples2.svg)"
      ]
    },
    {
      "cell_type": "code",
      "execution_count": null,
      "metadata": {
        "colab": {
          "background_save": true
        },
        "id": "2OeJfaAIMLDk"
      },
      "outputs": [],
      "source": [
        "# from pandas.tools.plotting import scatter_matrix # 옛날 버전의 판다스에서는\n",
        "from pandas.plotting import scatter_matrix\n",
        "\n",
        "attributes = [\"median_house_value\", \"median_income\", \"total_rooms\",\n",
        "              \"housing_median_age\"]\n",
        "scatter_matrix(housing[attributes], figsize=(12, 8))\n",
        "save_fig(\"scatter_matrix_plot\")"
      ]
    },
    {
      "cell_type": "code",
      "execution_count": null,
      "metadata": {
        "colab": {
          "background_save": true
        },
        "id": "syKPiAiQMLDk"
      },
      "outputs": [],
      "source": [
        "housing.plot(kind=\"scatter\", x=\"median_income\", y=\"median_house_value\",\n",
        "             alpha=0.1)\n",
        "plt.axis([0, 16, 0, 550000])\n",
        "save_fig(\"income_vs_house_value_scatterplot\")"
      ]
    },
    {
      "cell_type": "code",
      "execution_count": null,
      "metadata": {
        "colab": {
          "background_save": true
        },
        "id": "2QyyeX1hMLDk"
      },
      "outputs": [],
      "source": [
        "housing[\"rooms_per_household\"] = housing[\"total_rooms\"]/housing[\"households\"]\n",
        "housing[\"bedrooms_per_room\"] = housing[\"total_bedrooms\"]/housing[\"total_rooms\"]\n",
        "housing[\"population_per_household\"]=housing[\"population\"]/housing[\"households\"]"
      ]
    },
    {
      "cell_type": "code",
      "execution_count": null,
      "metadata": {
        "colab": {
          "background_save": true
        },
        "id": "Q7-B3on1MLDl"
      },
      "outputs": [],
      "source": [
        "corr_matrix = housing.corr()\n",
        "corr_matrix[\"median_house_value\"].sort_values(ascending=False)"
      ]
    },
    {
      "cell_type": "code",
      "execution_count": null,
      "metadata": {
        "colab": {
          "background_save": true
        },
        "id": "qaHPv5ALMLDl"
      },
      "outputs": [],
      "source": [
        "housing.plot(kind=\"scatter\", x=\"rooms_per_household\", y=\"median_house_value\",\n",
        "             alpha=0.2)\n",
        "plt.show()"
      ]
    },
    {
      "cell_type": "code",
      "execution_count": null,
      "metadata": {
        "colab": {
          "background_save": true
        },
        "id": "ON09ku48MLDl"
      },
      "outputs": [],
      "source": [
        "housing.describe()"
      ]
    },
    {
      "cell_type": "markdown",
      "metadata": {
        "id": "JePZOB73MLDl"
      },
      "source": [
        "# 머신러닝 알고리즘을 위한 데이터 준비"
      ]
    },
    {
      "cell_type": "code",
      "execution_count": null,
      "metadata": {
        "colab": {
          "background_save": true
        },
        "id": "Na8BUp8YMLDl"
      },
      "outputs": [],
      "source": [
        "housing = strat_train_set.drop(\"median_house_value\", axis=1) # 훈련 세트를 위해 레이블 삭제\n",
        "housing_labels = strat_train_set[\"median_house_value\"].copy()"
      ]
    },
    {
      "cell_type": "code",
      "execution_count": null,
      "metadata": {
        "colab": {
          "background_save": true
        },
        "id": "hMl1AgodMLDl"
      },
      "outputs": [],
      "source": [
        "sample_incomplete_rows = housing[housing.isnull().any(axis=1)].head()\n",
        "sample_incomplete_rows"
      ]
    },
    {
      "cell_type": "code",
      "execution_count": null,
      "metadata": {
        "colab": {
          "background_save": true
        },
        "id": "8mkLxqhrMLDm"
      },
      "outputs": [],
      "source": [
        "sample_incomplete_rows.dropna(subset=[\"total_bedrooms\"])    # 옵션 1"
      ]
    },
    {
      "cell_type": "code",
      "execution_count": null,
      "metadata": {
        "colab": {
          "background_save": true
        },
        "id": "miHio75wMLDm"
      },
      "outputs": [],
      "source": [
        "sample_incomplete_rows.drop(\"total_bedrooms\", axis=1)       # 옵션 2"
      ]
    },
    {
      "cell_type": "code",
      "execution_count": null,
      "metadata": {
        "colab": {
          "background_save": true
        },
        "id": "84v7FfCBMLDm"
      },
      "outputs": [],
      "source": [
        "median = housing[\"total_bedrooms\"].median()\n",
        "sample_incomplete_rows[\"total_bedrooms\"].fillna(median, inplace=True) # 옵션 3"
      ]
    },
    {
      "cell_type": "code",
      "execution_count": null,
      "metadata": {
        "colab": {
          "background_save": true
        },
        "id": "EC1tCrN2MLDm"
      },
      "outputs": [],
      "source": [
        "sample_incomplete_rows"
      ]
    },
    {
      "cell_type": "code",
      "execution_count": null,
      "metadata": {
        "colab": {
          "background_save": true
        },
        "id": "-Q6tq2RzMLDm"
      },
      "outputs": [],
      "source": [
        "from sklearn.impute import SimpleImputer\n",
        "imputer = SimpleImputer(strategy=\"median\")"
      ]
    },
    {
      "cell_type": "markdown",
      "metadata": {
        "id": "7uXVAi_0MLDm"
      },
      "source": [
        "중간값이 수치형 특성에서만 계산될 수 있기 때문에 텍스트 특성을 삭제합니다:"
      ]
    },
    {
      "cell_type": "code",
      "execution_count": null,
      "metadata": {
        "colab": {
          "background_save": true
        },
        "id": "MwsvJhUMMLDn"
      },
      "outputs": [],
      "source": [
        "housing_num = housing.drop(\"ocean_proximity\", axis=1)\n",
        "# 다른 방법: housing_num = housing.select_dtypes(include=[np.number])"
      ]
    },
    {
      "cell_type": "code",
      "execution_count": null,
      "metadata": {
        "colab": {
          "background_save": true
        },
        "id": "HMPOPs3pMLDn"
      },
      "outputs": [],
      "source": [
        "imputer.fit(housing_num)"
      ]
    },
    {
      "cell_type": "code",
      "execution_count": null,
      "metadata": {
        "colab": {
          "background_save": true
        },
        "id": "Z6t2VKuQMLDn"
      },
      "outputs": [],
      "source": [
        "imputer.statistics_"
      ]
    },
    {
      "cell_type": "markdown",
      "metadata": {
        "id": "1HMDFmP8MLDn"
      },
      "source": [
        "각 특성의 중간 값이 수동으로 계산한 것과 같은지 확인해 보세요:"
      ]
    },
    {
      "cell_type": "code",
      "execution_count": null,
      "metadata": {
        "colab": {
          "background_save": true
        },
        "id": "Jz9Z1G2-MLDn"
      },
      "outputs": [],
      "source": [
        "housing_num.median().values"
      ]
    },
    {
      "cell_type": "markdown",
      "metadata": {
        "id": "oSyRVM9uMLDn"
      },
      "source": [
        "훈련 세트를 변환합니다:"
      ]
    },
    {
      "cell_type": "code",
      "execution_count": null,
      "metadata": {
        "colab": {
          "background_save": true
        },
        "id": "2YIBXIGnMLDn"
      },
      "outputs": [],
      "source": [
        "X = imputer.transform(housing_num)"
      ]
    },
    {
      "cell_type": "code",
      "execution_count": null,
      "metadata": {
        "colab": {
          "background_save": true
        },
        "id": "9BL8X6kjMLDo"
      },
      "outputs": [],
      "source": [
        "housing_tr = pd.DataFrame(X, columns=housing_num.columns,\n",
        "                          index=housing_num.index)"
      ]
    },
    {
      "cell_type": "code",
      "execution_count": null,
      "metadata": {
        "colab": {
          "background_save": true
        },
        "id": "HC5qeVceMLDo"
      },
      "outputs": [],
      "source": [
        "housing_tr.loc[sample_incomplete_rows.index.values]"
      ]
    },
    {
      "cell_type": "code",
      "execution_count": null,
      "metadata": {
        "colab": {
          "background_save": true
        },
        "id": "aAiaT9ZPMLDo"
      },
      "outputs": [],
      "source": [
        "imputer.strategy"
      ]
    },
    {
      "cell_type": "code",
      "execution_count": null,
      "metadata": {
        "colab": {
          "background_save": true
        },
        "id": "BcO2WvSYMLDo"
      },
      "outputs": [],
      "source": [
        "housing_tr.head()"
      ]
    },
    {
      "cell_type": "markdown",
      "metadata": {
        "id": "iGClDxkRMLDo"
      },
      "source": [
        "이제 범주형 입력 특성인 `ocean_proximity`을 전처리합니다:"
      ]
    },
    {
      "cell_type": "code",
      "execution_count": null,
      "metadata": {
        "colab": {
          "background_save": true
        },
        "id": "2wPIi1qhMLDp"
      },
      "outputs": [],
      "source": [
        "housing_cat = housing[[\"ocean_proximity\"]]\n",
        "housing_cat.head(10)"
      ]
    },
    {
      "cell_type": "code",
      "execution_count": null,
      "metadata": {
        "colab": {
          "background_save": true
        },
        "id": "Gu8__cbhMLDp"
      },
      "outputs": [],
      "source": [
        "from sklearn.preprocessing import OrdinalEncoder\n",
        "\n",
        "ordinal_encoder = OrdinalEncoder()\n",
        "housing_cat_encoded = ordinal_encoder.fit_transform(housing_cat)\n",
        "housing_cat_encoded[:10]"
      ]
    },
    {
      "cell_type": "code",
      "execution_count": null,
      "metadata": {
        "colab": {
          "background_save": true
        },
        "id": "VlTDlGyOMLDp"
      },
      "outputs": [],
      "source": [
        "ordinal_encoder.categories_"
      ]
    },
    {
      "cell_type": "code",
      "execution_count": null,
      "metadata": {
        "colab": {
          "background_save": true
        },
        "id": "0pQrw3fXMLDp"
      },
      "outputs": [],
      "source": [
        "from sklearn.preprocessing import OneHotEncoder\n",
        "\n",
        "cat_encoder = OneHotEncoder()\n",
        "housing_cat_1hot = cat_encoder.fit_transform(housing_cat)\n",
        "housing_cat_1hot"
      ]
    },
    {
      "cell_type": "markdown",
      "metadata": {
        "id": "zjKwafz5MLDp"
      },
      "source": [
        "`OneHotEncoder`는 기본적으로 희소 행렬을 반환합니다. 필요하면 `toarray()` 메서드를 사용해 밀집 배열로 변환할 수 있습니다:"
      ]
    },
    {
      "cell_type": "code",
      "execution_count": null,
      "metadata": {
        "colab": {
          "background_save": true
        },
        "id": "OpkJhdgpMLDp"
      },
      "outputs": [],
      "source": [
        "housing_cat_1hot.toarray()"
      ]
    },
    {
      "cell_type": "markdown",
      "metadata": {
        "id": "wagIE2r1MLDq"
      },
      "source": [
        "또는 `OneHotEncoder`를 만들 때 `sparse=False`로 지정할 수 있습니다:"
      ]
    },
    {
      "cell_type": "code",
      "execution_count": null,
      "metadata": {
        "colab": {
          "background_save": true
        },
        "id": "HmUQdjUvMLDq"
      },
      "outputs": [],
      "source": [
        "cat_encoder = OneHotEncoder(sparse=False)\n",
        "housing_cat_1hot = cat_encoder.fit_transform(housing_cat)\n",
        "housing_cat_1hot"
      ]
    },
    {
      "cell_type": "code",
      "execution_count": null,
      "metadata": {
        "colab": {
          "background_save": true
        },
        "id": "5iLATPS-MLDq"
      },
      "outputs": [],
      "source": [
        "cat_encoder.categories_"
      ]
    },
    {
      "cell_type": "markdown",
      "metadata": {
        "id": "nxffYJbTMLDq"
      },
      "source": [
        "추가 특성을 위해 사용자 정의 변환기를 만들어보죠:"
      ]
    },
    {
      "cell_type": "code",
      "execution_count": null,
      "metadata": {
        "colab": {
          "background_save": true
        },
        "id": "zg2ksEsRMLDq"
      },
      "outputs": [],
      "source": [
        "from sklearn.base import BaseEstimator, TransformerMixin\n",
        "\n",
        "# 열 인덱스\n",
        "rooms_ix, bedrooms_ix, population_ix, households_ix = 3, 4, 5, 6\n",
        "\n",
        "class CombinedAttributesAdder(BaseEstimator, TransformerMixin):\n",
        "    def __init__(self, add_bedrooms_per_room=True): # *args 또는 **kargs 없음\n",
        "        self.add_bedrooms_per_room = add_bedrooms_per_room\n",
        "    def fit(self, X, y=None):\n",
        "        return self  # 아무것도 하지 않습니다\n",
        "    def transform(self, X):\n",
        "        rooms_per_household = X[:, rooms_ix] / X[:, households_ix]\n",
        "        population_per_household = X[:, population_ix] / X[:, households_ix]\n",
        "        if self.add_bedrooms_per_room:\n",
        "            bedrooms_per_room = X[:, bedrooms_ix] / X[:, rooms_ix]\n",
        "            return np.c_[X, rooms_per_household, population_per_household,\n",
        "                         bedrooms_per_room]\n",
        "        else:\n",
        "            return np.c_[X, rooms_per_household, population_per_household]\n",
        "\n",
        "attr_adder = CombinedAttributesAdder(add_bedrooms_per_room=False)\n",
        "housing_extra_attribs = attr_adder.transform(housing.to_numpy())"
      ]
    },
    {
      "cell_type": "markdown",
      "metadata": {
        "id": "PoUuS7jxMLDq"
      },
      "source": [
        "책에서는 간단하게 인덱스 (3, 4, 5, 6)을 하드코딩했지만 다음처럼 동적으로 처리하는 것이 더 좋습니다:"
      ]
    },
    {
      "cell_type": "code",
      "execution_count": null,
      "metadata": {
        "colab": {
          "background_save": true
        },
        "id": "mlu1Ojp-MLDr"
      },
      "outputs": [],
      "source": [
        "col_names = \"total_rooms\", \"total_bedrooms\", \"population\", \"households\"\n",
        "rooms_ix, bedrooms_ix, population_ix, households_ix = [\n",
        "    housing.columns.get_loc(c) for c in col_names] # 열 인덱스 구하기"
      ]
    },
    {
      "cell_type": "markdown",
      "metadata": {
        "id": "Q0wkGe1nMLDr"
      },
      "source": [
        "또한 `housing_extra_attribs`는 넘파이 배열이기 때문에 열 이름이 없습니다(안타깝지만 사이킷런을 사용할 때 생기는 문제입니다). `DataFrame`으로 복원하려면 다음과 같이 할 수 있습니다:"
      ]
    },
    {
      "cell_type": "code",
      "execution_count": null,
      "metadata": {
        "colab": {
          "background_save": true
        },
        "id": "3Iid6D5XMLDr"
      },
      "outputs": [],
      "source": [
        "housing_extra_attribs = pd.DataFrame(\n",
        "    housing_extra_attribs,\n",
        "    columns=list(housing.columns)+[\"rooms_per_household\", \"population_per_household\"],\n",
        "    index=housing.index)\n",
        "housing_extra_attribs.head()"
      ]
    },
    {
      "cell_type": "markdown",
      "metadata": {
        "id": "Dd0QFXTeMLDr"
      },
      "source": [
        "수치형 특성을 전처리하기 위해 파이프라인을 만듭니다:"
      ]
    },
    {
      "cell_type": "code",
      "execution_count": null,
      "metadata": {
        "colab": {
          "background_save": true
        },
        "id": "Mq3_BHFFMLDr"
      },
      "outputs": [],
      "source": [
        "from sklearn.pipeline import Pipeline\n",
        "from sklearn.preprocessing import StandardScaler\n",
        "\n",
        "num_pipeline = Pipeline([\n",
        "        ('imputer', SimpleImputer(strategy=\"median\")),\n",
        "        ('attribs_adder', CombinedAttributesAdder()),\n",
        "        ('std_scaler', StandardScaler()),\n",
        "    ])\n",
        "\n",
        "housing_num_tr = num_pipeline.fit_transform(housing_num)"
      ]
    },
    {
      "cell_type": "code",
      "execution_count": null,
      "metadata": {
        "colab": {
          "background_save": true
        },
        "id": "c2wIxpIvMLDr"
      },
      "outputs": [],
      "source": [
        "housing_num_tr"
      ]
    },
    {
      "cell_type": "code",
      "execution_count": null,
      "metadata": {
        "colab": {
          "background_save": true
        },
        "id": "eNUtyq4JMLDs"
      },
      "outputs": [],
      "source": [
        "from sklearn.compose import ColumnTransformer\n",
        "\n",
        "num_attribs = list(housing_num)\n",
        "cat_attribs = [\"ocean_proximity\"]\n",
        "\n",
        "full_pipeline = ColumnTransformer([\n",
        "        (\"num\", num_pipeline, num_attribs),\n",
        "        (\"cat\", OneHotEncoder(), cat_attribs),\n",
        "    ])\n",
        "\n",
        "housing_prepared = full_pipeline.fit_transform(housing)"
      ]
    },
    {
      "cell_type": "code",
      "execution_count": null,
      "metadata": {
        "colab": {
          "background_save": true
        },
        "id": "RrPj2PFlMLDs"
      },
      "outputs": [],
      "source": [
        "housing_prepared"
      ]
    },
    {
      "cell_type": "code",
      "execution_count": null,
      "metadata": {
        "colab": {
          "background_save": true
        },
        "id": "uaf5IGMBMLDs"
      },
      "outputs": [],
      "source": [
        "housing_prepared.shape"
      ]
    },
    {
      "cell_type": "markdown",
      "metadata": {
        "id": "nBYw31odMLDs"
      },
      "source": [
        "다음은 (판다스 `DataFrame` 열의 일부를 선택하기 위해) `DataFrameSelector` 변환기와 `FeatureUnion`를 사용한 예전 방식입니다:"
      ]
    },
    {
      "cell_type": "code",
      "execution_count": null,
      "metadata": {
        "colab": {
          "background_save": true
        },
        "id": "PSnyCCZKMLDs"
      },
      "outputs": [],
      "source": [
        "from sklearn.base import BaseEstimator, TransformerMixin\n",
        "\n",
        "# 수치형 열과 범주형 열을 선택하기 위한 클래스\n",
        "class OldDataFrameSelector(BaseEstimator, TransformerMixin):\n",
        "    def __init__(self, attribute_names):\n",
        "        self.attribute_names = attribute_names\n",
        "    def fit(self, X, y=None):\n",
        "        return self\n",
        "    def transform(self, X):\n",
        "        return X[self.attribute_names].values"
      ]
    },
    {
      "cell_type": "markdown",
      "metadata": {
        "id": "wJK_10BeMLDs"
      },
      "source": [
        "하나의 큰 파이프라인에 이들을 모두 결합하여 수치형과 범주형 특성을 전처리합니다:"
      ]
    },
    {
      "cell_type": "code",
      "execution_count": null,
      "metadata": {
        "colab": {
          "background_save": true
        },
        "id": "fD9j-fjxMLDs"
      },
      "outputs": [],
      "source": [
        "num_attribs = list(housing_num)\n",
        "cat_attribs = [\"ocean_proximity\"]\n",
        "\n",
        "old_num_pipeline = Pipeline([\n",
        "        ('selector', OldDataFrameSelector(num_attribs)),\n",
        "        ('imputer', SimpleImputer(strategy=\"median\")),\n",
        "        ('attribs_adder', CombinedAttributesAdder()),\n",
        "        ('std_scaler', StandardScaler()),\n",
        "    ])\n",
        "\n",
        "old_cat_pipeline = Pipeline([\n",
        "        ('selector', OldDataFrameSelector(cat_attribs)),\n",
        "        ('cat_encoder', OneHotEncoder(sparse=False)),\n",
        "    ])"
      ]
    },
    {
      "cell_type": "code",
      "execution_count": null,
      "metadata": {
        "colab": {
          "background_save": true
        },
        "id": "kRYnIltCMLDt"
      },
      "outputs": [],
      "source": [
        "from sklearn.pipeline import FeatureUnion\n",
        "\n",
        "old_full_pipeline = FeatureUnion(transformer_list=[\n",
        "        (\"num_pipeline\", old_num_pipeline),\n",
        "        (\"cat_pipeline\", old_cat_pipeline),\n",
        "    ])"
      ]
    },
    {
      "cell_type": "code",
      "execution_count": null,
      "metadata": {
        "colab": {
          "background_save": true
        },
        "id": "NsYpQ5a3MLDt"
      },
      "outputs": [],
      "source": [
        "old_housing_prepared = old_full_pipeline.fit_transform(housing)\n",
        "old_housing_prepared"
      ]
    },
    {
      "cell_type": "markdown",
      "metadata": {
        "id": "MedEPUMrMLDt"
      },
      "source": [
        "`ColumnTransformer`의 결과와 동일합니다:"
      ]
    },
    {
      "cell_type": "code",
      "execution_count": null,
      "metadata": {
        "colab": {
          "background_save": true
        },
        "id": "JrQbSJN8MLDt"
      },
      "outputs": [],
      "source": [
        "np.allclose(housing_prepared, old_housing_prepared)"
      ]
    },
    {
      "cell_type": "markdown",
      "metadata": {
        "id": "cyitEf2rMLDt"
      },
      "source": [
        "# 모델 선택과 훈련"
      ]
    },
    {
      "cell_type": "code",
      "execution_count": null,
      "metadata": {
        "colab": {
          "background_save": true
        },
        "id": "PuIP5wxgMLDt"
      },
      "outputs": [],
      "source": [
        "from sklearn.linear_model import LinearRegression\n",
        "\n",
        "lin_reg = LinearRegression()\n",
        "lin_reg.fit(housing_prepared, housing_labels)"
      ]
    },
    {
      "cell_type": "code",
      "execution_count": null,
      "metadata": {
        "colab": {
          "background_save": true
        },
        "id": "xhkx8FVMMLDu"
      },
      "outputs": [],
      "source": [
        "# 훈련 샘플 몇 개를 사용해 전체 파이프라인을 적용해 보겠습니다\n",
        "some_data = housing.iloc[:5]\n",
        "some_labels = housing_labels.iloc[:5]\n",
        "some_data_prepared = full_pipeline.transform(some_data)\n",
        "\n",
        "print(\"예측:\", lin_reg.predict(some_data_prepared))"
      ]
    },
    {
      "cell_type": "markdown",
      "metadata": {
        "id": "pLSKoJsXMLDu"
      },
      "source": [
        "실제 값과 비교합니다:"
      ]
    },
    {
      "cell_type": "code",
      "execution_count": null,
      "metadata": {
        "colab": {
          "background_save": true
        },
        "id": "dWCJ6Sj4MLDu"
      },
      "outputs": [],
      "source": [
        "print(\"레이블:\", list(some_labels))"
      ]
    },
    {
      "cell_type": "code",
      "execution_count": null,
      "metadata": {
        "colab": {
          "background_save": true
        },
        "id": "_4ZBgbxzMLDu"
      },
      "outputs": [],
      "source": [
        "some_data_prepared"
      ]
    },
    {
      "cell_type": "code",
      "execution_count": null,
      "metadata": {
        "colab": {
          "background_save": true
        },
        "id": "TI-DMJRzMLDu"
      },
      "outputs": [],
      "source": [
        "from sklearn.metrics import mean_squared_error\n",
        "\n",
        "housing_predictions = lin_reg.predict(housing_prepared)\n",
        "lin_mse = mean_squared_error(housing_labels, housing_predictions)\n",
        "lin_rmse = np.sqrt(lin_mse)\n",
        "lin_rmse"
      ]
    },
    {
      "cell_type": "markdown",
      "metadata": {
        "id": "RFsPVCD9MLDv"
      },
      "source": [
        "**노트**: 사이킷런 0.22 버전부터는 `squared=False` 매개변수로 `mean_squared_error()` 함수를 호출하면 RMSE를 바로 얻을 수 있습니다."
      ]
    },
    {
      "cell_type": "code",
      "execution_count": null,
      "metadata": {
        "colab": {
          "background_save": true
        },
        "id": "D0mEYG61MLDv"
      },
      "outputs": [],
      "source": [
        "from sklearn.metrics import mean_absolute_error\n",
        "\n",
        "lin_mae = mean_absolute_error(housing_labels, housing_predictions)\n",
        "lin_mae"
      ]
    },
    {
      "cell_type": "code",
      "execution_count": null,
      "metadata": {
        "colab": {
          "background_save": true
        },
        "id": "7BH82NLwMLDv"
      },
      "outputs": [],
      "source": [
        "from sklearn.tree import DecisionTreeRegressor\n",
        "\n",
        "tree_reg = DecisionTreeRegressor(random_state=42)\n",
        "tree_reg.fit(housing_prepared, housing_labels)"
      ]
    },
    {
      "cell_type": "code",
      "execution_count": null,
      "metadata": {
        "colab": {
          "background_save": true
        },
        "id": "flxWN-d1MLDv"
      },
      "outputs": [],
      "source": [
        "housing_predictions = tree_reg.predict(housing_prepared)\n",
        "tree_mse = mean_squared_error(housing_labels, housing_predictions)\n",
        "tree_rmse = np.sqrt(tree_mse)\n",
        "tree_rmse"
      ]
    },
    {
      "cell_type": "markdown",
      "metadata": {
        "id": "WYokmBCHMLDv"
      },
      "source": [
        "# 모델 세부 튜닝"
      ]
    },
    {
      "cell_type": "code",
      "execution_count": null,
      "metadata": {
        "colab": {
          "background_save": true
        },
        "id": "7pFLcyLXMLDv"
      },
      "outputs": [],
      "source": [
        "from sklearn.model_selection import cross_val_score\n",
        "\n",
        "scores = cross_val_score(tree_reg, housing_prepared, housing_labels,\n",
        "                         scoring=\"neg_mean_squared_error\", cv=10)\n",
        "tree_rmse_scores = np.sqrt(-scores)"
      ]
    },
    {
      "cell_type": "code",
      "execution_count": null,
      "metadata": {
        "colab": {
          "background_save": true
        },
        "id": "H3gQWadZMLDw"
      },
      "outputs": [],
      "source": [
        "def display_scores(scores):\n",
        "    print(\"점수:\", scores)\n",
        "    print(\"평균:\", scores.mean())\n",
        "    print(\"표준 편차:\", scores.std())\n",
        "\n",
        "display_scores(tree_rmse_scores)"
      ]
    },
    {
      "cell_type": "code",
      "execution_count": null,
      "metadata": {
        "colab": {
          "background_save": true
        },
        "id": "hUYuI_beMLDw"
      },
      "outputs": [],
      "source": [
        "lin_scores = cross_val_score(lin_reg, housing_prepared, housing_labels,\n",
        "                             scoring=\"neg_mean_squared_error\", cv=10)\n",
        "lin_rmse_scores = np.sqrt(-lin_scores)\n",
        "display_scores(lin_rmse_scores)"
      ]
    },
    {
      "cell_type": "markdown",
      "metadata": {
        "id": "QCnftm6hMLDw"
      },
      "source": [
        "**노트**: 사이킷런 0.22 버전에서 `n_estimators`의 기본값이 100으로 바뀌기 때문에 향후를 위해 `n_estimators=100`로 지정합니다(책에는 등장하지 않습니다)."
      ]
    },
    {
      "cell_type": "code",
      "execution_count": null,
      "metadata": {
        "colab": {
          "background_save": true
        },
        "id": "rRRFXEaUMLDw"
      },
      "outputs": [],
      "source": [
        "from sklearn.ensemble import RandomForestRegressor\n",
        "\n",
        "forest_reg = RandomForestRegressor(n_estimators=100, random_state=42)\n",
        "forest_reg.fit(housing_prepared, housing_labels)"
      ]
    },
    {
      "cell_type": "code",
      "execution_count": null,
      "metadata": {
        "colab": {
          "background_save": true
        },
        "id": "TOod5oA8MLDw"
      },
      "outputs": [],
      "source": [
        "housing_predictions = forest_reg.predict(housing_prepared)\n",
        "forest_mse = mean_squared_error(housing_labels, housing_predictions)\n",
        "forest_rmse = np.sqrt(forest_mse)\n",
        "forest_rmse"
      ]
    },
    {
      "cell_type": "code",
      "execution_count": null,
      "metadata": {
        "colab": {
          "background_save": true
        },
        "id": "WvaiYuE7MLDx"
      },
      "outputs": [],
      "source": [
        "from sklearn.model_selection import cross_val_score\n",
        "\n",
        "forest_scores = cross_val_score(forest_reg, housing_prepared, housing_labels,\n",
        "                                scoring=\"neg_mean_squared_error\", cv=10)\n",
        "forest_rmse_scores = np.sqrt(-forest_scores)\n",
        "display_scores(forest_rmse_scores)"
      ]
    },
    {
      "cell_type": "code",
      "execution_count": null,
      "metadata": {
        "colab": {
          "background_save": true
        },
        "id": "1gW2kLsPMLDx"
      },
      "outputs": [],
      "source": [
        "scores = cross_val_score(lin_reg, housing_prepared, housing_labels, scoring=\"neg_mean_squared_error\", cv=10)\n",
        "pd.Series(np.sqrt(-scores)).describe()"
      ]
    },
    {
      "cell_type": "code",
      "execution_count": null,
      "metadata": {
        "colab": {
          "background_save": true
        },
        "id": "y3Iz5VksMLDx"
      },
      "outputs": [],
      "source": [
        "from sklearn.svm import SVR\n",
        "\n",
        "svm_reg = SVR(kernel=\"linear\")\n",
        "svm_reg.fit(housing_prepared, housing_labels)\n",
        "housing_predictions = svm_reg.predict(housing_prepared)\n",
        "svm_mse = mean_squared_error(housing_labels, housing_predictions)\n",
        "svm_rmse = np.sqrt(svm_mse)\n",
        "svm_rmse"
      ]
    },
    {
      "cell_type": "code",
      "execution_count": null,
      "metadata": {
        "colab": {
          "background_save": true
        },
        "id": "LVwEqGtmMLDx"
      },
      "outputs": [],
      "source": [
        "from sklearn.model_selection import GridSearchCV\n",
        "\n",
        "param_grid = [\n",
        "    # 12(=3×4)개의 하이퍼파라미터 조합을 시도합니다.\n",
        "    {'n_estimators': [3, 10, 30], 'max_features': [2, 4, 6, 8]},\n",
        "    # bootstrap은 False로 하고 6(=2×3)개의 조합을 시도합니다.\n",
        "    {'bootstrap': [False], 'n_estimators': [3, 10], 'max_features': [2, 3, 4]},\n",
        "  ]\n",
        "\n",
        "forest_reg = RandomForestRegressor(random_state=42)\n",
        "# 다섯 개의 폴드로 훈련하면 총 (12+6)*5=90번의 훈련이 일어납니다.\n",
        "grid_search = GridSearchCV(forest_reg, param_grid, cv=5,\n",
        "                           scoring='neg_mean_squared_error',\n",
        "                           return_train_score=True)\n",
        "grid_search.fit(housing_prepared, housing_labels)"
      ]
    },
    {
      "cell_type": "markdown",
      "metadata": {
        "id": "ZMozxlyeMLDx"
      },
      "source": [
        "최상의 파라미터 조합은 다음과 같습니다:"
      ]
    },
    {
      "cell_type": "code",
      "execution_count": null,
      "metadata": {
        "colab": {
          "background_save": true
        },
        "id": "ZCV4ASfdMLDx"
      },
      "outputs": [],
      "source": [
        "grid_search.best_params_"
      ]
    },
    {
      "cell_type": "code",
      "execution_count": null,
      "metadata": {
        "colab": {
          "background_save": true
        },
        "id": "37Y7pc2aMLDy"
      },
      "outputs": [],
      "source": [
        "grid_search.best_estimator_"
      ]
    },
    {
      "cell_type": "markdown",
      "metadata": {
        "id": "EDo7Zso3MLDy"
      },
      "source": [
        "그리드서치에서 테스트한 하이퍼파라미터 조합의 점수를 확인합니다:"
      ]
    },
    {
      "cell_type": "code",
      "execution_count": null,
      "metadata": {
        "colab": {
          "background_save": true
        },
        "id": "WqVGDS9WMLDy"
      },
      "outputs": [],
      "source": [
        "cvres = grid_search.cv_results_\n",
        "for mean_score, params in zip(cvres[\"mean_test_score\"], cvres[\"params\"]):\n",
        "    print(np.sqrt(-mean_score), params)"
      ]
    },
    {
      "cell_type": "code",
      "execution_count": null,
      "metadata": {
        "colab": {
          "background_save": true
        },
        "id": "5jq_4vYBMLDy"
      },
      "outputs": [],
      "source": [
        "pd.DataFrame(grid_search.cv_results_)"
      ]
    },
    {
      "cell_type": "code",
      "execution_count": null,
      "metadata": {
        "colab": {
          "background_save": true
        },
        "id": "cKtlH-o4MLDz"
      },
      "outputs": [],
      "source": [
        "from sklearn.model_selection import RandomizedSearchCV\n",
        "from scipy.stats import randint\n",
        "\n",
        "param_distribs = {\n",
        "        'n_estimators': randint(low=1, high=200),\n",
        "        'max_features': randint(low=1, high=8),\n",
        "    }\n",
        "\n",
        "forest_reg = RandomForestRegressor(random_state=42)\n",
        "rnd_search = RandomizedSearchCV(forest_reg, param_distributions=param_distribs,\n",
        "                                n_iter=10, cv=5, scoring='neg_mean_squared_error', random_state=42)\n",
        "rnd_search.fit(housing_prepared, housing_labels)"
      ]
    },
    {
      "cell_type": "code",
      "execution_count": null,
      "metadata": {
        "colab": {
          "background_save": true
        },
        "id": "ExPXDLs0MLDz"
      },
      "outputs": [],
      "source": [
        "cvres = rnd_search.cv_results_\n",
        "for mean_score, params in zip(cvres[\"mean_test_score\"], cvres[\"params\"]):\n",
        "    print(np.sqrt(-mean_score), params)"
      ]
    },
    {
      "cell_type": "code",
      "execution_count": null,
      "metadata": {
        "colab": {
          "background_save": true
        },
        "id": "QmcvZObVMLDz"
      },
      "outputs": [],
      "source": [
        "feature_importances = grid_search.best_estimator_.feature_importances_\n",
        "feature_importances"
      ]
    },
    {
      "cell_type": "code",
      "execution_count": null,
      "metadata": {
        "colab": {
          "background_save": true
        },
        "id": "HJS9HRi5MLDz"
      },
      "outputs": [],
      "source": [
        "extra_attribs = [\"rooms_per_hhold\", \"pop_per_hhold\", \"bedrooms_per_room\"]\n",
        "#cat_encoder = cat_pipeline.named_steps[\"cat_encoder\"] # 예전 방식\n",
        "cat_encoder = full_pipeline.named_transformers_[\"cat\"]\n",
        "cat_one_hot_attribs = list(cat_encoder.categories_[0])\n",
        "attributes = num_attribs + extra_attribs + cat_one_hot_attribs\n",
        "sorted(zip(feature_importances, attributes), reverse=True)"
      ]
    },
    {
      "cell_type": "code",
      "execution_count": null,
      "metadata": {
        "colab": {
          "background_save": true
        },
        "id": "R5Ci6mP2MLDz"
      },
      "outputs": [],
      "source": [
        "final_model = grid_search.best_estimator_\n",
        "\n",
        "X_test = strat_test_set.drop(\"median_house_value\", axis=1)\n",
        "y_test = strat_test_set[\"median_house_value\"].copy()\n",
        "\n",
        "X_test_prepared = full_pipeline.transform(X_test)\n",
        "final_predictions = final_model.predict(X_test_prepared)\n",
        "\n",
        "final_mse = mean_squared_error(y_test, final_predictions)\n",
        "final_rmse = np.sqrt(final_mse)"
      ]
    },
    {
      "cell_type": "code",
      "execution_count": null,
      "metadata": {
        "colab": {
          "background_save": true
        },
        "id": "BaW3E9edMLD0"
      },
      "outputs": [],
      "source": [
        "final_rmse"
      ]
    },
    {
      "cell_type": "markdown",
      "metadata": {
        "id": "nT4k3xCLMLD0"
      },
      "source": [
        "테스트 RMSE에 대한 95% 신뢰 구간을 계산할 수 있습니다:"
      ]
    },
    {
      "cell_type": "code",
      "execution_count": null,
      "metadata": {
        "colab": {
          "background_save": true
        },
        "id": "sNcqlF39MLD0"
      },
      "outputs": [],
      "source": [
        "from scipy import stats\n",
        "\n",
        "confidence = 0.95\n",
        "squared_errors = (final_predictions - y_test) ** 2\n",
        "np.sqrt(stats.t.interval(confidence, len(squared_errors) - 1,\n",
        "                         loc=squared_errors.mean(),\n",
        "                         scale=stats.sem(squared_errors)))"
      ]
    },
    {
      "cell_type": "markdown",
      "metadata": {
        "id": "tC2Vb2LNMLD0"
      },
      "source": [
        "다음과 같이 수동으로 계산할 수도 있습니다:"
      ]
    },
    {
      "cell_type": "code",
      "execution_count": null,
      "metadata": {
        "colab": {
          "background_save": true
        },
        "id": "Z4AeEYKWMLD0"
      },
      "outputs": [],
      "source": [
        "m = len(squared_errors)\n",
        "mean = squared_errors.mean()\n",
        "tscore = stats.t.ppf((1 + confidence) / 2, df=m - 1)\n",
        "tmargin = tscore * squared_errors.std(ddof=1) / np.sqrt(m)\n",
        "np.sqrt(mean - tmargin), np.sqrt(mean + tmargin)"
      ]
    },
    {
      "cell_type": "markdown",
      "metadata": {
        "id": "F3HtqmG6MLD0"
      },
      "source": [
        "또는 t-점수 대신 z-점수를 사용할 수도 있습니다:"
      ]
    },
    {
      "cell_type": "code",
      "execution_count": null,
      "metadata": {
        "colab": {
          "background_save": true
        },
        "id": "KIGxrTeWMLD1"
      },
      "outputs": [],
      "source": [
        "zscore = stats.norm.ppf((1 + confidence) / 2)\n",
        "zmargin = zscore * squared_errors.std(ddof=1) / np.sqrt(m)\n",
        "np.sqrt(mean - zmargin), np.sqrt(mean + zmargin)"
      ]
    },
    {
      "cell_type": "markdown",
      "metadata": {
        "id": "VSbSXe2SMLD1"
      },
      "source": [
        "# 추가 내용"
      ]
    },
    {
      "cell_type": "markdown",
      "metadata": {
        "id": "A04n3W3WMLD1"
      },
      "source": [
        "## 전처리와 예측을 포함한 전체 파이프라인"
      ]
    },
    {
      "cell_type": "code",
      "execution_count": null,
      "metadata": {
        "colab": {
          "background_save": true
        },
        "id": "-RnuDpjuMLD1"
      },
      "outputs": [],
      "source": [
        "full_pipeline_with_predictor = Pipeline([\n",
        "        (\"preparation\", full_pipeline),\n",
        "        (\"linear\", LinearRegression())\n",
        "    ])\n",
        "\n",
        "full_pipeline_with_predictor.fit(housing, housing_labels)\n",
        "full_pipeline_with_predictor.predict(some_data)"
      ]
    },
    {
      "cell_type": "markdown",
      "metadata": {
        "id": "e9HjzCCBMLD1"
      },
      "source": [
        "## joblib를 사용한 모델 저장"
      ]
    },
    {
      "cell_type": "code",
      "execution_count": null,
      "metadata": {
        "colab": {
          "background_save": true
        },
        "id": "aoTeu-rtMLD2"
      },
      "outputs": [],
      "source": [
        "my_model = full_pipeline_with_predictor"
      ]
    },
    {
      "cell_type": "code",
      "execution_count": null,
      "metadata": {
        "colab": {
          "background_save": true
        },
        "id": "C-x5lHw5MLD2"
      },
      "outputs": [],
      "source": [
        "import joblib\n",
        "joblib.dump(my_model, \"my_model.pkl\") # DIFF\n",
        "#...\n",
        "my_model_loaded = joblib.load(\"my_model.pkl\") # DIFF"
      ]
    },
    {
      "cell_type": "markdown",
      "metadata": {
        "id": "71cCw2DMMLD2"
      },
      "source": [
        "## `RandomizedSearchCV`를 위한 Scipy 분포 함수"
      ]
    },
    {
      "cell_type": "code",
      "execution_count": null,
      "metadata": {
        "colab": {
          "background_save": true
        },
        "id": "1COsUSTPMLD2"
      },
      "outputs": [],
      "source": [
        "from scipy.stats import geom, expon\n",
        "geom_distrib=geom(0.5).rvs(10000, random_state=42)\n",
        "expon_distrib=expon(scale=1).rvs(10000, random_state=42)\n",
        "plt.hist(geom_distrib, bins=50)\n",
        "plt.show()\n",
        "plt.hist(expon_distrib, bins=50)\n",
        "plt.show()"
      ]
    },
    {
      "cell_type": "markdown",
      "metadata": {
        "id": "bGBYWdtbMLD2"
      },
      "source": [
        "# 연습문제 해답"
      ]
    },
    {
      "cell_type": "markdown",
      "metadata": {
        "id": "jCWeW3t8MLD2"
      },
      "source": [
        "## 1."
      ]
    },
    {
      "cell_type": "markdown",
      "metadata": {
        "collapsed": true,
        "id": "KUwHf2RnMLD2"
      },
      "source": [
        "질문: 서포트 벡터 머신 회귀(`sklearn.svm.SVR`)를 `kernel=“linear”`(하이퍼파라미터 `C`를 바꿔가며)나 `kernel=“rbf”`(하이퍼파라미터 `C`와 `gamma`를 바꿔가며) 등의 다양한 하이퍼파라미터 설정으로 시도해보세요. 지금은 이 하이퍼파라미터가 무엇을 의미하는지 너무 신경 쓰지 마세요. 최상의 `SVR` 모델은 무엇인가요?\n",
        "\n",
        "**경고**: 사용하는 하드웨어에 따라 다음 셀을 실행하는데 30분 또는 그 이상 걸릴 수 있습니다."
      ]
    },
    {
      "cell_type": "code",
      "execution_count": null,
      "metadata": {
        "colab": {
          "background_save": true
        },
        "id": "QzhxmFRRMLD3",
        "outputId": "c0e6eab3-44c3-445d-95dc-034df2837353"
      },
      "outputs": [
        {
          "name": "stdout",
          "output_type": "stream",
          "text": [
            "Fitting 5 folds for each of 50 candidates, totalling 250 fits\n",
            "[CV] END ..............................C=10.0, kernel=linear; total time=   6.3s\n",
            "[CV] END ..............................C=10.0, kernel=linear; total time=   6.2s\n",
            "[CV] END ..............................C=10.0, kernel=linear; total time=   6.2s\n",
            "[CV] END ..............................C=10.0, kernel=linear; total time=   6.2s\n",
            "[CV] END ..............................C=10.0, kernel=linear; total time=   6.1s\n",
            "[CV] END ..............................C=30.0, kernel=linear; total time=   6.1s\n",
            "[CV] END ..............................C=30.0, kernel=linear; total time=   6.1s\n",
            "[CV] END ..............................C=30.0, kernel=linear; total time=   6.2s\n",
            "[CV] END ..............................C=30.0, kernel=linear; total time=   6.1s\n",
            "[CV] END ..............................C=30.0, kernel=linear; total time=   6.2s\n",
            "[CV] END .............................C=100.0, kernel=linear; total time=   6.2s\n",
            "[CV] END .............................C=100.0, kernel=linear; total time=   6.1s\n",
            "[CV] END .............................C=100.0, kernel=linear; total time=   6.0s\n",
            "[CV] END .............................C=100.0, kernel=linear; total time=   6.2s\n",
            "[CV] END .............................C=100.0, kernel=linear; total time=   6.1s\n",
            "[CV] END .............................C=300.0, kernel=linear; total time=   6.3s\n",
            "[CV] END .............................C=300.0, kernel=linear; total time=   6.1s\n",
            "[CV] END .............................C=300.0, kernel=linear; total time=   6.1s\n",
            "[CV] END .............................C=300.0, kernel=linear; total time=   6.1s\n",
            "[CV] END .............................C=300.0, kernel=linear; total time=   6.1s\n",
            "[CV] END ............................C=1000.0, kernel=linear; total time=   6.3s\n",
            "[CV] END ............................C=1000.0, kernel=linear; total time=   6.2s\n",
            "[CV] END ............................C=1000.0, kernel=linear; total time=   6.3s\n",
            "[CV] END ............................C=1000.0, kernel=linear; total time=   6.3s\n",
            "[CV] END ............................C=1000.0, kernel=linear; total time=   6.4s\n",
            "[CV] END ............................C=3000.0, kernel=linear; total time=   6.9s\n",
            "[CV] END ............................C=3000.0, kernel=linear; total time=   6.7s\n",
            "[CV] END ............................C=3000.0, kernel=linear; total time=   6.6s\n",
            "[CV] END ............................C=3000.0, kernel=linear; total time=   6.8s\n",
            "[CV] END ............................C=3000.0, kernel=linear; total time=   6.7s\n",
            "[CV] END ...........................C=10000.0, kernel=linear; total time=   8.4s\n",
            "[CV] END ...........................C=10000.0, kernel=linear; total time=   8.3s\n",
            "[CV] END ...........................C=10000.0, kernel=linear; total time=   8.2s\n",
            "[CV] END ...........................C=10000.0, kernel=linear; total time=   8.0s\n",
            "[CV] END ...........................C=10000.0, kernel=linear; total time=   8.2s\n",
            "[CV] END ...........................C=30000.0, kernel=linear; total time=  12.5s\n",
            "[CV] END ...........................C=30000.0, kernel=linear; total time=  11.8s\n",
            "[CV] END ...........................C=30000.0, kernel=linear; total time=  11.1s\n",
            "[CV] END ...........................C=30000.0, kernel=linear; total time=  12.1s\n",
            "[CV] END ...........................C=30000.0, kernel=linear; total time=  12.6s\n",
            "[CV] END ......................C=1.0, gamma=0.01, kernel=rbf; total time=  11.7s\n",
            "[CV] END ......................C=1.0, gamma=0.01, kernel=rbf; total time=  11.6s\n",
            "[CV] END ......................C=1.0, gamma=0.01, kernel=rbf; total time=  11.6s\n",
            "[CV] END ......................C=1.0, gamma=0.01, kernel=rbf; total time=  11.7s\n",
            "[CV] END ......................C=1.0, gamma=0.01, kernel=rbf; total time=  11.7s\n",
            "[CV] END ......................C=1.0, gamma=0.03, kernel=rbf; total time=  11.7s\n",
            "[CV] END ......................C=1.0, gamma=0.03, kernel=rbf; total time=  11.7s\n",
            "[CV] END ......................C=1.0, gamma=0.03, kernel=rbf; total time=  11.7s\n",
            "[CV] END ......................C=1.0, gamma=0.03, kernel=rbf; total time=  11.7s\n",
            "[CV] END ......................C=1.0, gamma=0.03, kernel=rbf; total time=  11.7s\n",
            "[CV] END .......................C=1.0, gamma=0.1, kernel=rbf; total time=  11.5s\n",
            "[CV] END .......................C=1.0, gamma=0.1, kernel=rbf; total time=  11.6s\n",
            "[CV] END .......................C=1.0, gamma=0.1, kernel=rbf; total time=  11.6s\n",
            "[CV] END .......................C=1.0, gamma=0.1, kernel=rbf; total time=  11.6s\n",
            "[CV] END .......................C=1.0, gamma=0.1, kernel=rbf; total time=  11.6s\n",
            "[CV] END .......................C=1.0, gamma=0.3, kernel=rbf; total time=  11.3s\n",
            "[CV] END .......................C=1.0, gamma=0.3, kernel=rbf; total time=  11.3s\n",
            "[CV] END .......................C=1.0, gamma=0.3, kernel=rbf; total time=  11.3s\n",
            "[CV] END .......................C=1.0, gamma=0.3, kernel=rbf; total time=  11.3s\n",
            "[CV] END .......................C=1.0, gamma=0.3, kernel=rbf; total time=  11.3s\n",
            "[CV] END .......................C=1.0, gamma=1.0, kernel=rbf; total time=  11.0s\n",
            "[CV] END .......................C=1.0, gamma=1.0, kernel=rbf; total time=  10.9s\n",
            "[CV] END .......................C=1.0, gamma=1.0, kernel=rbf; total time=  10.9s\n",
            "[CV] END .......................C=1.0, gamma=1.0, kernel=rbf; total time=  11.0s\n",
            "[CV] END .......................C=1.0, gamma=1.0, kernel=rbf; total time=  10.9s\n",
            "[CV] END .......................C=1.0, gamma=3.0, kernel=rbf; total time=  10.9s\n",
            "[CV] END .......................C=1.0, gamma=3.0, kernel=rbf; total time=  10.9s\n",
            "[CV] END .......................C=1.0, gamma=3.0, kernel=rbf; total time=  11.5s\n",
            "[CV] END .......................C=1.0, gamma=3.0, kernel=rbf; total time=  11.6s\n",
            "[CV] END .......................C=1.0, gamma=3.0, kernel=rbf; total time=  10.8s\n",
            "[CV] END ......................C=3.0, gamma=0.01, kernel=rbf; total time=  11.6s\n",
            "[CV] END ......................C=3.0, gamma=0.01, kernel=rbf; total time=  11.7s\n",
            "[CV] END ......................C=3.0, gamma=0.01, kernel=rbf; total time=  11.6s\n",
            "[CV] END ......................C=3.0, gamma=0.01, kernel=rbf; total time=  11.8s\n",
            "[CV] END ......................C=3.0, gamma=0.01, kernel=rbf; total time=  11.6s\n",
            "[CV] END ......................C=3.0, gamma=0.03, kernel=rbf; total time=  11.7s\n",
            "[CV] END ......................C=3.0, gamma=0.03, kernel=rbf; total time=  11.5s\n",
            "[CV] END ......................C=3.0, gamma=0.03, kernel=rbf; total time=  11.6s\n",
            "[CV] END ......................C=3.0, gamma=0.03, kernel=rbf; total time=  11.6s\n",
            "[CV] END ......................C=3.0, gamma=0.03, kernel=rbf; total time=  11.7s\n",
            "[CV] END .......................C=3.0, gamma=0.1, kernel=rbf; total time=  11.4s\n",
            "[CV] END .......................C=3.0, gamma=0.1, kernel=rbf; total time=  11.5s\n",
            "[CV] END .......................C=3.0, gamma=0.1, kernel=rbf; total time=  11.5s\n",
            "[CV] END .......................C=3.0, gamma=0.1, kernel=rbf; total time=  11.5s\n",
            "[CV] END .......................C=3.0, gamma=0.1, kernel=rbf; total time=  11.6s\n",
            "[CV] END .......................C=3.0, gamma=0.3, kernel=rbf; total time=  11.3s\n",
            "[CV] END .......................C=3.0, gamma=0.3, kernel=rbf; total time=  11.3s\n",
            "[CV] END .......................C=3.0, gamma=0.3, kernel=rbf; total time=  11.3s\n",
            "[CV] END .......................C=3.0, gamma=0.3, kernel=rbf; total time=  11.3s\n",
            "[CV] END .......................C=3.0, gamma=0.3, kernel=rbf; total time=  11.3s\n",
            "[CV] END .......................C=3.0, gamma=1.0, kernel=rbf; total time=  10.9s\n",
            "[CV] END .......................C=3.0, gamma=1.0, kernel=rbf; total time=  11.0s\n",
            "[CV] END .......................C=3.0, gamma=1.0, kernel=rbf; total time=  10.9s\n",
            "[CV] END .......................C=3.0, gamma=1.0, kernel=rbf; total time=  10.9s\n",
            "[CV] END .......................C=3.0, gamma=1.0, kernel=rbf; total time=  11.0s\n",
            "[CV] END .......................C=3.0, gamma=3.0, kernel=rbf; total time=  10.9s\n",
            "[CV] END .......................C=3.0, gamma=3.0, kernel=rbf; total time=  10.9s\n",
            "[CV] END .......................C=3.0, gamma=3.0, kernel=rbf; total time=  10.9s\n",
            "[CV] END .......................C=3.0, gamma=3.0, kernel=rbf; total time=  10.9s\n",
            "[CV] END .......................C=3.0, gamma=3.0, kernel=rbf; total time=  10.9s\n",
            "[CV] END .....................C=10.0, gamma=0.01, kernel=rbf; total time=  11.7s\n",
            "[CV] END .....................C=10.0, gamma=0.01, kernel=rbf; total time=  11.7s\n",
            "[CV] END .....................C=10.0, gamma=0.01, kernel=rbf; total time=  11.7s\n",
            "[CV] END .....................C=10.0, gamma=0.01, kernel=rbf; total time=  11.6s\n",
            "[CV] END .....................C=10.0, gamma=0.01, kernel=rbf; total time=  11.7s\n",
            "[CV] END .....................C=10.0, gamma=0.03, kernel=rbf; total time=  11.7s\n",
            "[CV] END .....................C=10.0, gamma=0.03, kernel=rbf; total time=  11.7s\n",
            "[CV] END .....................C=10.0, gamma=0.03, kernel=rbf; total time=  11.7s\n",
            "[CV] END .....................C=10.0, gamma=0.03, kernel=rbf; total time=  11.7s\n",
            "[CV] END .....................C=10.0, gamma=0.03, kernel=rbf; total time=  11.6s\n",
            "[CV] END ......................C=10.0, gamma=0.1, kernel=rbf; total time=  11.6s\n",
            "[CV] END ......................C=10.0, gamma=0.1, kernel=rbf; total time=  11.6s\n",
            "[CV] END ......................C=10.0, gamma=0.1, kernel=rbf; total time=  11.6s\n",
            "[CV] END ......................C=10.0, gamma=0.1, kernel=rbf; total time=  11.6s\n",
            "[CV] END ......................C=10.0, gamma=0.1, kernel=rbf; total time=  11.5s\n",
            "[CV] END ......................C=10.0, gamma=0.3, kernel=rbf; total time=  11.2s\n",
            "[CV] END ......................C=10.0, gamma=0.3, kernel=rbf; total time=  11.3s\n",
            "[CV] END ......................C=10.0, gamma=0.3, kernel=rbf; total time=  11.3s\n",
            "[CV] END ......................C=10.0, gamma=0.3, kernel=rbf; total time=  11.3s\n",
            "[CV] END ......................C=10.0, gamma=0.3, kernel=rbf; total time=  11.3s\n",
            "[CV] END ......................C=10.0, gamma=1.0, kernel=rbf; total time=  11.0s\n",
            "[CV] END ......................C=10.0, gamma=1.0, kernel=rbf; total time=  11.9s\n",
            "[CV] END ......................C=10.0, gamma=1.0, kernel=rbf; total time=  10.9s\n",
            "[CV] END ......................C=10.0, gamma=1.0, kernel=rbf; total time=  11.0s\n",
            "[CV] END ......................C=10.0, gamma=1.0, kernel=rbf; total time=  11.0s\n",
            "[CV] END ......................C=10.0, gamma=3.0, kernel=rbf; total time=  10.9s\n",
            "[CV] END ......................C=10.0, gamma=3.0, kernel=rbf; total time=  10.9s\n",
            "[CV] END ......................C=10.0, gamma=3.0, kernel=rbf; total time=  10.8s\n",
            "[CV] END ......................C=10.0, gamma=3.0, kernel=rbf; total time=  10.9s\n",
            "[CV] END ......................C=10.0, gamma=3.0, kernel=rbf; total time=  10.9s\n",
            "[CV] END .....................C=30.0, gamma=0.01, kernel=rbf; total time=  11.7s\n",
            "[CV] END .....................C=30.0, gamma=0.01, kernel=rbf; total time=  11.7s\n",
            "[CV] END .....................C=30.0, gamma=0.01, kernel=rbf; total time=  11.7s\n",
            "[CV] END .....................C=30.0, gamma=0.01, kernel=rbf; total time=  11.7s\n",
            "[CV] END .....................C=30.0, gamma=0.01, kernel=rbf; total time=  11.7s\n",
            "[CV] END .....................C=30.0, gamma=0.03, kernel=rbf; total time=  11.6s\n",
            "[CV] END .....................C=30.0, gamma=0.03, kernel=rbf; total time=  11.8s\n",
            "[CV] END .....................C=30.0, gamma=0.03, kernel=rbf; total time=  11.7s\n",
            "[CV] END .....................C=30.0, gamma=0.03, kernel=rbf; total time=  11.6s\n",
            "[CV] END .....................C=30.0, gamma=0.03, kernel=rbf; total time=  11.6s\n",
            "[CV] END ......................C=30.0, gamma=0.1, kernel=rbf; total time=  11.5s\n",
            "[CV] END ......................C=30.0, gamma=0.1, kernel=rbf; total time=  11.5s\n",
            "[CV] END ......................C=30.0, gamma=0.1, kernel=rbf; total time=  11.5s\n",
            "[CV] END ......................C=30.0, gamma=0.1, kernel=rbf; total time=  11.5s\n",
            "[CV] END ......................C=30.0, gamma=0.1, kernel=rbf; total time=  11.5s\n",
            "[CV] END ......................C=30.0, gamma=0.3, kernel=rbf; total time=  11.2s\n",
            "[CV] END ......................C=30.0, gamma=0.3, kernel=rbf; total time=  11.3s\n",
            "[CV] END ......................C=30.0, gamma=0.3, kernel=rbf; total time=  11.3s\n",
            "[CV] END ......................C=30.0, gamma=0.3, kernel=rbf; total time=  11.3s\n",
            "[CV] END ......................C=30.0, gamma=0.3, kernel=rbf; total time=  11.3s\n",
            "[CV] END ......................C=30.0, gamma=1.0, kernel=rbf; total time=  11.0s\n",
            "[CV] END ......................C=30.0, gamma=1.0, kernel=rbf; total time=  10.9s\n",
            "[CV] END ......................C=30.0, gamma=1.0, kernel=rbf; total time=  10.8s\n",
            "[CV] END ......................C=30.0, gamma=1.0, kernel=rbf; total time=  10.9s\n",
            "[CV] END ......................C=30.0, gamma=1.0, kernel=rbf; total time=  10.9s\n",
            "[CV] END ......................C=30.0, gamma=3.0, kernel=rbf; total time=  10.9s\n",
            "[CV] END ......................C=30.0, gamma=3.0, kernel=rbf; total time=  10.7s\n",
            "[CV] END ......................C=30.0, gamma=3.0, kernel=rbf; total time=  10.9s\n",
            "[CV] END ......................C=30.0, gamma=3.0, kernel=rbf; total time=  10.9s\n",
            "[CV] END ......................C=30.0, gamma=3.0, kernel=rbf; total time=  10.9s\n",
            "[CV] END ....................C=100.0, gamma=0.01, kernel=rbf; total time=  11.6s\n",
            "[CV] END ....................C=100.0, gamma=0.01, kernel=rbf; total time=  11.7s\n",
            "[CV] END ....................C=100.0, gamma=0.01, kernel=rbf; total time=  11.6s\n",
            "[CV] END ....................C=100.0, gamma=0.01, kernel=rbf; total time=  11.7s\n",
            "[CV] END ....................C=100.0, gamma=0.01, kernel=rbf; total time=  11.6s\n",
            "[CV] END ....................C=100.0, gamma=0.03, kernel=rbf; total time=  11.5s\n",
            "[CV] END ....................C=100.0, gamma=0.03, kernel=rbf; total time=  11.5s\n",
            "[CV] END ....................C=100.0, gamma=0.03, kernel=rbf; total time=  11.5s\n",
            "[CV] END ....................C=100.0, gamma=0.03, kernel=rbf; total time=  11.5s\n",
            "[CV] END ....................C=100.0, gamma=0.03, kernel=rbf; total time=  11.4s\n",
            "[CV] END .....................C=100.0, gamma=0.1, kernel=rbf; total time=  11.3s\n",
            "[CV] END .....................C=100.0, gamma=0.1, kernel=rbf; total time=  11.4s\n",
            "[CV] END .....................C=100.0, gamma=0.1, kernel=rbf; total time=  11.4s\n",
            "[CV] END .....................C=100.0, gamma=0.1, kernel=rbf; total time=  11.3s\n",
            "[CV] END .....................C=100.0, gamma=0.1, kernel=rbf; total time=  11.4s\n",
            "[CV] END .....................C=100.0, gamma=0.3, kernel=rbf; total time=  11.2s\n",
            "[CV] END .....................C=100.0, gamma=0.3, kernel=rbf; total time=  11.2s\n",
            "[CV] END .....................C=100.0, gamma=0.3, kernel=rbf; total time=  11.2s\n",
            "[CV] END .....................C=100.0, gamma=0.3, kernel=rbf; total time=  11.1s\n",
            "[CV] END .....................C=100.0, gamma=0.3, kernel=rbf; total time=  11.2s\n",
            "[CV] END .....................C=100.0, gamma=1.0, kernel=rbf; total time=  10.9s\n",
            "[CV] END .....................C=100.0, gamma=1.0, kernel=rbf; total time=  11.0s\n",
            "[CV] END .....................C=100.0, gamma=1.0, kernel=rbf; total time=  10.9s\n",
            "[CV] END .....................C=100.0, gamma=1.0, kernel=rbf; total time=  11.0s\n",
            "[CV] END .....................C=100.0, gamma=1.0, kernel=rbf; total time=  11.0s\n",
            "[CV] END .....................C=100.0, gamma=3.0, kernel=rbf; total time=  10.9s\n",
            "[CV] END .....................C=100.0, gamma=3.0, kernel=rbf; total time=  10.8s\n",
            "[CV] END .....................C=100.0, gamma=3.0, kernel=rbf; total time=  10.9s\n",
            "[CV] END .....................C=100.0, gamma=3.0, kernel=rbf; total time=  10.9s\n",
            "[CV] END .....................C=100.0, gamma=3.0, kernel=rbf; total time=  10.9s\n",
            "[CV] END ....................C=300.0, gamma=0.01, kernel=rbf; total time=  11.4s\n",
            "[CV] END ....................C=300.0, gamma=0.01, kernel=rbf; total time=  11.5s\n",
            "[CV] END ....................C=300.0, gamma=0.01, kernel=rbf; total time=  11.4s\n",
            "[CV] END ....................C=300.0, gamma=0.01, kernel=rbf; total time=  11.5s\n",
            "[CV] END ....................C=300.0, gamma=0.01, kernel=rbf; total time=  11.5s\n",
            "[CV] END ....................C=300.0, gamma=0.03, kernel=rbf; total time=  11.3s\n",
            "[CV] END ....................C=300.0, gamma=0.03, kernel=rbf; total time=  11.2s\n",
            "[CV] END ....................C=300.0, gamma=0.03, kernel=rbf; total time=  11.3s\n",
            "[CV] END ....................C=300.0, gamma=0.03, kernel=rbf; total time=  11.3s\n",
            "[CV] END ....................C=300.0, gamma=0.03, kernel=rbf; total time=  11.2s\n",
            "[CV] END .....................C=300.0, gamma=0.1, kernel=rbf; total time=  11.1s\n",
            "[CV] END .....................C=300.0, gamma=0.1, kernel=rbf; total time=  11.2s\n",
            "[CV] END .....................C=300.0, gamma=0.1, kernel=rbf; total time=  11.1s\n",
            "[CV] END .....................C=300.0, gamma=0.1, kernel=rbf; total time=  11.1s\n",
            "[CV] END .....................C=300.0, gamma=0.1, kernel=rbf; total time=  11.1s\n",
            "[CV] END .....................C=300.0, gamma=0.3, kernel=rbf; total time=  11.1s\n",
            "[CV] END .....................C=300.0, gamma=0.3, kernel=rbf; total time=  11.1s\n",
            "[CV] END .....................C=300.0, gamma=0.3, kernel=rbf; total time=  11.1s\n",
            "[CV] END .....................C=300.0, gamma=0.3, kernel=rbf; total time=  11.0s\n",
            "[CV] END .....................C=300.0, gamma=0.3, kernel=rbf; total time=  11.1s\n",
            "[CV] END .....................C=300.0, gamma=1.0, kernel=rbf; total time=  10.9s\n",
            "[CV] END .....................C=300.0, gamma=1.0, kernel=rbf; total time=  10.9s\n",
            "[CV] END .....................C=300.0, gamma=1.0, kernel=rbf; total time=  10.9s\n",
            "[CV] END .....................C=300.0, gamma=1.0, kernel=rbf; total time=  10.9s\n",
            "[CV] END .....................C=300.0, gamma=1.0, kernel=rbf; total time=  10.9s\n",
            "[CV] END .....................C=300.0, gamma=3.0, kernel=rbf; total time=  10.9s\n",
            "[CV] END .....................C=300.0, gamma=3.0, kernel=rbf; total time=  10.9s\n",
            "[CV] END .....................C=300.0, gamma=3.0, kernel=rbf; total time=  10.9s\n",
            "[CV] END .....................C=300.0, gamma=3.0, kernel=rbf; total time=  10.8s\n",
            "[CV] END .....................C=300.0, gamma=3.0, kernel=rbf; total time=  10.8s\n",
            "[CV] END ...................C=1000.0, gamma=0.01, kernel=rbf; total time=  11.1s\n",
            "[CV] END ...................C=1000.0, gamma=0.01, kernel=rbf; total time=  11.1s\n",
            "[CV] END ...................C=1000.0, gamma=0.01, kernel=rbf; total time=  11.1s\n",
            "[CV] END ...................C=1000.0, gamma=0.01, kernel=rbf; total time=  11.1s\n",
            "[CV] END ...................C=1000.0, gamma=0.01, kernel=rbf; total time=  11.2s\n",
            "[CV] END ...................C=1000.0, gamma=0.03, kernel=rbf; total time=  11.1s\n",
            "[CV] END ...................C=1000.0, gamma=0.03, kernel=rbf; total time=  11.1s\n",
            "[CV] END ...................C=1000.0, gamma=0.03, kernel=rbf; total time=  11.1s\n",
            "[CV] END ...................C=1000.0, gamma=0.03, kernel=rbf; total time=  11.1s\n",
            "[CV] END ...................C=1000.0, gamma=0.03, kernel=rbf; total time=  11.1s\n",
            "[CV] END ....................C=1000.0, gamma=0.1, kernel=rbf; total time=  10.9s\n",
            "[CV] END ....................C=1000.0, gamma=0.1, kernel=rbf; total time=  10.9s\n",
            "[CV] END ....................C=1000.0, gamma=0.1, kernel=rbf; total time=  11.0s\n",
            "[CV] END ....................C=1000.0, gamma=0.1, kernel=rbf; total time=  11.0s\n",
            "[CV] END ....................C=1000.0, gamma=0.1, kernel=rbf; total time=  11.0s\n",
            "[CV] END ....................C=1000.0, gamma=0.3, kernel=rbf; total time=  10.9s\n",
            "[CV] END ....................C=1000.0, gamma=0.3, kernel=rbf; total time=  11.0s\n",
            "[CV] END ....................C=1000.0, gamma=0.3, kernel=rbf; total time=  10.9s\n",
            "[CV] END ....................C=1000.0, gamma=0.3, kernel=rbf; total time=  10.9s\n",
            "[CV] END ....................C=1000.0, gamma=0.3, kernel=rbf; total time=  10.9s\n",
            "[CV] END ....................C=1000.0, gamma=1.0, kernel=rbf; total time=  10.8s\n",
            "[CV] END ....................C=1000.0, gamma=1.0, kernel=rbf; total time=  10.8s\n",
            "[CV] END ....................C=1000.0, gamma=1.0, kernel=rbf; total time=  10.9s\n",
            "[CV] END ....................C=1000.0, gamma=1.0, kernel=rbf; total time=  10.8s\n",
            "[CV] END ....................C=1000.0, gamma=1.0, kernel=rbf; total time=  10.9s\n",
            "[CV] END ....................C=1000.0, gamma=3.0, kernel=rbf; total time=  10.8s\n",
            "[CV] END ....................C=1000.0, gamma=3.0, kernel=rbf; total time=  10.9s\n",
            "[CV] END ....................C=1000.0, gamma=3.0, kernel=rbf; total time=  10.9s\n",
            "[CV] END ....................C=1000.0, gamma=3.0, kernel=rbf; total time=  10.9s\n",
            "[CV] END ....................C=1000.0, gamma=3.0, kernel=rbf; total time=  10.9s\n"
          ]
        },
        {
          "data": {
            "text/plain": [
              "GridSearchCV(cv=5, estimator=SVR(),\n",
              "             param_grid=[{'C': [10.0, 30.0, 100.0, 300.0, 1000.0, 3000.0,\n",
              "                                10000.0, 30000.0],\n",
              "                          'kernel': ['linear']},\n",
              "                         {'C': [1.0, 3.0, 10.0, 30.0, 100.0, 300.0, 1000.0],\n",
              "                          'gamma': [0.01, 0.03, 0.1, 0.3, 1.0, 3.0],\n",
              "                          'kernel': ['rbf']}],\n",
              "             scoring='neg_mean_squared_error', verbose=2)"
            ]
          },
          "execution_count": null,
          "metadata": {},
          "output_type": "execute_result"
        }
      ],
      "source": [
        "from sklearn.model_selection import GridSearchCV\n",
        "\n",
        "param_grid = [\n",
        "        {'kernel': ['linear'], 'C': [10., 30., 100., 300., 1000., 3000., 10000., 30000.0]},\n",
        "        {'kernel': ['rbf'], 'C': [1.0, 3.0, 10., 30., 100., 300., 1000.0],\n",
        "         'gamma': [0.01, 0.03, 0.1, 0.3, 1.0, 3.0]},\n",
        "    ]\n",
        "\n",
        "svm_reg = SVR()\n",
        "grid_search = GridSearchCV(svm_reg, param_grid, cv=5, scoring='neg_mean_squared_error', verbose=2)\n",
        "grid_search.fit(housing_prepared, housing_labels)"
      ]
    },
    {
      "cell_type": "markdown",
      "metadata": {
        "id": "3gDVgZVRMLD3"
      },
      "source": [
        "최상 모델의 (5-폴드 교차 검증으로 평가한) 점수는 다음과 같습니다:"
      ]
    },
    {
      "cell_type": "code",
      "execution_count": null,
      "metadata": {
        "colab": {
          "background_save": true
        },
        "id": "TBIF_3uhMLD3",
        "outputId": "f3fed701-9f9c-4250-aea0-94f938a35c2b"
      },
      "outputs": [
        {
          "data": {
            "text/plain": [
              "70286.61835383571"
            ]
          },
          "execution_count": null,
          "metadata": {},
          "output_type": "execute_result"
        }
      ],
      "source": [
        "negative_mse = grid_search.best_score_\n",
        "rmse = np.sqrt(-negative_mse)\n",
        "rmse"
      ]
    },
    {
      "cell_type": "markdown",
      "metadata": {
        "id": "F0Y_0JPfMLD3"
      },
      "source": [
        "`RandomForestRegressor`보다 훨씬 좋지 않네요. 최상의 하이퍼파라미터를 확인해 보겠습니다:"
      ]
    },
    {
      "cell_type": "code",
      "execution_count": null,
      "metadata": {
        "colab": {
          "background_save": true
        },
        "id": "U6ZHmii5MLD3",
        "outputId": "b444ccd6-6c73-441d-fa24-baaae76015e7"
      },
      "outputs": [
        {
          "data": {
            "text/plain": [
              "{'C': 30000.0, 'kernel': 'linear'}"
            ]
          },
          "execution_count": null,
          "metadata": {},
          "output_type": "execute_result"
        }
      ],
      "source": [
        "grid_search.best_params_"
      ]
    },
    {
      "cell_type": "markdown",
      "metadata": {
        "id": "49D0VqALMLD4"
      },
      "source": [
        "선형 커널이 RBF 커널보다 성능이 나은 것 같습니다. `C`는 테스트한 것 중에 최대값이 선택되었습니다. 따라서 (작은 값들은 지우고) 더 큰 값의 `C`로 그리드서치를 다시 실행해 보아야 합니다. 아마도 더 큰 값의 `C`에서 성능이 높아질 것입니다."
      ]
    },
    {
      "cell_type": "markdown",
      "metadata": {
        "id": "gUUYaCdVMLD4"
      },
      "source": [
        "## 2."
      ]
    },
    {
      "cell_type": "markdown",
      "metadata": {
        "id": "6oxdKgHJMLD4"
      },
      "source": [
        "질문: `GridSearchCV`를 `RandomizedSearchCV`로 바꿔보세요.\n",
        "\n",
        "**경고**: 사용하는 하드웨어에 따라 다음 셀을 실행하는데 45분 또는 그 이상 걸릴 수 있습니다."
      ]
    },
    {
      "cell_type": "code",
      "execution_count": null,
      "metadata": {
        "colab": {
          "background_save": true,
          "base_uri": "https://localhost:8080/"
        },
        "id": "JL9a58NQMLD4",
        "outputId": "28a27a73-b488-42e8-c0b7-388ba6a879ee"
      },
      "outputs": [
        {
          "name": "stdout",
          "output_type": "stream",
          "text": [
            "Fitting 5 folds for each of 50 candidates, totalling 250 fits\n",
            "[CV] END C=629.782329591372, gamma=3.010121430917521, kernel=linear; total time=   6.2s\n",
            "[CV] END C=629.782329591372, gamma=3.010121430917521, kernel=linear; total time=   6.1s\n",
            "[CV] END C=629.782329591372, gamma=3.010121430917521, kernel=linear; total time=   6.2s\n",
            "[CV] END C=629.782329591372, gamma=3.010121430917521, kernel=linear; total time=   6.1s\n",
            "[CV] END C=629.782329591372, gamma=3.010121430917521, kernel=linear; total time=   6.2s\n",
            "[CV] END C=26290.206464300216, gamma=0.9084469696321253, kernel=rbf; total time=  12.5s\n",
            "[CV] END C=26290.206464300216, gamma=0.9084469696321253, kernel=rbf; total time=  12.6s\n",
            "[CV] END C=26290.206464300216, gamma=0.9084469696321253, kernel=rbf; total time=  12.7s\n",
            "[CV] END C=26290.206464300216, gamma=0.9084469696321253, kernel=rbf; total time=  12.8s\n",
            "[CV] END C=26290.206464300216, gamma=0.9084469696321253, kernel=rbf; total time=  12.5s\n",
            "[CV] END C=84.14107900575871, gamma=0.059838768608680676, kernel=rbf; total time=  11.3s\n",
            "[CV] END C=84.14107900575871, gamma=0.059838768608680676, kernel=rbf; total time=  11.4s\n",
            "[CV] END C=84.14107900575871, gamma=0.059838768608680676, kernel=rbf; total time=  11.4s\n",
            "[CV] END C=84.14107900575871, gamma=0.059838768608680676, kernel=rbf; total time=  11.4s\n",
            "[CV] END C=84.14107900575871, gamma=0.059838768608680676, kernel=rbf; total time=  11.4s\n",
            "[CV] END C=432.37884813148855, gamma=0.15416196746656105, kernel=linear; total time=   6.2s\n",
            "[CV] END C=432.37884813148855, gamma=0.15416196746656105, kernel=linear; total time=   6.0s\n",
            "[CV] END C=432.37884813148855, gamma=0.15416196746656105, kernel=linear; total time=   6.2s\n",
            "[CV] END C=432.37884813148855, gamma=0.15416196746656105, kernel=linear; total time=   6.2s\n",
            "[CV] END C=432.37884813148855, gamma=0.15416196746656105, kernel=linear; total time=   6.2s\n",
            "[CV] END C=24.17508294611391, gamma=3.503557475158312, kernel=rbf; total time=  10.9s\n",
            "[CV] END C=24.17508294611391, gamma=3.503557475158312, kernel=rbf; total time=  11.0s\n",
            "[CV] END C=24.17508294611391, gamma=3.503557475158312, kernel=rbf; total time=  11.0s\n",
            "[CV] END C=24.17508294611391, gamma=3.503557475158312, kernel=rbf; total time=  10.8s\n",
            "[CV] END C=24.17508294611391, gamma=3.503557475158312, kernel=rbf; total time=  10.9s\n",
            "[CV] END C=113564.03940586245, gamma=0.0007790692366582295, kernel=rbf; total time=  11.0s\n",
            "[CV] END C=113564.03940586245, gamma=0.0007790692366582295, kernel=rbf; total time=  11.0s\n",
            "[CV] END C=113564.03940586245, gamma=0.0007790692366582295, kernel=rbf; total time=  11.1s\n",
            "[CV] END C=113564.03940586245, gamma=0.0007790692366582295, kernel=rbf; total time=  11.0s\n",
            "[CV] END C=113564.03940586245, gamma=0.0007790692366582295, kernel=rbf; total time=  11.1s\n",
            "[CV] END C=108.30488238805073, gamma=0.3627537294604771, kernel=rbf; total time=  11.1s\n",
            "[CV] END C=108.30488238805073, gamma=0.3627537294604771, kernel=rbf; total time=  11.1s\n",
            "[CV] END C=108.30488238805073, gamma=0.3627537294604771, kernel=rbf; total time=  11.2s\n",
            "[CV] END C=108.30488238805073, gamma=0.3627537294604771, kernel=rbf; total time=  11.1s\n",
            "[CV] END C=108.30488238805073, gamma=0.3627537294604771, kernel=rbf; total time=  11.1s\n",
            "[CV] END C=21.344953672647435, gamma=0.023332523598323388, kernel=linear; total time=   6.2s\n",
            "[CV] END C=21.344953672647435, gamma=0.023332523598323388, kernel=linear; total time=   6.1s\n",
            "[CV] END C=21.344953672647435, gamma=0.023332523598323388, kernel=linear; total time=   6.2s\n",
            "[CV] END C=21.344953672647435, gamma=0.023332523598323388, kernel=linear; total time=   6.1s\n",
            "[CV] END C=21.344953672647435, gamma=0.023332523598323388, kernel=linear; total time=   6.2s\n",
            "[CV] END C=5603.270317432516, gamma=0.15023452872733867, kernel=rbf; total time=  10.9s\n",
            "[CV] END C=5603.270317432516, gamma=0.15023452872733867, kernel=rbf; total time=  10.9s\n",
            "[CV] END C=5603.270317432516, gamma=0.15023452872733867, kernel=rbf; total time=  11.0s\n",
            "[CV] END C=5603.270317432516, gamma=0.15023452872733867, kernel=rbf; total time=  11.0s\n",
            "[CV] END C=5603.270317432516, gamma=0.15023452872733867, kernel=rbf; total time=  10.9s\n",
            "[CV] END C=157055.10989448498, gamma=0.26497040005002437, kernel=rbf; total time=  22.7s\n",
            "[CV] END C=157055.10989448498, gamma=0.26497040005002437, kernel=rbf; total time=  23.4s\n",
            "[CV] END C=157055.10989448498, gamma=0.26497040005002437, kernel=rbf; total time=  24.4s\n",
            "[CV] END C=157055.10989448498, gamma=0.26497040005002437, kernel=rbf; total time=  21.8s\n",
            "[CV] END C=157055.10989448498, gamma=0.26497040005002437, kernel=rbf; total time=  23.9s\n",
            "[CV] END C=27652.464358739708, gamma=0.2227358621286903, kernel=linear; total time=  13.4s\n",
            "[CV] END C=27652.464358739708, gamma=0.2227358621286903, kernel=linear; total time=  11.7s\n",
            "[CV] END C=27652.464358739708, gamma=0.2227358621286903, kernel=linear; total time=  11.3s\n",
            "[CV] END C=27652.464358739708, gamma=0.2227358621286903, kernel=linear; total time=  12.5s\n",
            "[CV] END C=27652.464358739708, gamma=0.2227358621286903, kernel=linear; total time=  12.1s\n",
            "[CV] END C=171377.39570378003, gamma=0.628789100540856, kernel=linear; total time=  33.0s\n",
            "[CV] END C=171377.39570378003, gamma=0.628789100540856, kernel=linear; total time=  38.9s\n",
            "[CV] END C=171377.39570378003, gamma=0.628789100540856, kernel=linear; total time=  32.3s\n",
            "[CV] END C=171377.39570378003, gamma=0.628789100540856, kernel=linear; total time=  43.4s\n",
            "[CV] END C=171377.39570378003, gamma=0.628789100540856, kernel=linear; total time=  34.0s\n",
            "[CV] END C=5385.293820172355, gamma=0.18696125197741642, kernel=linear; total time=   7.5s\n",
            "[CV] END C=5385.293820172355, gamma=0.18696125197741642, kernel=linear; total time=   7.2s\n",
            "[CV] END C=5385.293820172355, gamma=0.18696125197741642, kernel=linear; total time=   7.2s\n",
            "[CV] END C=5385.293820172355, gamma=0.18696125197741642, kernel=linear; total time=   7.1s\n",
            "[CV] END C=5385.293820172355, gamma=0.18696125197741642, kernel=linear; total time=   7.2s\n",
            "[CV] END C=22.59903216621323, gamma=2.850796878935603, kernel=rbf; total time=  10.9s\n",
            "[CV] END C=22.59903216621323, gamma=2.850796878935603, kernel=rbf; total time=  10.8s\n",
            "[CV] END C=22.59903216621323, gamma=2.850796878935603, kernel=rbf; total time=  10.9s\n",
            "[CV] END C=22.59903216621323, gamma=2.850796878935603, kernel=rbf; total time=  10.9s\n",
            "[CV] END C=22.59903216621323, gamma=2.850796878935603, kernel=rbf; total time=  10.8s\n",
            "[CV] END C=34246.75194632794, gamma=0.3632878599687583, kernel=linear; total time=  14.4s\n",
            "[CV] END C=34246.75194632794, gamma=0.3632878599687583, kernel=linear; total time=  14.4s\n",
            "[CV] END C=34246.75194632794, gamma=0.3632878599687583, kernel=linear; total time=  11.9s\n",
            "[CV] END C=34246.75194632794, gamma=0.3632878599687583, kernel=linear; total time=  12.8s\n",
            "[CV] END C=34246.75194632794, gamma=0.3632878599687583, kernel=linear; total time=  14.5s\n",
            "[CV] END C=167.7278956080511, gamma=0.2757870542258224, kernel=rbf; total time=  11.1s\n",
            "[CV] END C=167.7278956080511, gamma=0.2757870542258224, kernel=rbf; total time=  11.1s\n",
            "[CV] END C=167.7278956080511, gamma=0.2757870542258224, kernel=rbf; total time=  11.2s\n",
            "[CV] END C=167.7278956080511, gamma=0.2757870542258224, kernel=rbf; total time=  11.0s\n",
            "[CV] END C=167.7278956080511, gamma=0.2757870542258224, kernel=rbf; total time=  11.2s\n",
            "[CV] END C=61.54360542501371, gamma=0.6835472281341501, kernel=linear; total time=   6.2s\n",
            "[CV] END C=61.54360542501371, gamma=0.6835472281341501, kernel=linear; total time=   6.0s\n",
            "[CV] END C=61.54360542501371, gamma=0.6835472281341501, kernel=linear; total time=   6.0s\n",
            "[CV] END C=61.54360542501371, gamma=0.6835472281341501, kernel=linear; total time=   6.1s\n",
            "[CV] END C=61.54360542501371, gamma=0.6835472281341501, kernel=linear; total time=   6.1s\n",
            "[CV] END C=98.73897389920914, gamma=0.4960365360493639, kernel=rbf; total time=  11.1s\n",
            "[CV] END C=98.73897389920914, gamma=0.4960365360493639, kernel=rbf; total time=  11.1s\n",
            "[CV] END C=98.73897389920914, gamma=0.4960365360493639, kernel=rbf; total time=  11.1s\n",
            "[CV] END C=98.73897389920914, gamma=0.4960365360493639, kernel=rbf; total time=  11.1s\n",
            "[CV] END C=98.73897389920914, gamma=0.4960365360493639, kernel=rbf; total time=  11.1s\n",
            "[CV] END C=8935.505635947808, gamma=0.37354658165762367, kernel=rbf; total time=  11.0s\n",
            "[CV] END C=8935.505635947808, gamma=0.37354658165762367, kernel=rbf; total time=  11.0s\n",
            "[CV] END C=8935.505635947808, gamma=0.37354658165762367, kernel=rbf; total time=  11.0s\n",
            "[CV] END C=8935.505635947808, gamma=0.37354658165762367, kernel=rbf; total time=  11.0s\n",
            "[CV] END C=8935.505635947808, gamma=0.37354658165762367, kernel=rbf; total time=  11.0s\n",
            "[CV] END C=135.76775824842434, gamma=0.838636245624803, kernel=linear; total time=   6.1s\n",
            "[CV] END C=135.76775824842434, gamma=0.838636245624803, kernel=linear; total time=   6.0s\n",
            "[CV] END C=135.76775824842434, gamma=0.838636245624803, kernel=linear; total time=   6.0s\n",
            "[CV] END C=135.76775824842434, gamma=0.838636245624803, kernel=linear; total time=   6.1s\n",
            "[CV] END C=135.76775824842434, gamma=0.838636245624803, kernel=linear; total time=   6.2s\n",
            "[CV] END C=151136.20282548846, gamma=1.4922453771381408, kernel=rbf; total time= 2.0min\n",
            "[CV] END C=151136.20282548846, gamma=1.4922453771381408, kernel=rbf; total time= 2.0min\n",
            "[CV] END C=151136.20282548846, gamma=1.4922453771381408, kernel=rbf; total time= 2.0min\n",
            "[CV] END C=151136.20282548846, gamma=1.4922453771381408, kernel=rbf; total time= 1.8min\n",
            "[CV] END C=151136.20282548846, gamma=1.4922453771381408, kernel=rbf; total time= 1.8min\n",
            "[CV] END C=761.4316758498783, gamma=2.6126336514161914, kernel=linear; total time=   6.3s\n",
            "[CV] END C=761.4316758498783, gamma=2.6126336514161914, kernel=linear; total time=   6.2s\n",
            "[CV] END C=761.4316758498783, gamma=2.6126336514161914, kernel=linear; total time=   6.1s\n",
            "[CV] END C=761.4316758498783, gamma=2.6126336514161914, kernel=linear; total time=   6.2s\n",
            "[CV] END C=761.4316758498783, gamma=2.6126336514161914, kernel=linear; total time=   6.4s\n"
          ]
        }
      ],
      "source": [
        "from sklearn.model_selection import RandomizedSearchCV\n",
        "from scipy.stats import expon, reciprocal\n",
        "\n",
        "# expon(), reciprocal()와 그외 다른 확률 분포 함수에 대해서는\n",
        "# https://docs.scipy.org/doc/scipy/reference/stats.html를 참고하세요.\n",
        "\n",
        "# 노트: kernel 매개변수가 \"linear\"일 때는 gamma가 무시됩니다.\n",
        "param_distribs = {\n",
        "        'kernel': ['linear', 'rbf'],\n",
        "        'C': reciprocal(20, 200000),\n",
        "        'gamma': expon(scale=1.0),\n",
        "    }\n",
        "\n",
        "svm_reg = SVR()\n",
        "rnd_search = RandomizedSearchCV(svm_reg, param_distributions=param_distribs,\n",
        "                                n_iter=50, cv=5, scoring='neg_mean_squared_error',\n",
        "                                verbose=2, random_state=42)\n",
        "rnd_search.fit(housing_prepared, housing_labels)"
      ]
    },
    {
      "cell_type": "markdown",
      "metadata": {
        "id": "L81vOIcHMLD4"
      },
      "source": [
        "최상 모델의 (5-폴드 교차 검증으로 평가한) 점수는 다음과 같습니다:"
      ]
    },
    {
      "cell_type": "code",
      "execution_count": null,
      "metadata": {
        "id": "4G_0nGXfMLD4"
      },
      "outputs": [],
      "source": [
        "negative_mse = rnd_search.best_score_\n",
        "rmse = np.sqrt(-negative_mse)\n",
        "rmse"
      ]
    },
    {
      "cell_type": "markdown",
      "metadata": {
        "id": "qv39A1OTMLD5"
      },
      "source": [
        "이제 `RandomForestRegressor`의 성능에 훨씬 가까워졌습니다(하지만 아직 차이가 납니다). 최상의 하이퍼파라미터를 확인해 보겠습니다:"
      ]
    },
    {
      "cell_type": "code",
      "execution_count": null,
      "metadata": {
        "id": "HpRZa8WhMLD5"
      },
      "outputs": [],
      "source": [
        "rnd_search.best_params_"
      ]
    },
    {
      "cell_type": "markdown",
      "metadata": {
        "id": "PD5SuTOKMLD5"
      },
      "source": [
        "이번에는 RBF 커널에 대해 최적의 하이퍼파라미터 조합을 찾았습니다. 보통 랜덤서치가 같은 시간안에 그리드서치보다 더 좋은 하이퍼파라미터를 찾습니다."
      ]
    },
    {
      "cell_type": "markdown",
      "metadata": {
        "id": "RijXiH0IMLD5"
      },
      "source": [
        "여기서 사용된 `scale=1.0`인 지수 분포를 살펴보겠습니다. 일부 샘플은 1.0보다 아주 크거나 작습니다. 하지만 로그 분포를 보면 대부분의 값이 exp(-2)와 exp(+2), 즉 0.1과 7.4 사이에 집중되어 있음을 알 수 있습니다."
      ]
    },
    {
      "cell_type": "code",
      "execution_count": null,
      "metadata": {
        "id": "PZ8049tzMLD5"
      },
      "outputs": [],
      "source": [
        "expon_distrib = expon(scale=1.)\n",
        "samples = expon_distrib.rvs(10000, random_state=42)\n",
        "plt.figure(figsize=(10, 4))\n",
        "plt.subplot(121)\n",
        "plt.title(\"Exponential distribution (scale=1.0)\")\n",
        "plt.hist(samples, bins=50)\n",
        "plt.subplot(122)\n",
        "plt.title(\"Log of this distribution\")\n",
        "plt.hist(np.log(samples), bins=50)\n",
        "plt.show()"
      ]
    },
    {
      "cell_type": "markdown",
      "metadata": {
        "id": "m0o7CLPnMLD5"
      },
      "source": [
        "`C`에 사용된 분포는 매우 다릅니다. 주어진 범위안에서 균등 분포로 샘플링됩니다. 그래서 오른쪽 로그 분포가 거의 일정하게 나타납니다. 이런 분포는 원하는 스케일이 정확이 무엇인지 모를 때 사용하면 좋습니다:"
      ]
    },
    {
      "cell_type": "code",
      "execution_count": null,
      "metadata": {
        "id": "TlSXPsUGMLD6"
      },
      "outputs": [],
      "source": [
        "reciprocal_distrib = reciprocal(20, 200000)\n",
        "samples = reciprocal_distrib.rvs(10000, random_state=42)\n",
        "plt.figure(figsize=(10, 4))\n",
        "plt.subplot(121)\n",
        "plt.title(\"Reciprocal distribution (scale=1.0)\")\n",
        "plt.hist(samples, bins=50)\n",
        "plt.subplot(122)\n",
        "plt.title(\"Log of this distribution\")\n",
        "plt.hist(np.log(samples), bins=50)\n",
        "plt.show()"
      ]
    },
    {
      "cell_type": "markdown",
      "metadata": {
        "id": "hf7zNcyoMLD6"
      },
      "source": [
        "`reciprocal()` 함수는 하이퍼파라미터의 스케일에 대해 전혀 감을 잡을 수 없을 때 사용합니다(오른쪽 그래프에서 볼 수 있듯이 주어진 범위안에서 모든 값이 균등합니다). 반면 지수 분포는 하이퍼파라미터의 스케일을 (어느정도) 알고 있을 때 사용하는 것이 좋습니다."
      ]
    },
    {
      "cell_type": "markdown",
      "metadata": {
        "id": "Z8BEF4D7MLD6"
      },
      "source": [
        "## 3."
      ]
    },
    {
      "cell_type": "markdown",
      "metadata": {
        "id": "UJD_7c8MMLD6"
      },
      "source": [
        "질문: 가장 중요한 특성을 선택하는 변환기를 준비 파이프라인에 추가해보세요."
      ]
    },
    {
      "cell_type": "code",
      "execution_count": null,
      "metadata": {
        "id": "hRqS3j95MLD6"
      },
      "outputs": [],
      "source": [
        "from sklearn.base import BaseEstimator, TransformerMixin\n",
        "\n",
        "def indices_of_top_k(arr, k):\n",
        "    return np.sort(np.argpartition(np.array(arr), -k)[-k:])\n",
        "\n",
        "class TopFeatureSelector(BaseEstimator, TransformerMixin):\n",
        "    def __init__(self, feature_importances, k):\n",
        "        self.feature_importances = feature_importances\n",
        "        self.k = k\n",
        "    def fit(self, X, y=None):\n",
        "        self.feature_indices_ = indices_of_top_k(self.feature_importances, self.k)\n",
        "        return self\n",
        "    def transform(self, X):\n",
        "        return X[:, self.feature_indices_]"
      ]
    },
    {
      "cell_type": "markdown",
      "metadata": {
        "id": "GNGCnDaGMLD7"
      },
      "source": [
        "노트: 이 특성 선택 클래스는 이미 어떤 식으로든 특성 중요도를 계산했다고 가정합니다(가령 `RandomForestRegressor`을 사용하여). `TopFeatureSelector`의 `fit()` 메서드에서 직접 계산할 수도 있지만 (캐싱을 사용하지 않을 경우) 그리드서치나 랜덤서치의 모든 하이퍼파라미터 조합에 대해 계산이 일어나기 때문에 매우 느려집니다."
      ]
    },
    {
      "cell_type": "markdown",
      "metadata": {
        "id": "xKsZuZisMLD7"
      },
      "source": [
        "선택할 특성의 개수를 지정합니다:"
      ]
    },
    {
      "cell_type": "code",
      "execution_count": null,
      "metadata": {
        "id": "YVVuG0ouMLD7"
      },
      "outputs": [],
      "source": [
        "k = 5"
      ]
    },
    {
      "cell_type": "markdown",
      "metadata": {
        "id": "13tGoQz_MLD7"
      },
      "source": [
        "최상의 k개 특성의 인덱스를 확인해 보겠습니다:"
      ]
    },
    {
      "cell_type": "code",
      "execution_count": null,
      "metadata": {
        "id": "5oFo7Vw-MLD7"
      },
      "outputs": [],
      "source": [
        "top_k_feature_indices = indices_of_top_k(feature_importances, k)\n",
        "top_k_feature_indices"
      ]
    },
    {
      "cell_type": "code",
      "execution_count": null,
      "metadata": {
        "id": "7pHxPog-MLD7"
      },
      "outputs": [],
      "source": [
        "np.array(attributes)[top_k_feature_indices]"
      ]
    },
    {
      "cell_type": "markdown",
      "metadata": {
        "id": "LiL264Y2MLD7"
      },
      "source": [
        "최상의 k개 특성이 맞는지 다시 확인합니다:"
      ]
    },
    {
      "cell_type": "code",
      "execution_count": null,
      "metadata": {
        "id": "pfpLfHfAMLD8"
      },
      "outputs": [],
      "source": [
        "sorted(zip(feature_importances, attributes), reverse=True)[:k]"
      ]
    },
    {
      "cell_type": "markdown",
      "metadata": {
        "id": "6_vfe1-9MLD8"
      },
      "source": [
        "좋습니다. 이제 이전에 정의한 준비 파이프라인과 특성 선택기를 추가한 새로운 파이프라인을 만듭니다:"
      ]
    },
    {
      "cell_type": "code",
      "execution_count": null,
      "metadata": {
        "id": "JUI3GUmdMLD8"
      },
      "outputs": [],
      "source": [
        "preparation_and_feature_selection_pipeline = Pipeline([\n",
        "    ('preparation', full_pipeline),\n",
        "    ('feature_selection', TopFeatureSelector(feature_importances, k))\n",
        "])"
      ]
    },
    {
      "cell_type": "code",
      "execution_count": null,
      "metadata": {
        "id": "WaAXU2qQMLD8"
      },
      "outputs": [],
      "source": [
        "housing_prepared_top_k_features = preparation_and_feature_selection_pipeline.fit_transform(housing)"
      ]
    },
    {
      "cell_type": "markdown",
      "metadata": {
        "id": "5-ar6GZeMLD8"
      },
      "source": [
        "처음 3개 샘플의 특성을 확인해 보겠습니다:"
      ]
    },
    {
      "cell_type": "code",
      "execution_count": null,
      "metadata": {
        "id": "olCGJCegMLD8"
      },
      "outputs": [],
      "source": [
        "housing_prepared_top_k_features[0:3]"
      ]
    },
    {
      "cell_type": "markdown",
      "metadata": {
        "id": "q_cxYylOMLD8"
      },
      "source": [
        "최상의 k개 특성이 맞는지 다시 확인합니다:"
      ]
    },
    {
      "cell_type": "code",
      "execution_count": null,
      "metadata": {
        "id": "LkahitqZMLD9"
      },
      "outputs": [],
      "source": [
        "housing_prepared[0:3, top_k_feature_indices]"
      ]
    },
    {
      "cell_type": "markdown",
      "metadata": {
        "id": "uDSGUFtnMLD9"
      },
      "source": [
        "성공입니다!  :)"
      ]
    },
    {
      "cell_type": "markdown",
      "metadata": {
        "id": "rRthmROkMLD9"
      },
      "source": [
        "## 4."
      ]
    },
    {
      "cell_type": "markdown",
      "metadata": {
        "id": "EYExHSOkMLD9"
      },
      "source": [
        "질문: 전체 데이터 준비 과정과 최종 예측을 하나의 파이프라인으로 만들어보세요."
      ]
    },
    {
      "cell_type": "code",
      "execution_count": null,
      "metadata": {
        "id": "UVZFaLUoMLD9"
      },
      "outputs": [],
      "source": [
        "prepare_select_and_predict_pipeline = Pipeline([\n",
        "    ('preparation', full_pipeline),\n",
        "    ('feature_selection', TopFeatureSelector(feature_importances, k)),\n",
        "    ('svm_reg', SVR(**rnd_search.best_params_))\n",
        "])"
      ]
    },
    {
      "cell_type": "code",
      "execution_count": null,
      "metadata": {
        "id": "9nlcvsY3MLD9"
      },
      "outputs": [],
      "source": [
        "prepare_select_and_predict_pipeline.fit(housing, housing_labels)"
      ]
    },
    {
      "cell_type": "markdown",
      "metadata": {
        "id": "lxJkUxaJMLD-"
      },
      "source": [
        "몇 개의 샘플에 전체 파이프라인을 적용해 보겠습니다:"
      ]
    },
    {
      "cell_type": "code",
      "execution_count": null,
      "metadata": {
        "id": "Do1Bf7P6MLD-"
      },
      "outputs": [],
      "source": [
        "some_data = housing.iloc[:4]\n",
        "some_labels = housing_labels.iloc[:4]\n",
        "\n",
        "print(\"Predictions:\\t\", prepare_select_and_predict_pipeline.predict(some_data))\n",
        "print(\"Labels:\\t\\t\", list(some_labels))"
      ]
    },
    {
      "cell_type": "markdown",
      "metadata": {
        "id": "BPGUWwkNMLD-"
      },
      "source": [
        "전체 파이프라인이 잘 작동하는 것 같습니다. 물론 예측 성능이 아주 좋지는 않습니다. `SVR`보다 `RandomForestRegressor`가 더 나은 것 같습니다."
      ]
    },
    {
      "cell_type": "markdown",
      "metadata": {
        "id": "ElyArBdPMLD-"
      },
      "source": [
        "## 5."
      ]
    },
    {
      "cell_type": "markdown",
      "metadata": {
        "id": "qPUfUuQDMLD-"
      },
      "source": [
        "질문: `GridSearchCV`를 사용해 준비 단계의 옵션을 자동으로 탐색해보세요.\n",
        "\n",
        "**경고**: 사용하는 하드웨어에 따라 다음 셀을 실행하는데 45분 또는 그 이상 걸릴 수 있습니다."
      ]
    },
    {
      "cell_type": "code",
      "execution_count": null,
      "metadata": {
        "id": "849FABmXMLD_"
      },
      "outputs": [],
      "source": [
        "param_grid = [{\n",
        "    'preparation__num__imputer__strategy': ['mean', 'median', 'most_frequent'],\n",
        "    'feature_selection__k': list(range(1, len(feature_importances) + 1))\n",
        "}]\n",
        "\n",
        "grid_search_prep = GridSearchCV(prepare_select_and_predict_pipeline, param_grid, cv=5,\n",
        "                                scoring='neg_mean_squared_error', verbose=2)\n",
        "grid_search_prep.fit(housing, housing_labels)"
      ]
    },
    {
      "cell_type": "code",
      "execution_count": null,
      "metadata": {
        "id": "MsPmpIkEMLD_"
      },
      "outputs": [],
      "source": [
        "grid_search_prep.best_params_"
      ]
    },
    {
      "cell_type": "markdown",
      "metadata": {
        "id": "cWTdizpmMLD_"
      },
      "source": [
        "최상의 `Imputer` 정책은 `most_frequent`이고 거의 모든 특성이 유용합니다(16개 중 15개). 마지막 특성(`ISLAND`)은 잡음이 추가될 뿐입니다."
      ]
    },
    {
      "cell_type": "markdown",
      "metadata": {
        "id": "09XDpVi6MLD_"
      },
      "source": [
        "축하합니다! 이제 머신러닝에 대해 꽤 많은 것을 알게 되었습니다. :)"
      ]
    }
  ],
  "metadata": {
    "colab": {
      "provenance": [],
      "include_colab_link": true
    },
    "kernelspec": {
      "display_name": "TensorFlow 2.4 on Python 3.8 & CUDA 11.1",
      "language": "python",
      "name": "python3"
    },
    "language_info": {
      "codemirror_mode": {
        "name": "ipython",
        "version": 3
      },
      "file_extension": ".py",
      "mimetype": "text/x-python",
      "name": "python",
      "nbconvert_exporter": "python",
      "pygments_lexer": "ipython3",
      "version": "3.8.7"
    },
    "nav_menu": {
      "height": "279px",
      "width": "309px"
    },
    "toc": {
      "nav_menu": {},
      "number_sections": true,
      "sideBar": true,
      "skip_h1_title": false,
      "toc_cell": false,
      "toc_position": {},
      "toc_section_display": "block",
      "toc_window_display": false
    }
  },
  "nbformat": 4,
  "nbformat_minor": 0
}
