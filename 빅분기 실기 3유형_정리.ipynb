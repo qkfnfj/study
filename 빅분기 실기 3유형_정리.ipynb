{
 "cells": [
  {
   "cell_type": "code",
   "execution_count": 1,
   "id": "9a51bbe7",
   "metadata": {},
   "outputs": [],
   "source": [
    "import pandas as pd\n",
    "import numpy as np"
   ]
  },
  {
   "cell_type": "markdown",
   "id": "43dba1fe",
   "metadata": {},
   "source": [
    "# 모평균 검정(모집단 1개)"
   ]
  },
  {
   "cell_type": "code",
   "execution_count": 2,
   "id": "f77c2dbc",
   "metadata": {},
   "outputs": [],
   "source": [
    "# 데이터셋 mpg평균이 20과 같다고 할 수 있는지?\n",
    "df = pd.read_csv(\"mtcars.csv\")"
   ]
  },
  {
   "cell_type": "code",
   "execution_count": 3,
   "id": "4923182e",
   "metadata": {},
   "outputs": [],
   "source": [
    "import scipy.stats as stats\n",
    "from scipy.stats import shapiro"
   ]
  },
  {
   "cell_type": "code",
   "execution_count": 5,
   "id": "07ec0eaa",
   "metadata": {},
   "outputs": [
    {
     "name": "stdout",
     "output_type": "stream",
     "text": [
      "0.9476 0.1229\n"
     ]
    }
   ],
   "source": [
    "# 정규성 검정\n",
    "statistic, pvalue = stats.shapiro(df['mpg'])\n",
    "print(round(statistic,4),round(pvalue,4))"
   ]
  },
  {
   "cell_type": "code",
   "execution_count": 6,
   "id": "0acf6691",
   "metadata": {},
   "outputs": [
    {
     "name": "stdout",
     "output_type": "stream",
     "text": [
      "0.0851 0.9328\n"
     ]
    }
   ],
   "source": [
    "# 정규성 만족\n",
    "statistic, pvalue = stats.ttest_1samp(df['mpg'], popmean=20, alternative='two-sided')\n",
    "                                                            # 보다 크다 : 'greater'\n",
    "                                                            # 보다 작다 : 'less'\n",
    "print(round(statistic,4),round(pvalue,4))"
   ]
  },
  {
   "cell_type": "code",
   "execution_count": 7,
   "id": "43904aea",
   "metadata": {},
   "outputs": [
    {
     "name": "stdout",
     "output_type": "stream",
     "text": [
      "249.0 0.7891\n"
     ]
    }
   ],
   "source": [
    "# 정규성 불만족\n",
    "statistic, pvalue = stats.wilcoxon(df['mpg']-20, alternative = 'two-sided')\n",
    "print(round(statistic,4),round(pvalue,4))"
   ]
  },
  {
   "cell_type": "markdown",
   "id": "1efe69f8",
   "metadata": {},
   "source": [
    "# 모평균 검정(모집단 2개-쌍체)"
   ]
  },
  {
   "cell_type": "code",
   "execution_count": 8,
   "id": "abd4a0e1",
   "metadata": {},
   "outputs": [],
   "source": [
    "# 혈압약 먹기 전,후의 차이\n",
    "df = pd.DataFrame({\n",
    "    'before': [120, 135, 122, 124, 135, 122, 145, 160, 155, 142, 144, 135, 167],\n",
    "    'after': [110, 132, 123, 119, 123, 115, 140, 162, 142, 138, 135, 142, 160]})"
   ]
  },
  {
   "cell_type": "code",
   "execution_count": 9,
   "id": "541f2ffe",
   "metadata": {},
   "outputs": [],
   "source": [
    "import scipy.stats as stats\n",
    "from scipy.stats import shapiro"
   ]
  },
  {
   "cell_type": "code",
   "execution_count": 10,
   "id": "db67d11a",
   "metadata": {},
   "outputs": [
    {
     "name": "stdout",
     "output_type": "stream",
     "text": [
      "0.9589 0.7363\n"
     ]
    }
   ],
   "source": [
    "# 정규성 검정\n",
    "statistic, pvalue = stats.shapiro(df['after']-df['before'])\n",
    "print(round(statistic,4), round(pvalue,4))"
   ]
  },
  {
   "cell_type": "code",
   "execution_count": 12,
   "id": "93e36b33",
   "metadata": {},
   "outputs": [
    {
     "name": "stdout",
     "output_type": "stream",
     "text": [
      "-3.1382 0.0086\n"
     ]
    }
   ],
   "source": [
    "# 정규성 만족\n",
    "statistic, pvalue = stats.ttest_rel(df['after'],df['before'],alternative = 'two-sided')\n",
    "                                                               # 보다 크다 : 'greater'\n",
    "                                                               # 보다 작다 : 'less'\n",
    "print(round(statistic,4),round(pvalue,4))"
   ]
  },
  {
   "cell_type": "code",
   "execution_count": 13,
   "id": "95adb6b9",
   "metadata": {},
   "outputs": [
    {
     "name": "stdout",
     "output_type": "stream",
     "text": [
      "11.0 0.0134\n"
     ]
    }
   ],
   "source": [
    "# 정규성 불만족\n",
    "statistic, pvalue = stats.wilcoxon(df['after']-df['before'],alternative='two-sided')\n",
    "print(round(statistic,4),round(pvalue,4))"
   ]
  },
  {
   "cell_type": "markdown",
   "id": "c7957ff4",
   "metadata": {},
   "source": [
    "# 모평균 검정(모집단 2개-2sample)"
   ]
  },
  {
   "cell_type": "code",
   "execution_count": 14,
   "id": "db09222e",
   "metadata": {},
   "outputs": [],
   "source": [
    "# 두 그룹의 혈압평균이 다르다고 할 수 있는지?\n",
    "df = pd.DataFrame({\n",
    "    'A': [120, 135, 122, 124, 135, 122, 145, 160, 155, 142, 144, 135, 167],\n",
    "    'B': [110, 132, 123, 119, 123, 115, 140, 162, 142, 138, 135, 142, 160]})"
   ]
  },
  {
   "cell_type": "code",
   "execution_count": 28,
   "id": "3373f702",
   "metadata": {},
   "outputs": [],
   "source": [
    "import scipy.stats as stats\n",
    "from scipy.stats import shapiro"
   ]
  },
  {
   "cell_type": "code",
   "execution_count": 15,
   "id": "df31afe4",
   "metadata": {},
   "outputs": [
    {
     "name": "stdout",
     "output_type": "stream",
     "text": [
      "0.9314 0.3559\n",
      "0.9498 0.5956\n"
     ]
    }
   ],
   "source": [
    "# 정규성 검정\n",
    "statisticA, pvalueA = stats.shapiro(df['A'])\n",
    "statisticB, pvalueB = stats.shapiro(df['B'])\n",
    "\n",
    "print(round(statisticA,4),round(pvalueA,4))\n",
    "print(round(statisticB,4),round(pvalueB,4))"
   ]
  },
  {
   "cell_type": "code",
   "execution_count": 17,
   "id": "877ed303",
   "metadata": {},
   "outputs": [
    {
     "name": "stdout",
     "output_type": "stream",
     "text": [
      "0.0279 0.8673\n"
     ]
    }
   ],
   "source": [
    "# 등분산성 검정\n",
    "statistic, pvalue = stats.bartlett(df['A'],df['B'])\n",
    "print(round(statistic,4),round(pvalue,4))"
   ]
  },
  {
   "cell_type": "code",
   "execution_count": 19,
   "id": "da19351d",
   "metadata": {},
   "outputs": [
    {
     "name": "stdout",
     "output_type": "stream",
     "text": [
      "0.8192 0.4207\n"
     ]
    }
   ],
   "source": [
    "# 정규성 만족, 등분산성 만족/불만족\n",
    "statistic, pvalue = stats.ttest_ind(df['A'],df['B'],\n",
    "                                   equal_var = True,     # 등분산 불만족 : False\n",
    "                                   alternative = 'two-sided')\n",
    "print(round(statistic,4),round(pvalue,4))"
   ]
  },
  {
   "cell_type": "code",
   "execution_count": 21,
   "id": "89dfb341",
   "metadata": {},
   "outputs": [
    {
     "name": "stdout",
     "output_type": "stream",
     "text": [
      "0.8462 0.3975\n"
     ]
    }
   ],
   "source": [
    "# 정규성 불만족\n",
    "statistic, pvalue = stats.ranksums(df['A'],df['B'],alternative = 'two-sided')\n",
    "print(round(statistic,4),round(pvalue,4))"
   ]
  },
  {
   "cell_type": "markdown",
   "id": "3ccf56b4",
   "metadata": {},
   "source": [
    "# 모평균 검정(모집단 3개)"
   ]
  },
  {
   "cell_type": "code",
   "execution_count": 22,
   "id": "81829fa7",
   "metadata": {},
   "outputs": [],
   "source": [
    "# 세 그룹의 성적 평균이 같다고 할 수 있는지?\n",
    "df = pd.DataFrame({\n",
    "    'A': [120, 135, 122, 124, 135, 122, 145, 160, 155, 142, 144, 135, 167],\n",
    "    'B': [110, 132, 123, 119, 123, 115, 140, 162, 142, 138, 135, 142, 160],\n",
    "    'C': [130, 120, 115, 122, 133, 144, 122, 120, 110, 134, 125, 122, 122]})"
   ]
  },
  {
   "cell_type": "code",
   "execution_count": 29,
   "id": "8e98630c",
   "metadata": {},
   "outputs": [],
   "source": [
    "import scipy.stats as stats\n",
    "from scipy.stats import shapiro"
   ]
  },
  {
   "cell_type": "code",
   "execution_count": 23,
   "id": "762f9ac7",
   "metadata": {},
   "outputs": [
    {
     "name": "stdout",
     "output_type": "stream",
     "text": [
      "ShapiroResult(statistic=0.9314376711845398, pvalue=0.35585272312164307)\n",
      "ShapiroResult(statistic=0.9498201012611389, pvalue=0.5955665707588196)\n",
      "ShapiroResult(statistic=0.9396706223487854, pvalue=0.45265132188796997)\n"
     ]
    }
   ],
   "source": [
    "# 정규성 검정\n",
    "print(stats.shapiro(df['A']))\n",
    "print(stats.shapiro(df['B']))\n",
    "print(stats.shapiro(df['C']))"
   ]
  },
  {
   "cell_type": "code",
   "execution_count": 24,
   "id": "a32e4f20",
   "metadata": {},
   "outputs": [
    {
     "name": "stdout",
     "output_type": "stream",
     "text": [
      "BartlettResult(statistic=4.222248448848066, pvalue=0.12110174433684852)\n"
     ]
    }
   ],
   "source": [
    "# 등분산성 검정\n",
    "print(stats.bartlett(df['A'],df['B'],df['C']))"
   ]
  },
  {
   "cell_type": "code",
   "execution_count": 25,
   "id": "28a01183",
   "metadata": {},
   "outputs": [
    {
     "name": "stdout",
     "output_type": "stream",
     "text": [
      "3.6971 0.0346\n"
     ]
    }
   ],
   "source": [
    "# 정규성 만족, 등분산성 만족\n",
    "statistic, pvalue = stats.f_oneway(df['A'],df['B'],df['C'])\n",
    "print(round(statistic,4),round(pvalue,4))"
   ]
  },
  {
   "cell_type": "code",
   "execution_count": 26,
   "id": "2c8ca8af",
   "metadata": {},
   "outputs": [
    {
     "name": "stdout",
     "output_type": "stream",
     "text": [
      "6.897 0.0318\n"
     ]
    }
   ],
   "source": [
    "# 정규성 불만족\n",
    "statistic, pvalue = stats.kruskal(df['A'],df['B'],df['C'])\n",
    "print(round(statistic,4),round(pvalue,4))"
   ]
  },
  {
   "cell_type": "markdown",
   "id": "a00345a6",
   "metadata": {},
   "source": [
    "# 카이제곱 검정"
   ]
  },
  {
   "cell_type": "code",
   "execution_count": 30,
   "id": "b870feb3",
   "metadata": {},
   "outputs": [],
   "source": [
    "# 동일한 비욜로 들어있다고 할 수 있는지?(각 범주에 속할 확률이 같은지?)\n",
    "row1 = [30, 20, 15, 35]\n",
    "df = pd.DataFrame([row1], columns=['A','B','C','D'])"
   ]
  },
  {
   "cell_type": "code",
   "execution_count": 32,
   "id": "a50cf460",
   "metadata": {},
   "outputs": [],
   "source": [
    "from scipy.stats import chisquare"
   ]
  },
  {
   "cell_type": "code",
   "execution_count": 35,
   "id": "0c102d24",
   "metadata": {
    "scrolled": true
   },
   "outputs": [
    {
     "name": "stdout",
     "output_type": "stream",
     "text": [
      "10.0\n",
      "0.01856613546304325\n"
     ]
    }
   ],
   "source": [
    "# 검정\n",
    "f_obs = [30,20,15,35]\n",
    "f_exp = [25,25,25,25]\n",
    "# 동일한 비율이 아닐 때(30%, 10%, 35%, 20%)\n",
    "# a = 100*0.3\n",
    "# b = 100*0.1\n",
    "# c = 100*0.35\n",
    "# d = 100*0.2\n",
    "# f_exp = [a,b,c,d]\n",
    "\n",
    "statistic , pvalue = chisquare(f_obs=f_obs, f_exp=f_exp)\n",
    "print(statistic) \n",
    "print(pvalue)"
   ]
  },
  {
   "cell_type": "code",
   "execution_count": 36,
   "id": "76648eca",
   "metadata": {},
   "outputs": [],
   "source": [
    "# 차이가 있는지?(두 개의 범주형 변수가 서로 독립인지?)\n",
    "row1, row2 = [200,190,250], [220,250,300]\n",
    "df = pd.DataFrame([row1, row2], columns=['딸기','초코','바닐라'], index=['10대','20대'])"
   ]
  },
  {
   "cell_type": "code",
   "execution_count": 37,
   "id": "0dd89dab",
   "metadata": {},
   "outputs": [
    {
     "name": "stdout",
     "output_type": "stream",
     "text": [
      "1.708360126075226\n",
      "0.4256320394874311\n",
      "2\n",
      "[[190.64 199.72 249.65]\n",
      " [229.36 240.28 300.35]]\n"
     ]
    }
   ],
   "source": [
    "from scipy.stats import chi2_contingency\n",
    "statistic, pvalue, dof, expected = chi2_contingency(df)\n",
    "\n",
    "print(statistic)\n",
    "print(pvalue)\n",
    "print(dof)\n",
    "print(np.round(expected,2))"
   ]
  },
  {
   "cell_type": "code",
   "execution_count": 38,
   "id": "d83d083c",
   "metadata": {},
   "outputs": [
    {
     "data": {
      "text/html": [
       "<div>\n",
       "<style scoped>\n",
       "    .dataframe tbody tr th:only-of-type {\n",
       "        vertical-align: middle;\n",
       "    }\n",
       "\n",
       "    .dataframe tbody tr th {\n",
       "        vertical-align: top;\n",
       "    }\n",
       "\n",
       "    .dataframe thead th {\n",
       "        text-align: right;\n",
       "    }\n",
       "</style>\n",
       "<table border=\"1\" class=\"dataframe\">\n",
       "  <thead>\n",
       "    <tr style=\"text-align: right;\">\n",
       "      <th></th>\n",
       "      <th>아이스크림</th>\n",
       "      <th>연령</th>\n",
       "      <th>인원</th>\n",
       "    </tr>\n",
       "  </thead>\n",
       "  <tbody>\n",
       "    <tr>\n",
       "      <th>0</th>\n",
       "      <td>딸기</td>\n",
       "      <td>10대</td>\n",
       "      <td>200</td>\n",
       "    </tr>\n",
       "    <tr>\n",
       "      <th>1</th>\n",
       "      <td>초코</td>\n",
       "      <td>10대</td>\n",
       "      <td>190</td>\n",
       "    </tr>\n",
       "    <tr>\n",
       "      <th>2</th>\n",
       "      <td>바닐라</td>\n",
       "      <td>10대</td>\n",
       "      <td>250</td>\n",
       "    </tr>\n",
       "    <tr>\n",
       "      <th>3</th>\n",
       "      <td>딸기</td>\n",
       "      <td>20대</td>\n",
       "      <td>220</td>\n",
       "    </tr>\n",
       "    <tr>\n",
       "      <th>4</th>\n",
       "      <td>초코</td>\n",
       "      <td>20대</td>\n",
       "      <td>250</td>\n",
       "    </tr>\n",
       "    <tr>\n",
       "      <th>5</th>\n",
       "      <td>바닐라</td>\n",
       "      <td>20대</td>\n",
       "      <td>300</td>\n",
       "    </tr>\n",
       "  </tbody>\n",
       "</table>\n",
       "</div>"
      ],
      "text/plain": [
       "  아이스크림   연령   인원\n",
       "0    딸기  10대  200\n",
       "1    초코  10대  190\n",
       "2   바닐라  10대  250\n",
       "3    딸기  20대  220\n",
       "4    초코  20대  250\n",
       "5   바닐라  20대  300"
      ]
     },
     "execution_count": 38,
     "metadata": {},
     "output_type": "execute_result"
    }
   ],
   "source": [
    "# 교차표 형태가 아닐 경우\n",
    "df = pd.DataFrame({\n",
    "    '아이스크림' : ['딸기','초코','바닐라','딸기','초코','바닐라'],\n",
    "    '연령' : ['10대','10대','10대','20대','20대','20대'],\n",
    "    '인원' : [200,190,250,220,250,300]\n",
    "})\n",
    "df"
   ]
  },
  {
   "cell_type": "code",
   "execution_count": 39,
   "id": "48064ff5",
   "metadata": {},
   "outputs": [
    {
     "data": {
      "text/html": [
       "<div>\n",
       "<style scoped>\n",
       "    .dataframe tbody tr th:only-of-type {\n",
       "        vertical-align: middle;\n",
       "    }\n",
       "\n",
       "    .dataframe tbody tr th {\n",
       "        vertical-align: top;\n",
       "    }\n",
       "\n",
       "    .dataframe thead th {\n",
       "        text-align: right;\n",
       "    }\n",
       "</style>\n",
       "<table border=\"1\" class=\"dataframe\">\n",
       "  <thead>\n",
       "    <tr style=\"text-align: right;\">\n",
       "      <th>아이스크림</th>\n",
       "      <th>딸기</th>\n",
       "      <th>바닐라</th>\n",
       "      <th>초코</th>\n",
       "    </tr>\n",
       "    <tr>\n",
       "      <th>연령</th>\n",
       "      <th></th>\n",
       "      <th></th>\n",
       "      <th></th>\n",
       "    </tr>\n",
       "  </thead>\n",
       "  <tbody>\n",
       "    <tr>\n",
       "      <th>10대</th>\n",
       "      <td>200</td>\n",
       "      <td>250</td>\n",
       "      <td>190</td>\n",
       "    </tr>\n",
       "    <tr>\n",
       "      <th>20대</th>\n",
       "      <td>220</td>\n",
       "      <td>300</td>\n",
       "      <td>250</td>\n",
       "    </tr>\n",
       "  </tbody>\n",
       "</table>\n",
       "</div>"
      ],
      "text/plain": [
       "아이스크림   딸기  바닐라   초코\n",
       "연령                  \n",
       "10대    200  250  190\n",
       "20대    220  300  250"
      ]
     },
     "execution_count": 39,
     "metadata": {},
     "output_type": "execute_result"
    }
   ],
   "source": [
    "table = pd.crosstab(index=df['연령'],columns=df['아이스크림'],values=df['인원'],aggfunc=sum)\n",
    "table"
   ]
  },
  {
   "cell_type": "markdown",
   "id": "ad881ca3",
   "metadata": {},
   "source": [
    "# 다중회귀분석"
   ]
  },
  {
   "cell_type": "code",
   "execution_count": 40,
   "id": "afc08aff",
   "metadata": {},
   "outputs": [],
   "source": [
    "from sklearn.datasets import load_diabetes\n",
    "\n",
    "diabetes = load_diabetes()\n",
    "x = pd.DataFrame(diabetes.data, columns = diabetes.feature_names)\n",
    "y = pd.DataFrame(diabetes.target)\n",
    "y.columns = ['target']"
   ]
  },
  {
   "cell_type": "code",
   "execution_count": 42,
   "id": "26fc95bd",
   "metadata": {},
   "outputs": [],
   "source": [
    "x = x[['age','sex','bmi']]\n",
    "y = y['target']"
   ]
  },
  {
   "cell_type": "code",
   "execution_count": 43,
   "id": "435b9ff2",
   "metadata": {},
   "outputs": [
    {
     "name": "stdout",
     "output_type": "stream",
     "text": [
      "                            OLS Regression Results                            \n",
      "==============================================================================\n",
      "Dep. Variable:                 target   R-squared:                       0.351\n",
      "Model:                            OLS   Adj. R-squared:                  0.346\n",
      "Method:                 Least Squares   F-statistic:                     78.94\n",
      "Date:                Tue, 28 Nov 2023   Prob (F-statistic):           7.77e-41\n",
      "Time:                        17:15:23   Log-Likelihood:                -2451.6\n",
      "No. Observations:                 442   AIC:                             4911.\n",
      "Df Residuals:                     438   BIC:                             4928.\n",
      "Df Model:                           3                                         \n",
      "Covariance Type:            nonrobust                                         \n",
      "==============================================================================\n",
      "                 coef    std err          t      P>|t|      [0.025      0.975]\n",
      "------------------------------------------------------------------------------\n",
      "const        152.1335      2.964     51.321      0.000     146.307     157.960\n",
      "age          138.9039     64.254      2.162      0.031      12.618     265.189\n",
      "sex          -36.1353     63.391     -0.570      0.569    -160.724      88.453\n",
      "bmi          926.9120     63.525     14.591      0.000     802.061    1051.763\n",
      "==============================================================================\n",
      "Omnibus:                       14.687   Durbin-Watson:                   1.851\n",
      "Prob(Omnibus):                  0.001   Jarque-Bera (JB):                8.290\n",
      "Skew:                           0.150   Prob(JB):                       0.0158\n",
      "Kurtosis:                       2.400   Cond. No.                         23.7\n",
      "==============================================================================\n",
      "\n",
      "Notes:\n",
      "[1] Standard Errors assume that the covariance matrix of the errors is correctly specified.\n"
     ]
    }
   ],
   "source": [
    "import statsmodels.api as sm\n",
    "x = sm.add_constant(x)\n",
    "model = sm.OLS(y, x).fit()\n",
    "summary = model.summary()\n",
    "print(summary)"
   ]
  },
  {
   "cell_type": "code",
   "execution_count": 44,
   "id": "471d8c7b",
   "metadata": {},
   "outputs": [],
   "source": [
    "# 1. Rsq(결정계수)\n",
    "# r2 = 0.351\n",
    "\n",
    "# 2. 회귀계수\n",
    "# age = 138.9039\n",
    "# sex = -36.1353\n",
    "# bmi = 926.9120\n",
    "\n",
    "# 3. 회귀계수(절편)\n",
    "# const = 152.1335\n",
    "\n",
    "# 4. 회귀식 p-value\n",
    "# pvalue = 7.77e-41"
   ]
  },
  {
   "cell_type": "markdown",
   "id": "9ad3c7fb",
   "metadata": {},
   "source": [
    "# 상관분석"
   ]
  },
  {
   "cell_type": "code",
   "execution_count": 45,
   "id": "ec9b31c9",
   "metadata": {},
   "outputs": [],
   "source": [
    "from sklearn.datasets import load_diabetes\n",
    "\n",
    "diabetes = load_diabetes()\n",
    "x = pd.DataFrame(diabetes.data, columns = diabetes.feature_names)\n",
    "y = pd.DataFrame(diabetes.target)\n",
    "y.columns = ['target']"
   ]
  },
  {
   "cell_type": "code",
   "execution_count": 46,
   "id": "292ca46b",
   "metadata": {},
   "outputs": [],
   "source": [
    "x = x['bmi']\n",
    "y = y['target']"
   ]
  },
  {
   "cell_type": "code",
   "execution_count": 49,
   "id": "69e9d836",
   "metadata": {},
   "outputs": [
    {
     "name": "stdout",
     "output_type": "stream",
     "text": [
      "0.59\n",
      "0.0\n",
      "15.19\n"
     ]
    }
   ],
   "source": [
    "from scipy.stats import pearsonr\n",
    "\n",
    "r, pvalue = pearsonr(x,y)\n",
    "\n",
    "print(round(r,2))    # 상관계수\n",
    "print(round(pvalue,2))\n",
    "# 통계량 : r*root(n-2) / root(1-r^2)\n",
    "\n",
    "n = len(x)\n",
    "statistic = r*((n-2)**0.5) / ((1-r**2)**0.5)\n",
    "print(round(statistic,2))"
   ]
  },
  {
   "cell_type": "markdown",
   "id": "634ea2ab",
   "metadata": {},
   "source": [
    "# 로지스틱 회귀분석"
   ]
  },
  {
   "cell_type": "code",
   "execution_count": 2,
   "id": "ae8afbbb",
   "metadata": {},
   "outputs": [],
   "source": [
    "import seaborn as sns\n",
    "df = sns.load_dataset('titanic')"
   ]
  },
  {
   "cell_type": "code",
   "execution_count": 3,
   "id": "16991d09",
   "metadata": {},
   "outputs": [],
   "source": [
    "df = df[['survived','sex','sibsp','fare']]"
   ]
  },
  {
   "cell_type": "code",
   "execution_count": 4,
   "id": "8ba2027a",
   "metadata": {},
   "outputs": [],
   "source": [
    "# 문자형 데이터타입을 숫자로 변경\n",
    "df['sex'] = df['sex'].map({'female':1,\n",
    "                          'male':0})"
   ]
  },
  {
   "cell_type": "code",
   "execution_count": 5,
   "id": "dda5e632",
   "metadata": {},
   "outputs": [],
   "source": [
    "x = df.drop(['survived'],axis=1)\n",
    "y = df['survived']"
   ]
  },
  {
   "cell_type": "code",
   "execution_count": 6,
   "id": "f287799e",
   "metadata": {},
   "outputs": [
    {
     "data": {
      "text/html": [
       "<div>\n",
       "<style scoped>\n",
       "    .dataframe tbody tr th:only-of-type {\n",
       "        vertical-align: middle;\n",
       "    }\n",
       "\n",
       "    .dataframe tbody tr th {\n",
       "        vertical-align: top;\n",
       "    }\n",
       "\n",
       "    .dataframe thead th {\n",
       "        text-align: right;\n",
       "    }\n",
       "</style>\n",
       "<table border=\"1\" class=\"dataframe\">\n",
       "  <thead>\n",
       "    <tr style=\"text-align: right;\">\n",
       "      <th></th>\n",
       "      <th>sex</th>\n",
       "      <th>sibsp</th>\n",
       "      <th>fare</th>\n",
       "    </tr>\n",
       "  </thead>\n",
       "  <tbody>\n",
       "    <tr>\n",
       "      <th>0</th>\n",
       "      <td>0</td>\n",
       "      <td>1</td>\n",
       "      <td>7.2500</td>\n",
       "    </tr>\n",
       "    <tr>\n",
       "      <th>1</th>\n",
       "      <td>1</td>\n",
       "      <td>1</td>\n",
       "      <td>71.2833</td>\n",
       "    </tr>\n",
       "    <tr>\n",
       "      <th>2</th>\n",
       "      <td>1</td>\n",
       "      <td>0</td>\n",
       "      <td>7.9250</td>\n",
       "    </tr>\n",
       "    <tr>\n",
       "      <th>3</th>\n",
       "      <td>1</td>\n",
       "      <td>1</td>\n",
       "      <td>53.1000</td>\n",
       "    </tr>\n",
       "    <tr>\n",
       "      <th>4</th>\n",
       "      <td>0</td>\n",
       "      <td>0</td>\n",
       "      <td>8.0500</td>\n",
       "    </tr>\n",
       "    <tr>\n",
       "      <th>...</th>\n",
       "      <td>...</td>\n",
       "      <td>...</td>\n",
       "      <td>...</td>\n",
       "    </tr>\n",
       "    <tr>\n",
       "      <th>886</th>\n",
       "      <td>0</td>\n",
       "      <td>0</td>\n",
       "      <td>13.0000</td>\n",
       "    </tr>\n",
       "    <tr>\n",
       "      <th>887</th>\n",
       "      <td>1</td>\n",
       "      <td>0</td>\n",
       "      <td>30.0000</td>\n",
       "    </tr>\n",
       "    <tr>\n",
       "      <th>888</th>\n",
       "      <td>1</td>\n",
       "      <td>1</td>\n",
       "      <td>23.4500</td>\n",
       "    </tr>\n",
       "    <tr>\n",
       "      <th>889</th>\n",
       "      <td>0</td>\n",
       "      <td>0</td>\n",
       "      <td>30.0000</td>\n",
       "    </tr>\n",
       "    <tr>\n",
       "      <th>890</th>\n",
       "      <td>0</td>\n",
       "      <td>0</td>\n",
       "      <td>7.7500</td>\n",
       "    </tr>\n",
       "  </tbody>\n",
       "</table>\n",
       "<p>891 rows × 3 columns</p>\n",
       "</div>"
      ],
      "text/plain": [
       "     sex  sibsp     fare\n",
       "0      0      1   7.2500\n",
       "1      1      1  71.2833\n",
       "2      1      0   7.9250\n",
       "3      1      1  53.1000\n",
       "4      0      0   8.0500\n",
       "..   ...    ...      ...\n",
       "886    0      0  13.0000\n",
       "887    1      0  30.0000\n",
       "888    1      1  23.4500\n",
       "889    0      0  30.0000\n",
       "890    0      0   7.7500\n",
       "\n",
       "[891 rows x 3 columns]"
      ]
     },
     "execution_count": 6,
     "metadata": {},
     "output_type": "execute_result"
    }
   ],
   "source": [
    "x"
   ]
  },
  {
   "cell_type": "code",
   "execution_count": 7,
   "id": "db2b0965",
   "metadata": {},
   "outputs": [
    {
     "name": "stdout",
     "output_type": "stream",
     "text": [
      "Optimization terminated successfully.\n",
      "         Current function value: 0.483846\n",
      "         Iterations 6\n",
      "                           Logit Regression Results                           \n",
      "==============================================================================\n",
      "Dep. Variable:               survived   No. Observations:                  891\n",
      "Model:                          Logit   Df Residuals:                      887\n",
      "Method:                           MLE   Df Model:                            3\n",
      "Date:                Fri, 01 Dec 2023   Pseudo R-squ.:                  0.2734\n",
      "Time:                        21:42:30   Log-Likelihood:                -431.11\n",
      "converged:                       True   LL-Null:                       -593.33\n",
      "Covariance Type:            nonrobust   LLR p-value:                 5.094e-70\n",
      "==============================================================================\n",
      "                 coef    std err          z      P>|z|      [0.025      0.975]\n",
      "------------------------------------------------------------------------------\n",
      "const         -1.6964      0.129    -13.134      0.000      -1.950      -1.443\n",
      "sex            2.5668      0.179     14.321      0.000       2.216       2.918\n",
      "sibsp         -0.4017      0.095     -4.222      0.000      -0.588      -0.215\n",
      "fare           0.0138      0.003      5.367      0.000       0.009       0.019\n",
      "==============================================================================\n"
     ]
    }
   ],
   "source": [
    "import statsmodels.api as sm\n",
    "\n",
    "x = sm.add_constant(x)\n",
    "model = sm.Logit(y, x).fit()\n",
    "summary = model.summary()\n",
    "print(summary)"
   ]
  }
 ],
 "metadata": {
  "kernelspec": {
   "display_name": "Python 3 (ipykernel)",
   "language": "python",
   "name": "python3"
  },
  "language_info": {
   "codemirror_mode": {
    "name": "ipython",
    "version": 3
   },
   "file_extension": ".py",
   "mimetype": "text/x-python",
   "name": "python",
   "nbconvert_exporter": "python",
   "pygments_lexer": "ipython3",
   "version": "3.11.5"
  }
 },
 "nbformat": 4,
 "nbformat_minor": 5
}
